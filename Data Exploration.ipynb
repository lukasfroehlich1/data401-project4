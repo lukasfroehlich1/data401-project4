{
 "cells": [
  {
   "cell_type": "code",
   "execution_count": 1,
   "metadata": {
    "collapsed": true
   },
   "outputs": [],
   "source": [
    "import pandas as pd\n",
    "import numpy as np\n",
    "import glob\n",
    "import csv\n",
    "from collections import defaultdict\n",
    "import re\n",
    "import json"
   ]
  },
  {
   "cell_type": "code",
   "execution_count": null,
   "metadata": {
    "collapsed": true
   },
   "outputs": [],
   "source": []
  },
  {
   "cell_type": "code",
   "execution_count": null,
   "metadata": {
    "collapsed": true
   },
   "outputs": [],
   "source": []
  },
  {
   "cell_type": "code",
   "execution_count": 2,
   "metadata": {
    "collapsed": false
   },
   "outputs": [],
   "source": [
    "election = pd.read_csv(\"US_County_Level_Presidential_Results_08-16.csv\")"
   ]
  },
  {
   "cell_type": "code",
   "execution_count": 3,
   "metadata": {
    "collapsed": false
   },
   "outputs": [],
   "source": [
    "election.dropna(axis=1, inplace=True)"
   ]
  },
  {
   "cell_type": "markdown",
   "metadata": {
    "collapsed": true
   },
   "source": [
    "## Collecting Census Data"
   ]
  },
  {
   "cell_type": "code",
   "execution_count": 4,
   "metadata": {
    "collapsed": false
   },
   "outputs": [],
   "source": [
    "import urllib.request\n",
    "import ast\n",
    "\n",
    "\n",
    "class Census:\n",
    "    def __init__(self, key):\n",
    "        self.key = key\n",
    "\n",
    "    def get(self, fields, geo, year=2012, dataset='sf1'):\n",
    "        fields = [','.join(fields)]\n",
    "        base_url = 'http://api.census.gov/data/%s/%s?key=%s&get=' % (str(year), dataset, self.key)\n",
    "        query = fields\n",
    "        for item in geo:\n",
    "            query.append(item)\n",
    "        add_url = '&'.join(query)\n",
    "        url = base_url + add_url\n",
    "        print(url)\n",
    "        req = urllib.request.Request(url)\n",
    "        response = urllib.request.urlopen(req)\n",
    "        return response.read()"
   ]
  },
  {
   "cell_type": "code",
   "execution_count": 5,
   "metadata": {
    "collapsed": true
   },
   "outputs": [],
   "source": [
    "census = Census('6c3fba83f5ccd2adb2fd3894045431e20e3ec5cb')"
   ]
  },
  {
   "cell_type": "code",
   "execution_count": 6,
   "metadata": {
    "collapsed": false
   },
   "outputs": [],
   "source": [
    "fieldsToGet = dict({\n",
    "    ('ST', 'State FIPS'),\n",
    "    ('COUNTY', 'County FIPS Code'),\n",
    "    ('NAME', 'County Name'),\n",
    "    ('B00002_001E', '# of Housing Units'),\n",
    "    ('B01001_001E', 'Population'),\n",
    "    ('B01001_002E', '# Male'),\n",
    "    ('B01001_026E', '# Female'),\n",
    "    ('B01001A_001E', '# White'),\n",
    "    ('B01001A_002E', '# White Male'),\n",
    "    ('B01001A_017E', '# White Female'),\n",
    "    ('B01001B_001E', '# Black'),\n",
    "    ('B01001B_002E', '# Black Male'),\n",
    "    ('B01001B_017E', '# Black Female'),\n",
    "    ('B01001H_001E', '# White Not Hispanic'),\n",
    "    ('B01001H_002E', '# White Not Hispanis Male'),\n",
    "    ('B01001H_017E', '# White Not Hispanis Female'),\n",
    "    ('B01001I_001E', '# Hispanic'),\n",
    "    ('B01001I_002E', '# Hispanic Male'),\n",
    "    ('B01001I_017E', '# Hispanic Female'),\n",
    "    ('B01002_001E', 'Median Age'),\n",
    "    ('B01002_002E', 'Median Age Male'),\n",
    "    ('B01002_003E', 'Median Age Female'),\n",
    "    ('B05001_002E', 'Citizen, born in US'),\n",
    "    ('B05001_005E', 'Citizen by Naturalization'),\n",
    "    ('B05002_014E', 'Foreign born naturalized'),\n",
    "    ('B06008_002E', 'Never Married'),\n",
    "    ('B06008_003E', 'Currently Married'),\n",
    "    ('B06008_004E', 'Divorced'),\n",
    "    ('B06008_005E', 'Separated'),\n",
    "    ('B06009_001E', 'Education Count'),\n",
    "    ('B06009_002E', 'Less Than HS'),\n",
    "    ('B06009_003E', 'HS or equal'),\n",
    "    ('B06009_004E', 'Some College-AA'),\n",
    "    ('B06009_005E', 'Bachelor'),\n",
    "    ('B06009_006E', 'Graduate'),\n",
    "    ('B06009_007E', 'Total Born In State education'),\n",
    "    ('B06009_008E', 'In State-Less than HS'),\n",
    "    ('B06009_009E', 'In State-HS or equal'),\n",
    "    ('B06009_010E', 'In State-Some College'),\n",
    "    ('B06009_011E', 'In State-Bachelor'),\n",
    "    ('B06009_012E', 'In State-Graduate'),\n",
    "    ('B06009_013E', 'Born in Other State Education'),\n",
    "    ('B06009_014E', 'Other State-Less than HS'),\n",
    "    ('B06009_015E', 'Other State-HS or equal'),\n",
    "    ('B06009_016E', 'Other State-Some College'),\n",
    "    ('B06009_017E', 'Other State-Bachelor'),\n",
    "    ('B06009_018E', 'Other State-Graduate'),\n",
    "    ('B06010_001E', 'Total Reporting Income'),\n",
    "    ('B06010_002E', 'Total Reporing 0 Income'),\n",
    "    ('B06010_003E', 'Total Reporting with Income'),\n",
    "})\n",
    "\n",
    "fieldsToGet2 = dict({\n",
    "    ('ST', 'State FIPS'),\n",
    "    ('COUNTY', 'County FIPS Code'),\n",
    "    ('NAME', 'County Name'),\n",
    "    ('B06010_004E', 'Income < 10K'),\n",
    "    ('B06010_005E', 'Income 10-15K'),\n",
    "    ('B06010_006E', 'Income 15-25K'),\n",
    "    ('B06010_007E', 'Income 25-35K'),\n",
    "    ('B06010_008E', 'Income 35-50K'),\n",
    "    ('B06010_009E', 'Income 50-65K'),\n",
    "    ('B06010_010E', 'Income 65-75K'),\n",
    "    ('B06010_011E', 'Income > 75K'),\n",
    "    ('B06011_001E', 'Median Income'),\n",
    "    ('B06011_002E', 'Median Income Born In State'),\n",
    "    ('B06011_003E', 'Median Income Born Other State'),\n",
    "    ('B06011_004E', 'Median Income Born Outside US, Native'),\n",
    "    ('B06011_005E', 'Median Income Foreign Born'),\n",
    "    ('B06012_001E', 'Total In Poverty Pool'),\n",
    "    ('B06012_002E', '100% below povery line'),\n",
    "    ('B06012_003E', '1-1.5X of poverty line'),\n",
    "    ('B06012_004E', 'At above 150% poverty line'),\n",
    "    ('B06012_006E', 'Born In State below 100% poverty'),\n",
    "    ('B06012_007E', 'Born In State 1-1.5X of poverty line'),\n",
    "    ('B06012_008E', 'Born In State at/above 1.5X poverty line'),\n",
    "    ('B06012_010E', 'Born Other State below 100% poverty'),\n",
    "    ('B06012_011E', 'Born Other State 1-1.5X of poverty line'),\n",
    "    ('B06012_012E', 'Born Other State at/above 1.5X poverty line'),\n",
    "    ('B06012_018E', 'Foreign Born below 100% poverty'),\n",
    "    ('B06012_019E', 'Foreign Born 1-1.5X of poverty line'),\n",
    "    ('B06012_020E', 'Foreign Born at/above 1.5X poverty line'),\n",
    "    ('B07001_001E', 'Total Moving'),\n",
    "    ('B07001_017E', 'Same house 1 year ago'),\n",
    "    ('B07001_033E', 'Moved Within County'),\n",
    "    ('B07001_049E', 'Moved Within Same State'),\n",
    "    ('B07001_065E', 'Moved From Different State'),\n",
    "    ('B07001_081E', 'Moved From Abroad'),\n",
    "    ('B07004A_001E', 'Total Moving White'),\n",
    "    ('B07004A_002E', 'Same house 1 year ago White'),\n",
    "    ('B07004A_003E', 'Moved Within County White'),\n",
    "    ('B07004A_004E', 'Moved Within Same State White'),\n",
    "    ('B07004A_005E', 'Moved From Different State White'),\n",
    "    ('B07004A_006E', 'Moved From Abroad White')\n",
    "    })\n",
    "\n",
    "fieldsToGet3 = dict({\n",
    "    ('ST', 'State FIPS'),\n",
    "    ('COUNTY', 'County FIPS Code'),\n",
    "    ('NAME', 'County Name'),\n",
    "    ('B19101_002E', 'Family Income < 10K'),\n",
    "    ('B19101_003E', 'Family Income 10-15K'),\n",
    "    ('B19101_004E', 'Family Income 15-20K'),\n",
    "    ('B19101_004E', 'Family Income 20-25K'),\n",
    "    ('B19101_006E', 'Family Income 25-30K'),\n",
    "    ('B19101_007E', 'Family Income 30-35K'),\n",
    "    ('B19101_008E', 'Family Income 35-40K'),\n",
    "    ('B19101_009E', 'Family Income 40-45K'),\n",
    "    ('B19101_010E', 'Family Income 45-50K'),\n",
    "    ('B19101_011E', 'Family Income 50-60K'),\n",
    "    ('B19101_012E', 'Family Income 60-75K'),\n",
    "    ('B19101_013E', 'Family Income 75-100K'),\n",
    "    ('B19101_014E', 'Family Income 100-125K'),\n",
    "    ('B19101_015E', 'Family Income 125-150K'),\n",
    "    ('B19101_016E', 'Family Income 150-200K'),\n",
    "    ('B19101_017E', 'Family Income > 200K'),\n",
    "    ('B08006_001E', 'Total Means of Transportation Work'),\n",
    "    ('B08006_002E', 'Work by car, truck, van'),\n",
    "    ('B08006_003E', 'Drive Alone'),\n",
    "    ('B08006_004E', 'Car pooled'),\n",
    "    ('B08006_008E', 'Public Transportation'),\n",
    "    ('B08006_012E', 'Rail Road'),\n",
    "    ('B08006_013E', 'Ferry Boat'),\n",
    "    ('B08006_014E', 'Bicycle'),\n",
    "    ('B08006_015E', 'Walked'),\n",
    "    ('B08006_017E', 'Work at Home'),\n",
    "    ('B08007_002E', 'Work in State'),\n",
    "    ('B08007_003E', 'Work in County'),\n",
    "    ('B08007_004E', 'Work outside County'),\n",
    "    ('B08007_005E', 'Work outside State'),\n",
    "    ('B08014_002E', 'No Vehicle Owned'),\n",
    "    ('B08014_003E', '1 vehicle'),\n",
    "    ('B08014_004E', '2 vehicles'),\n",
    "    ('B08014_005E', '3 vehicles'),\n",
    "    ('B08014_006E', '4 vehicles'),\n",
    "    ('B08014_007E', '5 or more vehicles'),\n",
    "    })"
   ]
  },
  {
   "cell_type": "code",
   "execution_count": null,
   "metadata": {
    "collapsed": false
   },
   "outputs": [],
   "source": []
  },
  {
   "cell_type": "markdown",
   "metadata": {},
   "source": [
    "# CHANGE ME IF YOU WANT DATA FROM DIFFERENT YEARS ONY 2011 - 2015 though"
   ]
  },
  {
   "cell_type": "code",
   "execution_count": 7,
   "metadata": {
    "collapsed": false
   },
   "outputs": [],
   "source": [
    "year = 2014"
   ]
  },
  {
   "cell_type": "code",
   "execution_count": 8,
   "metadata": {
    "collapsed": false,
    "scrolled": false
   },
   "outputs": [
    {
     "name": "stdout",
     "output_type": "stream",
     "text": [
      "http://api.census.gov/data/2014/acs5?key=6c3fba83f5ccd2adb2fd3894045431e20e3ec5cb&get=B01001I_001E,B01002_002E,B01001_001E,B06008_005E,B06009_017E,B01001I_017E,B06009_002E,B01001B_002E,COUNTY,B06009_009E,B06010_002E,B06009_005E,B06009_003E,B06008_002E,B01001A_002E,B01001H_017E,B06009_011E,B06008_004E,B06009_013E,B06009_018E,B06009_001E,B01001A_017E,B06009_014E,B06009_008E,B06009_006E,B06010_003E,B06009_010E,ST,B05002_014E,B05001_002E,B06009_012E,B01002_003E,B01001_002E,B01001_026E,B01001B_017E,B06009_015E,B01001B_001E,B06009_007E,B01002_001E,NAME,B06010_001E,B06009_016E,B00002_001E,B01001A_001E,B06009_004E,B01001I_002E,B01001H_001E,B05001_005E,B06008_003E,B01001H_002E&for=county:*&in=state:*\n",
      "http://api.census.gov/data/2014/acs5?key=6c3fba83f5ccd2adb2fd3894045431e20e3ec5cb&get=B06011_003E,COUNTY,B06012_006E,ST,B06012_018E,B06012_004E,B06011_005E,B06010_008E,B07004A_001E,B06010_009E,B07001_049E,B06012_001E,B07004A_005E,B07001_033E,B06011_001E,B06012_012E,B06010_005E,B07001_081E,B07004A_002E,B06012_003E,B06011_004E,B06012_019E,B07001_001E,B06012_011E,B06010_010E,NAME,B06012_010E,B06010_011E,B06012_007E,B06010_004E,B07004A_004E,B06012_020E,B06010_007E,B07001_065E,B07001_017E,B06010_006E,B06012_002E,B07004A_003E,B07004A_006E,B06012_008E,B06011_002E&for=county:*&in=state:*\n",
      "http://api.census.gov/data/2014/acs5?key=6c3fba83f5ccd2adb2fd3894045431e20e3ec5cb&get=B08006_004E,B08014_005E,B19101_003E,ST,B19101_006E,B08006_017E,B08006_015E,B08014_003E,B19101_017E,B08006_008E,B19101_009E,B08006_002E,COUNTY,B08014_006E,B19101_016E,B08006_014E,B08006_012E,B08007_002E,B19101_008E,B08014_002E,B08007_005E,B08006_001E,B19101_010E,B08007_003E,B19101_014E,NAME,B08006_003E,B19101_007E,B08007_004E,B19101_004E,B08006_013E,B19101_002E,B08014_007E,B19101_012E,B19101_015E,B19101_013E,B08014_004E,B19101_011E&for=county:*&in=state:*\n"
     ]
    }
   ],
   "source": [
    "AllCounty = census.get(list(fieldsToGet.keys()), \n",
    "                   ['for=county:*', 'in=state:*'], \n",
    "                   year=year, \n",
    "                   dataset='acs5')\n",
    "AllCounty2 = census.get(list(fieldsToGet2.keys()), \n",
    "                   ['for=county:*', 'in=state:*'], \n",
    "                   year=year, \n",
    "                   dataset='acs5')\n",
    "AllCounty3 = census.get(list(fieldsToGet3.keys()),\n",
    "                 ['for=county:*', 'in=state:*'], \n",
    "                   year=year, \n",
    "                   dataset='acs5')"
   ]
  },
  {
   "cell_type": "code",
   "execution_count": 9,
   "metadata": {
    "collapsed": false
   },
   "outputs": [],
   "source": [
    "AllCounty = str(AllCounty)\n",
    "splits = AllCounty.split(']')\n",
    "\n",
    "#Making dict to store all values\n",
    "fields = splits[0][5:].split('\",\"')\n",
    "fields1 = {}\n",
    "for key in fields:\n",
    "    fields1['%s' % key] = []"
   ]
  },
  {
   "cell_type": "code",
   "execution_count": 10,
   "metadata": {
    "collapsed": false
   },
   "outputs": [],
   "source": [
    "#parsing out line to add to fields1 dict, then convert to df\n",
    "for line in splits[1:]:\n",
    "    try:\n",
    "        line = line.split('[')[1]\n",
    "        line = line.split('null')\n",
    "        if len(line) > 1: # skip entries with null\n",
    "            pass\n",
    "        elements = line[0].split('\",\"')\n",
    "        if (len(elements) == len(fields1.keys())):\n",
    "            for field, element in zip(fields, elements):\n",
    "                fields1['%s' % field].append(element.strip('\"'))\n",
    "    except:\n",
    "        pass"
   ]
  },
  {
   "cell_type": "code",
   "execution_count": 11,
   "metadata": {
    "collapsed": true
   },
   "outputs": [],
   "source": [
    "AllCounty2 = str(AllCounty2)\n",
    "splits = AllCounty2.split(']')\n",
    "\n",
    "#Making dict to store all values\n",
    "fields = splits[0][5:].split('\",\"')\n",
    "fields2 = {}\n",
    "for key in fields:\n",
    "    fields2['%s' % key] = []"
   ]
  },
  {
   "cell_type": "code",
   "execution_count": 12,
   "metadata": {
    "collapsed": true
   },
   "outputs": [],
   "source": [
    "#parsing out line to add to fields1 dict, then convert to df\n",
    "for line in splits[1:]:\n",
    "    try:\n",
    "        line = line.split('[')[1]\n",
    "        line = line.split('null')\n",
    "        if len(line) > 1: # skip entries with null\n",
    "            pass\n",
    "        elements = line[0].split('\",\"')\n",
    "        if (len(elements) == len(fields2.keys())):\n",
    "            for field, element in zip(fields, elements):\n",
    "                fields2['%s' % field].append(element.strip('\"'))\n",
    "    except:\n",
    "        pass"
   ]
  },
  {
   "cell_type": "code",
   "execution_count": 13,
   "metadata": {
    "collapsed": false
   },
   "outputs": [],
   "source": [
    "AllCounty3 = str(AllCounty3)\n",
    "splits = AllCounty3.split(']')\n",
    "\n",
    "#Making dict to store all values\n",
    "fields = splits[0][5:].split('\",\"')\n",
    "fields3 = {}\n",
    "for key in fields:\n",
    "    fields3['%s' % key] = []"
   ]
  },
  {
   "cell_type": "code",
   "execution_count": 14,
   "metadata": {
    "collapsed": false
   },
   "outputs": [],
   "source": [
    "#parsing out line to add to fields1 dict, then convert to df\n",
    "for line in splits[1:]:\n",
    "    try:\n",
    "        line = line.split('[')[1]\n",
    "        line = line.split('null')\n",
    "        if len(line) > 1: # skip entries with null\n",
    "            pass\n",
    "        elements = line[0].split('\",\"')\n",
    "        if (len(elements) == len(fields3.keys())):\n",
    "            for field, element in zip(fields, elements):\n",
    "                fields3['%s' % field].append(element.strip('\"'))\n",
    "    except:\n",
    "        pass"
   ]
  },
  {
   "cell_type": "markdown",
   "metadata": {},
   "source": [
    "Merging the Data frames"
   ]
  },
  {
   "cell_type": "code",
   "execution_count": 15,
   "metadata": {
    "collapsed": true
   },
   "outputs": [],
   "source": [
    "df = pd.DataFrame(fields1)\n",
    "df2 = pd.DataFrame(fields2)\n",
    "df3 = pd.DataFrame(fields3)"
   ]
  },
  {
   "cell_type": "code",
   "execution_count": 16,
   "metadata": {
    "collapsed": false
   },
   "outputs": [
    {
     "name": "stdout",
     "output_type": "stream",
     "text": [
      "(3142, 52)\n",
      "(2655, 43)\n",
      "(3220, 40)\n"
     ]
    }
   ],
   "source": [
    "print(df.shape)\n",
    "print(df2.shape)\n",
    "print(df3.shape)"
   ]
  },
  {
   "cell_type": "code",
   "execution_count": 17,
   "metadata": {
    "collapsed": false
   },
   "outputs": [],
   "source": [
    "finalDf = pd.merge(pd.merge(df, df2, on='NAME'), df3, on='NAME', how='outer')"
   ]
  },
  {
   "cell_type": "code",
   "execution_count": 18,
   "metadata": {
    "collapsed": false
   },
   "outputs": [],
   "source": [
    "finalDf['fips_code'] = (finalDf['ST'] + finalDf['COUNTY']).astype('int')"
   ]
  },
  {
   "cell_type": "code",
   "execution_count": 19,
   "metadata": {
    "collapsed": false
   },
   "outputs": [],
   "source": [
    "finalDf = pd.merge(election, finalDf, on='fips_code')"
   ]
  },
  {
   "cell_type": "markdown",
   "metadata": {},
   "source": [
    "# DATAFRAME TO USE"
   ]
  },
  {
   "cell_type": "markdown",
   "metadata": {},
   "source": [
    "# Data Cleaning"
   ]
  },
  {
   "cell_type": "code",
   "execution_count": 20,
   "metadata": {
    "collapsed": false
   },
   "outputs": [
    {
     "data": {
      "text/plain": [
       "fips_code         0\n",
       "county            0\n",
       "total_2008        0\n",
       "dem_2008          0\n",
       "gop_2008          0\n",
       "oth_2008          0\n",
       "total_2012        0\n",
       "dem_2012          0\n",
       "gop_2012          0\n",
       "oth_2012          0\n",
       "total_2016        0\n",
       "dem_2016          0\n",
       "gop_2016          0\n",
       "oth_2016          0\n",
       "B00002_001E     484\n",
       "B01001A_001E    484\n",
       "B01001A_002E    484\n",
       "B01001A_017E    484\n",
       "B01001B_001E    484\n",
       "B01001B_002E    484\n",
       "B01001B_017E    484\n",
       "B01001H_001E    484\n",
       "B01001H_002E    484\n",
       "B01001H_017E    484\n",
       "B01001I_001E    484\n",
       "B01001I_002E    484\n",
       "B01001I_017E    484\n",
       "B01001_001E     484\n",
       "B01001_002E     484\n",
       "B01001_026E     484\n",
       "               ... \n",
       "B08006_017E       0\n",
       "B08007_002E       0\n",
       "B08007_003E       0\n",
       "B08007_004E       0\n",
       "B08007_005E       0\n",
       "B08014_002E       0\n",
       "B08014_003E       0\n",
       "B08014_004E       0\n",
       "B08014_005E       0\n",
       "B08014_006E       0\n",
       "B08014_007E       0\n",
       "B19101_002E       0\n",
       "B19101_003E       0\n",
       "B19101_004E       0\n",
       "B19101_006E       0\n",
       "B19101_007E       0\n",
       "B19101_008E       0\n",
       "B19101_009E       0\n",
       "B19101_010E       0\n",
       "B19101_011E       0\n",
       "B19101_012E       0\n",
       "B19101_013E       0\n",
       "B19101_014E       0\n",
       "B19101_015E       0\n",
       "B19101_016E       0\n",
       "B19101_017E       0\n",
       "COUNTY            0\n",
       "ST                0\n",
       "county\"           0\n",
       "state             0\n",
       "dtype: int64"
      ]
     },
     "execution_count": 20,
     "metadata": {},
     "output_type": "execute_result"
    }
   ],
   "source": [
    "finalDf.isnull().sum()"
   ]
  },
  {
   "cell_type": "code",
   "execution_count": 21,
   "metadata": {
    "collapsed": false
   },
   "outputs": [
    {
     "name": "stdout",
     "output_type": "stream",
     "text": [
      "('fips_code', 26041)\n",
      "('county', 'Delta County')\n",
      "('total_2008', 19064)\n",
      "('dem_2008', 9974)\n",
      "('gop_2008', 8763)\n",
      "('oth_2008', 327)\n",
      "('total_2012', 18043)\n",
      "('dem_2012', 8330)\n",
      "('gop_2012', 9533)\n",
      "('oth_2012', 180)\n",
      "('total_2016', 18467)\n",
      "('dem_2016', 6431)\n",
      "('gop_2016', 11112)\n",
      "('oth_2016', 924)\n",
      "('B00002_001E', '3040')\n",
      "('B01001A_001E', '34754')\n",
      "('B01001A_002E', '17231')\n",
      "('B01001A_017E', '17523')\n",
      "('B01001B_001E', '121')\n",
      "('B01001B_002E', '60')\n",
      "('B01001B_017E', '61')\n",
      "('B01001H_001E', '34581')\n",
      "('B01001H_002E', '17137')\n",
      "('B01001H_017E', '17444')\n",
      "('B01001I_001E', '362')\n",
      "('B01001I_002E', '153')\n",
      "('B01001I_017E', '209')\n",
      "('B01001_001E', '36841')\n",
      "('B01001_002E', '18235')\n",
      "('B01001_026E', '18606')\n",
      "('B01002_001E', '46.3')\n",
      "('B01002_002E', '45.1')\n",
      "('B01002_003E', '47.3')\n",
      "('B05001_002E', '36323')\n",
      "('B05001_005E', '260')\n",
      "('B05002_014E', '260')\n",
      "('B06008_002E', '7509')\n",
      "('B06008_003E', '16389')\n",
      "('B06008_004E', '3981')\n",
      "('B06008_005E', '379')\n",
      "('B06009_001E', '26625')\n",
      "('B06009_002E', '2342')\n",
      "('B06009_003E', '9770')\n",
      "('B06009_004E', '9723')\n",
      "('B06009_005E', '3483')\n",
      "('B06009_006E', '1307')\n",
      "('B06009_007E', '21119')\n",
      "('B06009_008E', '1821')\n",
      "('B06009_009E', '7879')\n",
      "('B06009_010E', '8037')\n",
      "('B06009_011E', '2511')\n",
      "('B06009_012E', '871')\n",
      "('B06009_013E', '5040')\n",
      "('B06009_014E', '386')\n",
      "('B06009_015E', '1711')\n",
      "('B06009_016E', '1624')\n",
      "('B06009_017E', '939')\n",
      "('B06009_018E', '380')\n",
      "('B06010_001E', '30661')\n",
      "('B06010_002E', '2836')\n",
      "('B06010_003E', '27825')\n",
      "('COUNTY_x', '041')\n",
      "('NAME', 'Delta County, Michigan')\n",
      "('ST_x', '26')\n",
      "('county\"_x', '041')\n",
      "('state_x', '26')\n",
      "('B06010_004E', '6666')\n",
      "('B06010_005E', '3633')\n",
      "('B06010_006E', '5509')\n",
      "('B06010_007E', '3640')\n",
      "('B06010_008E', '3481')\n",
      "('B06010_009E', '2132')\n",
      "('B06010_010E', '958')\n",
      "('B06010_011E', '1806')\n",
      "('B06011_001E', '21224')\n",
      "('B06011_002E', '20737')\n",
      "('B06011_003E', '23996')\n",
      "('B06011_004E', '25833')\n",
      "('B06011_005E', '14766')\n",
      "('B06012_001E', '36229')\n",
      "('B06012_002E', '6236')\n",
      "('B06012_003E', '3942')\n",
      "('B06012_004E', '26051')\n",
      "('B06012_006E', '4825')\n",
      "('B06012_007E', '3229')\n",
      "('B06012_008E', '21412')\n",
      "('B06012_010E', '1278')\n",
      "('B06012_011E', '661')\n",
      "('B06012_012E', '4315')\n",
      "('B06012_018E', '122')\n",
      "('B06012_019E', '52')\n",
      "('B06012_020E', '227')\n",
      "('B07001_001E', '36559')\n",
      "('B07001_017E', '32326')\n",
      "('B07001_033E', '2604')\n",
      "('B07001_049E', '883')\n",
      "('B07001_065E', '674')\n",
      "('B07001_081E', '72')\n",
      "('B07004A_001E', '34502')\n",
      "('B07004A_002E', '30667')\n",
      "('B07004A_003E', '2402')\n",
      "('B07004A_004E', '778')\n",
      "('B07004A_005E', '584')\n",
      "('B07004A_006E', '71')\n",
      "('COUNTY_y', '041')\n",
      "('ST_y', '26')\n",
      "('county\"_y', '041')\n",
      "('state_y', '26')\n",
      "('B08006_001E', '15148')\n",
      "('B08006_002E', '13904')\n",
      "('B08006_003E', '12342')\n",
      "('B08006_004E', '1562')\n",
      "('B08006_008E', '95')\n",
      "('B08006_012E', '0')\n",
      "('B08006_013E', '0')\n",
      "('B08006_014E', '170')\n",
      "('B08006_015E', '410')\n",
      "('B08006_017E', '485')\n",
      "('B08007_002E', '14710')\n",
      "('B08007_003E', '13256')\n",
      "('B08007_004E', '1454')\n",
      "('B08007_005E', '438')\n",
      "('B08014_002E', '318')\n",
      "('B08014_003E', '2758')\n",
      "('B08014_004E', '6881')\n",
      "('B08014_005E', '3588')\n",
      "('B08014_006E', '1172')\n",
      "('B08014_007E', '351')\n",
      "('B19101_002E', '399')\n",
      "('B19101_003E', '294')\n",
      "('B19101_004E', '570')\n",
      "('B19101_006E', '645')\n",
      "('B19101_007E', '486')\n",
      "('B19101_008E', '453')\n",
      "('B19101_009E', '572')\n",
      "('B19101_010E', '528')\n",
      "('B19101_011E', '1217')\n",
      "('B19101_012E', '1261')\n",
      "('B19101_013E', '1697')\n",
      "('B19101_014E', '623')\n",
      "('B19101_015E', '401')\n",
      "('B19101_016E', '234')\n",
      "('B19101_017E', '96')\n",
      "('COUNTY', '041')\n",
      "('ST', '26')\n",
      "('county\"', '041')\n",
      "('state', '26')\n"
     ]
    }
   ],
   "source": [
    "for i in zip(finalDf.columns, finalDf.iloc[0]):\n",
    "    print(i)"
   ]
  },
  {
   "cell_type": "code",
   "execution_count": 22,
   "metadata": {
    "collapsed": true
   },
   "outputs": [],
   "source": [
    "from collections import Counter"
   ]
  },
  {
   "cell_type": "code",
   "execution_count": 23,
   "metadata": {
    "collapsed": false
   },
   "outputs": [
    {
     "data": {
      "text/plain": [
       "Counter({'Alabama': 11,\n",
       "         'Arkansas': 15,\n",
       "         'California': 1,\n",
       "         'Colorado': 11,\n",
       "         'Georgia': 33,\n",
       "         'Idaho': 5,\n",
       "         'Illinois': 8,\n",
       "         'Indiana': 7,\n",
       "         'Iowa': 10,\n",
       "         'Kansas': 29,\n",
       "         'Kentucky': 33,\n",
       "         'Louisiana': 12,\n",
       "         'Michigan': 1,\n",
       "         'Minnesota': 2,\n",
       "         'Mississippi': 34,\n",
       "         'Missouri': 15,\n",
       "         'Montana': 23,\n",
       "         'Nebraska': 44,\n",
       "         'Nevada': 4,\n",
       "         'New Mexico': 4,\n",
       "         'North Carolina': 6,\n",
       "         'North Dakota': 17,\n",
       "         'Ohio': 2,\n",
       "         'Oklahoma': 6,\n",
       "         'Oregon': 2,\n",
       "         'South Carolina': 1,\n",
       "         'South Dakota': 36,\n",
       "         'Tennessee': 15,\n",
       "         'Texas': 48,\n",
       "         'Utah': 6,\n",
       "         'Virginia': 19,\n",
       "         'Washington': 1,\n",
       "         'West Virginia': 19,\n",
       "         'Wisconsin': 2,\n",
       "         'Wyoming': 2})"
      ]
     },
     "execution_count": 23,
     "metadata": {},
     "output_type": "execute_result"
    }
   ],
   "source": [
    "Counter(finalDf[finalDf[\"B00002_001E\"].isnull()][\"NAME\"].apply(lambda x: x.split(\", \")[1]))"
   ]
  },
  {
   "cell_type": "code",
   "execution_count": 24,
   "metadata": {
    "collapsed": false
   },
   "outputs": [],
   "source": [
    "finalDf = finalDf.drop([\"COUNTY_x\", \"NAME\", \"ST_x\", \"state_x\", 'COUNTY', 'ST', 'county\"', 'COUNTY_y', 'state', 'ST_y', 'county\"_y','state_y'], axis=1)"
   ]
  },
  {
   "cell_type": "code",
   "execution_count": 25,
   "metadata": {
    "collapsed": false
   },
   "outputs": [],
   "source": [
    "del finalDf['county\"_x']"
   ]
  },
  {
   "cell_type": "code",
   "execution_count": 26,
   "metadata": {
    "collapsed": false
   },
   "outputs": [],
   "source": [
    "finalDf = finalDf.dropna().reset_index(drop=True)"
   ]
  },
  {
   "cell_type": "code",
   "execution_count": 27,
   "metadata": {
    "collapsed": false
   },
   "outputs": [
    {
     "data": {
      "text/plain": [
       "(2628, 134)"
      ]
     },
     "execution_count": 27,
     "metadata": {},
     "output_type": "execute_result"
    }
   ],
   "source": [
    "finalDf.shape"
   ]
  },
  {
   "cell_type": "code",
   "execution_count": 28,
   "metadata": {
    "collapsed": false
   },
   "outputs": [
    {
     "data": {
      "text/html": [
       "<div>\n",
       "<table border=\"1\" class=\"dataframe\">\n",
       "  <thead>\n",
       "    <tr style=\"text-align: right;\">\n",
       "      <th></th>\n",
       "      <th>fips_code</th>\n",
       "      <th>county</th>\n",
       "      <th>total_2008</th>\n",
       "      <th>dem_2008</th>\n",
       "      <th>gop_2008</th>\n",
       "      <th>oth_2008</th>\n",
       "      <th>total_2012</th>\n",
       "      <th>dem_2012</th>\n",
       "      <th>gop_2012</th>\n",
       "      <th>oth_2012</th>\n",
       "      <th>...</th>\n",
       "      <th>B19101_008E</th>\n",
       "      <th>B19101_009E</th>\n",
       "      <th>B19101_010E</th>\n",
       "      <th>B19101_011E</th>\n",
       "      <th>B19101_012E</th>\n",
       "      <th>B19101_013E</th>\n",
       "      <th>B19101_014E</th>\n",
       "      <th>B19101_015E</th>\n",
       "      <th>B19101_016E</th>\n",
       "      <th>B19101_017E</th>\n",
       "    </tr>\n",
       "  </thead>\n",
       "  <tbody>\n",
       "    <tr>\n",
       "      <th>0</th>\n",
       "      <td>26041</td>\n",
       "      <td>Delta County</td>\n",
       "      <td>19064</td>\n",
       "      <td>9974</td>\n",
       "      <td>8763</td>\n",
       "      <td>327</td>\n",
       "      <td>18043</td>\n",
       "      <td>8330</td>\n",
       "      <td>9533</td>\n",
       "      <td>180</td>\n",
       "      <td>...</td>\n",
       "      <td>453</td>\n",
       "      <td>572</td>\n",
       "      <td>528</td>\n",
       "      <td>1217</td>\n",
       "      <td>1261</td>\n",
       "      <td>1697</td>\n",
       "      <td>623</td>\n",
       "      <td>401</td>\n",
       "      <td>234</td>\n",
       "      <td>96</td>\n",
       "    </tr>\n",
       "    <tr>\n",
       "      <th>1</th>\n",
       "      <td>48295</td>\n",
       "      <td>Lipscomb County</td>\n",
       "      <td>1256</td>\n",
       "      <td>155</td>\n",
       "      <td>1093</td>\n",
       "      <td>8</td>\n",
       "      <td>1168</td>\n",
       "      <td>119</td>\n",
       "      <td>1044</td>\n",
       "      <td>5</td>\n",
       "      <td>...</td>\n",
       "      <td>20</td>\n",
       "      <td>29</td>\n",
       "      <td>33</td>\n",
       "      <td>79</td>\n",
       "      <td>123</td>\n",
       "      <td>116</td>\n",
       "      <td>91</td>\n",
       "      <td>54</td>\n",
       "      <td>56</td>\n",
       "      <td>46</td>\n",
       "    </tr>\n",
       "    <tr>\n",
       "      <th>2</th>\n",
       "      <td>1127</td>\n",
       "      <td>Walker County</td>\n",
       "      <td>28652</td>\n",
       "      <td>7420</td>\n",
       "      <td>20722</td>\n",
       "      <td>510</td>\n",
       "      <td>28497</td>\n",
       "      <td>6551</td>\n",
       "      <td>21633</td>\n",
       "      <td>313</td>\n",
       "      <td>...</td>\n",
       "      <td>1041</td>\n",
       "      <td>919</td>\n",
       "      <td>987</td>\n",
       "      <td>1570</td>\n",
       "      <td>2209</td>\n",
       "      <td>1819</td>\n",
       "      <td>1210</td>\n",
       "      <td>745</td>\n",
       "      <td>437</td>\n",
       "      <td>339</td>\n",
       "    </tr>\n",
       "    <tr>\n",
       "      <th>3</th>\n",
       "      <td>48389</td>\n",
       "      <td>Reeves County</td>\n",
       "      <td>3077</td>\n",
       "      <td>1606</td>\n",
       "      <td>1445</td>\n",
       "      <td>26</td>\n",
       "      <td>2867</td>\n",
       "      <td>1649</td>\n",
       "      <td>1185</td>\n",
       "      <td>33</td>\n",
       "      <td>...</td>\n",
       "      <td>96</td>\n",
       "      <td>119</td>\n",
       "      <td>75</td>\n",
       "      <td>213</td>\n",
       "      <td>320</td>\n",
       "      <td>350</td>\n",
       "      <td>188</td>\n",
       "      <td>69</td>\n",
       "      <td>64</td>\n",
       "      <td>79</td>\n",
       "    </tr>\n",
       "    <tr>\n",
       "      <th>4</th>\n",
       "      <td>56017</td>\n",
       "      <td>Hot Springs County</td>\n",
       "      <td>2546</td>\n",
       "      <td>619</td>\n",
       "      <td>1834</td>\n",
       "      <td>93</td>\n",
       "      <td>2495</td>\n",
       "      <td>523</td>\n",
       "      <td>1894</td>\n",
       "      <td>78</td>\n",
       "      <td>...</td>\n",
       "      <td>50</td>\n",
       "      <td>69</td>\n",
       "      <td>84</td>\n",
       "      <td>122</td>\n",
       "      <td>234</td>\n",
       "      <td>112</td>\n",
       "      <td>148</td>\n",
       "      <td>89</td>\n",
       "      <td>36</td>\n",
       "      <td>58</td>\n",
       "    </tr>\n",
       "  </tbody>\n",
       "</table>\n",
       "<p>5 rows × 134 columns</p>\n",
       "</div>"
      ],
      "text/plain": [
       "   fips_code              county  total_2008  dem_2008  gop_2008  oth_2008  \\\n",
       "0      26041        Delta County       19064      9974      8763       327   \n",
       "1      48295     Lipscomb County        1256       155      1093         8   \n",
       "2       1127       Walker County       28652      7420     20722       510   \n",
       "3      48389       Reeves County        3077      1606      1445        26   \n",
       "4      56017  Hot Springs County        2546       619      1834        93   \n",
       "\n",
       "   total_2012  dem_2012  gop_2012  oth_2012     ...      B19101_008E  \\\n",
       "0       18043      8330      9533       180     ...              453   \n",
       "1        1168       119      1044         5     ...               20   \n",
       "2       28497      6551     21633       313     ...             1041   \n",
       "3        2867      1649      1185        33     ...               96   \n",
       "4        2495       523      1894        78     ...               50   \n",
       "\n",
       "   B19101_009E  B19101_010E  B19101_011E B19101_012E B19101_013E B19101_014E  \\\n",
       "0          572          528         1217        1261        1697         623   \n",
       "1           29           33           79         123         116          91   \n",
       "2          919          987         1570        2209        1819        1210   \n",
       "3          119           75          213         320         350         188   \n",
       "4           69           84          122         234         112         148   \n",
       "\n",
       "  B19101_015E B19101_016E B19101_017E  \n",
       "0         401         234          96  \n",
       "1          54          56          46  \n",
       "2         745         437         339  \n",
       "3          69          64          79  \n",
       "4          89          36          58  \n",
       "\n",
       "[5 rows x 134 columns]"
      ]
     },
     "execution_count": 28,
     "metadata": {},
     "output_type": "execute_result"
    }
   ],
   "source": [
    "finalDf.head()"
   ]
  },
  {
   "cell_type": "code",
   "execution_count": 33,
   "metadata": {
    "collapsed": false
   },
   "outputs": [
    {
     "name": "stdout",
     "output_type": "stream",
     "text": [
      "('fips_code', 26041)\n",
      "('county', 'Delta County')\n",
      "('total_2008', 19064)\n",
      "('dem_2008', 9974)\n",
      "('gop_2008', 8763)\n",
      "('oth_2008', 327)\n",
      "('total_2012', 18043)\n",
      "('dem_2012', 8330)\n",
      "('gop_2012', 9533)\n",
      "('oth_2012', 180)\n",
      "('total_2016', 18467)\n",
      "('dem_2016', 6431)\n",
      "('gop_2016', 11112)\n",
      "('oth_2016', 924)\n",
      "('B00002_001E', '3040')\n",
      "('B01001A_001E', '34754')\n",
      "('B01001A_002E', '17231')\n",
      "('B01001A_017E', '17523')\n",
      "('B01001B_001E', '121')\n",
      "('B01001B_002E', '60')\n",
      "('B01001B_017E', '61')\n",
      "('B01001H_001E', '34581')\n",
      "('B01001H_002E', '17137')\n",
      "('B01001H_017E', '17444')\n",
      "('B01001I_001E', '362')\n",
      "('B01001I_002E', '153')\n",
      "('B01001I_017E', '209')\n",
      "('B01001_001E', '36841')\n",
      "('B01001_002E', '18235')\n",
      "('B01001_026E', '18606')\n",
      "('B01002_001E', '46.3')\n",
      "('B01002_002E', '45.1')\n",
      "('B01002_003E', '47.3')\n",
      "('B05001_002E', '36323')\n",
      "('B05001_005E', '260')\n",
      "('B05002_014E', '260')\n",
      "('B06008_002E', '7509')\n",
      "('B06008_003E', '16389')\n",
      "('B06008_004E', '3981')\n",
      "('B06008_005E', '379')\n",
      "('B06009_001E', '26625')\n",
      "('B06009_002E', '2342')\n",
      "('B06009_003E', '9770')\n",
      "('B06009_004E', '9723')\n",
      "('B06009_005E', '3483')\n",
      "('B06009_006E', '1307')\n",
      "('B06009_007E', '21119')\n",
      "('B06009_008E', '1821')\n",
      "('B06009_009E', '7879')\n",
      "('B06009_010E', '8037')\n",
      "('B06009_011E', '2511')\n",
      "('B06009_012E', '871')\n",
      "('B06009_013E', '5040')\n",
      "('B06009_014E', '386')\n",
      "('B06009_015E', '1711')\n",
      "('B06009_016E', '1624')\n",
      "('B06009_017E', '939')\n",
      "('B06009_018E', '380')\n",
      "('B06010_001E', '30661')\n",
      "('B06010_002E', '2836')\n",
      "('B06010_003E', '27825')\n",
      "('B06010_004E', '6666')\n",
      "('B06010_005E', '3633')\n",
      "('B06010_006E', '5509')\n",
      "('B06010_007E', '3640')\n",
      "('B06010_008E', '3481')\n",
      "('B06010_009E', '2132')\n",
      "('B06010_010E', '958')\n",
      "('B06010_011E', '1806')\n",
      "('B06011_001E', '21224')\n",
      "('B06011_002E', '20737')\n",
      "('B06011_003E', '23996')\n",
      "('B06011_004E', '25833')\n",
      "('B06011_005E', '14766')\n",
      "('B06012_001E', '36229')\n",
      "('B06012_002E', '6236')\n",
      "('B06012_003E', '3942')\n",
      "('B06012_004E', '26051')\n",
      "('B06012_006E', '4825')\n",
      "('B06012_007E', '3229')\n",
      "('B06012_008E', '21412')\n",
      "('B06012_010E', '1278')\n",
      "('B06012_011E', '661')\n",
      "('B06012_012E', '4315')\n",
      "('B06012_018E', '122')\n",
      "('B06012_019E', '52')\n",
      "('B06012_020E', '227')\n",
      "('B07001_001E', '36559')\n",
      "('B07001_017E', '32326')\n",
      "('B07001_033E', '2604')\n",
      "('B07001_049E', '883')\n",
      "('B07001_065E', '674')\n",
      "('B07001_081E', '72')\n",
      "('B07004A_001E', '34502')\n",
      "('B07004A_002E', '30667')\n",
      "('B07004A_003E', '2402')\n",
      "('B07004A_004E', '778')\n",
      "('B07004A_005E', '584')\n",
      "('B07004A_006E', '71')\n",
      "('B08006_001E', '15148')\n",
      "('B08006_002E', '13904')\n",
      "('B08006_003E', '12342')\n",
      "('B08006_004E', '1562')\n",
      "('B08006_008E', '95')\n",
      "('B08006_012E', '0')\n",
      "('B08006_013E', '0')\n",
      "('B08006_014E', '170')\n",
      "('B08006_015E', '410')\n",
      "('B08006_017E', '485')\n",
      "('B08007_002E', '14710')\n",
      "('B08007_003E', '13256')\n",
      "('B08007_004E', '1454')\n",
      "('B08007_005E', '438')\n",
      "('B08014_002E', '318')\n",
      "('B08014_003E', '2758')\n",
      "('B08014_004E', '6881')\n",
      "('B08014_005E', '3588')\n",
      "('B08014_006E', '1172')\n",
      "('B08014_007E', '351')\n",
      "('B19101_002E', '399')\n",
      "('B19101_003E', '294')\n",
      "('B19101_004E', '570')\n",
      "('B19101_006E', '645')\n",
      "('B19101_007E', '486')\n",
      "('B19101_008E', '453')\n",
      "('B19101_009E', '572')\n",
      "('B19101_010E', '528')\n",
      "('B19101_011E', '1217')\n",
      "('B19101_012E', '1261')\n",
      "('B19101_013E', '1697')\n",
      "('B19101_014E', '623')\n",
      "('B19101_015E', '401')\n",
      "('B19101_016E', '234')\n",
      "('B19101_017E', '96')\n"
     ]
    }
   ],
   "source": [
    "for i in zip(finalDf.columns, finalDf.iloc[0]):\n",
    "    print(i)"
   ]
  },
  {
   "cell_type": "code",
   "execution_count": 41,
   "metadata": {
    "collapsed": false
   },
   "outputs": [],
   "source": [
    "finalDf = pd.concat([finalDf.ix[:, :2], finalDf[finalDf.columns[2:]].applymap(float)], axis=1)"
   ]
  },
  {
   "cell_type": "code",
   "execution_count": 45,
   "metadata": {
    "collapsed": true
   },
   "outputs": [],
   "source": [
    "from mapping import mapping"
   ]
  },
  {
   "cell_type": "code",
   "execution_count": 48,
   "metadata": {
    "collapsed": false
   },
   "outputs": [],
   "source": [
    "finalDf = finalDf.rename(columns=mapping)"
   ]
  },
  {
   "cell_type": "code",
   "execution_count": 49,
   "metadata": {
    "collapsed": false
   },
   "outputs": [
    {
     "data": {
      "text/html": [
       "<div>\n",
       "<table border=\"1\" class=\"dataframe\">\n",
       "  <thead>\n",
       "    <tr style=\"text-align: right;\">\n",
       "      <th></th>\n",
       "      <th>fips_code</th>\n",
       "      <th>county</th>\n",
       "      <th>total_2008</th>\n",
       "      <th>dem_2008</th>\n",
       "      <th>gop_2008</th>\n",
       "      <th>oth_2008</th>\n",
       "      <th>total_2012</th>\n",
       "      <th>dem_2012</th>\n",
       "      <th>gop_2012</th>\n",
       "      <th>oth_2012</th>\n",
       "      <th>...</th>\n",
       "      <th>Family Income 35-40K</th>\n",
       "      <th>Family Income 40-45K</th>\n",
       "      <th>Family Income 45-50K</th>\n",
       "      <th>Family Income 50-60K</th>\n",
       "      <th>Family Income 60-75K</th>\n",
       "      <th>Family Income 75-100K</th>\n",
       "      <th>Family Income 100-125K</th>\n",
       "      <th>Family Income 125-150K</th>\n",
       "      <th>Family Income 150-200K</th>\n",
       "      <th>Family Income &gt; 200K</th>\n",
       "    </tr>\n",
       "  </thead>\n",
       "  <tbody>\n",
       "    <tr>\n",
       "      <th>0</th>\n",
       "      <td>26041</td>\n",
       "      <td>Delta County</td>\n",
       "      <td>19064.0</td>\n",
       "      <td>9974.0</td>\n",
       "      <td>8763.0</td>\n",
       "      <td>327.0</td>\n",
       "      <td>18043.0</td>\n",
       "      <td>8330.0</td>\n",
       "      <td>9533.0</td>\n",
       "      <td>180.0</td>\n",
       "      <td>...</td>\n",
       "      <td>453.0</td>\n",
       "      <td>572.0</td>\n",
       "      <td>528.0</td>\n",
       "      <td>1217.0</td>\n",
       "      <td>1261.0</td>\n",
       "      <td>1697.0</td>\n",
       "      <td>623.0</td>\n",
       "      <td>401.0</td>\n",
       "      <td>234.0</td>\n",
       "      <td>96.0</td>\n",
       "    </tr>\n",
       "    <tr>\n",
       "      <th>1</th>\n",
       "      <td>48295</td>\n",
       "      <td>Lipscomb County</td>\n",
       "      <td>1256.0</td>\n",
       "      <td>155.0</td>\n",
       "      <td>1093.0</td>\n",
       "      <td>8.0</td>\n",
       "      <td>1168.0</td>\n",
       "      <td>119.0</td>\n",
       "      <td>1044.0</td>\n",
       "      <td>5.0</td>\n",
       "      <td>...</td>\n",
       "      <td>20.0</td>\n",
       "      <td>29.0</td>\n",
       "      <td>33.0</td>\n",
       "      <td>79.0</td>\n",
       "      <td>123.0</td>\n",
       "      <td>116.0</td>\n",
       "      <td>91.0</td>\n",
       "      <td>54.0</td>\n",
       "      <td>56.0</td>\n",
       "      <td>46.0</td>\n",
       "    </tr>\n",
       "    <tr>\n",
       "      <th>2</th>\n",
       "      <td>1127</td>\n",
       "      <td>Walker County</td>\n",
       "      <td>28652.0</td>\n",
       "      <td>7420.0</td>\n",
       "      <td>20722.0</td>\n",
       "      <td>510.0</td>\n",
       "      <td>28497.0</td>\n",
       "      <td>6551.0</td>\n",
       "      <td>21633.0</td>\n",
       "      <td>313.0</td>\n",
       "      <td>...</td>\n",
       "      <td>1041.0</td>\n",
       "      <td>919.0</td>\n",
       "      <td>987.0</td>\n",
       "      <td>1570.0</td>\n",
       "      <td>2209.0</td>\n",
       "      <td>1819.0</td>\n",
       "      <td>1210.0</td>\n",
       "      <td>745.0</td>\n",
       "      <td>437.0</td>\n",
       "      <td>339.0</td>\n",
       "    </tr>\n",
       "    <tr>\n",
       "      <th>3</th>\n",
       "      <td>48389</td>\n",
       "      <td>Reeves County</td>\n",
       "      <td>3077.0</td>\n",
       "      <td>1606.0</td>\n",
       "      <td>1445.0</td>\n",
       "      <td>26.0</td>\n",
       "      <td>2867.0</td>\n",
       "      <td>1649.0</td>\n",
       "      <td>1185.0</td>\n",
       "      <td>33.0</td>\n",
       "      <td>...</td>\n",
       "      <td>96.0</td>\n",
       "      <td>119.0</td>\n",
       "      <td>75.0</td>\n",
       "      <td>213.0</td>\n",
       "      <td>320.0</td>\n",
       "      <td>350.0</td>\n",
       "      <td>188.0</td>\n",
       "      <td>69.0</td>\n",
       "      <td>64.0</td>\n",
       "      <td>79.0</td>\n",
       "    </tr>\n",
       "    <tr>\n",
       "      <th>4</th>\n",
       "      <td>56017</td>\n",
       "      <td>Hot Springs County</td>\n",
       "      <td>2546.0</td>\n",
       "      <td>619.0</td>\n",
       "      <td>1834.0</td>\n",
       "      <td>93.0</td>\n",
       "      <td>2495.0</td>\n",
       "      <td>523.0</td>\n",
       "      <td>1894.0</td>\n",
       "      <td>78.0</td>\n",
       "      <td>...</td>\n",
       "      <td>50.0</td>\n",
       "      <td>69.0</td>\n",
       "      <td>84.0</td>\n",
       "      <td>122.0</td>\n",
       "      <td>234.0</td>\n",
       "      <td>112.0</td>\n",
       "      <td>148.0</td>\n",
       "      <td>89.0</td>\n",
       "      <td>36.0</td>\n",
       "      <td>58.0</td>\n",
       "    </tr>\n",
       "  </tbody>\n",
       "</table>\n",
       "<p>5 rows × 134 columns</p>\n",
       "</div>"
      ],
      "text/plain": [
       "   fips_code              county  total_2008  dem_2008  gop_2008  oth_2008  \\\n",
       "0      26041        Delta County     19064.0    9974.0    8763.0     327.0   \n",
       "1      48295     Lipscomb County      1256.0     155.0    1093.0       8.0   \n",
       "2       1127       Walker County     28652.0    7420.0   20722.0     510.0   \n",
       "3      48389       Reeves County      3077.0    1606.0    1445.0      26.0   \n",
       "4      56017  Hot Springs County      2546.0     619.0    1834.0      93.0   \n",
       "\n",
       "   total_2012  dem_2012  gop_2012  oth_2012          ...           \\\n",
       "0     18043.0    8330.0    9533.0     180.0          ...            \n",
       "1      1168.0     119.0    1044.0       5.0          ...            \n",
       "2     28497.0    6551.0   21633.0     313.0          ...            \n",
       "3      2867.0    1649.0    1185.0      33.0          ...            \n",
       "4      2495.0     523.0    1894.0      78.0          ...            \n",
       "\n",
       "   Family Income 35-40K  Family Income 40-45K  Family Income 45-50K  \\\n",
       "0                 453.0                 572.0                 528.0   \n",
       "1                  20.0                  29.0                  33.0   \n",
       "2                1041.0                 919.0                 987.0   \n",
       "3                  96.0                 119.0                  75.0   \n",
       "4                  50.0                  69.0                  84.0   \n",
       "\n",
       "   Family Income 50-60K  Family Income 60-75K  Family Income 75-100K  \\\n",
       "0                1217.0                1261.0                 1697.0   \n",
       "1                  79.0                 123.0                  116.0   \n",
       "2                1570.0                2209.0                 1819.0   \n",
       "3                 213.0                 320.0                  350.0   \n",
       "4                 122.0                 234.0                  112.0   \n",
       "\n",
       "   Family Income 100-125K  Family Income 125-150K  Family Income 150-200K  \\\n",
       "0                   623.0                   401.0                   234.0   \n",
       "1                    91.0                    54.0                    56.0   \n",
       "2                  1210.0                   745.0                   437.0   \n",
       "3                   188.0                    69.0                    64.0   \n",
       "4                   148.0                    89.0                    36.0   \n",
       "\n",
       "   Family Income > 200K  \n",
       "0                  96.0  \n",
       "1                  46.0  \n",
       "2                 339.0  \n",
       "3                  79.0  \n",
       "4                  58.0  \n",
       "\n",
       "[5 rows x 134 columns]"
      ]
     },
     "execution_count": 49,
     "metadata": {},
     "output_type": "execute_result"
    }
   ],
   "source": [
    "#there might be some NAs in the demographics field, not sure what we want to do about them\n",
    "#drop the county? what if it's an important county?\n",
    "finalDf.head()"
   ]
  },
  {
   "cell_type": "code",
   "execution_count": 50,
   "metadata": {
    "collapsed": false
   },
   "outputs": [],
   "source": [
    "import pickle\n"
   ]
  },
  {
   "cell_type": "code",
   "execution_count": 51,
   "metadata": {
    "collapsed": false
   },
   "outputs": [],
   "source": [
    "f = open(\"./final_data.p\", \"wb\")\n",
    "\n",
    "pickle.dump(finalDf, f)"
   ]
  },
  {
   "cell_type": "markdown",
   "metadata": {},
   "source": [
    "Try and predict change in number of voters over the years. \n",
    "\n",
    "Try and predict the change in demographic voting ratio. "
   ]
  },
  {
   "cell_type": "markdown",
   "metadata": {},
   "source": [
    "The project sheet said we have to use some clustering techniques to see which county was mis-clustered. Not sure if this is the best way to predict tho..\n",
    "\n",
    "Also the sheet mentioned about building models that will explain things, so I was thinking of using Lasso or elastic net, and we can pull census data from 2011 and 2015 to try to see which variable were the most important features we from each data set"
   ]
  },
  {
   "cell_type": "code",
   "execution_count": null,
   "metadata": {
    "collapsed": true
   },
   "outputs": [],
   "source": []
  },
  {
   "cell_type": "code",
   "execution_count": null,
   "metadata": {
    "collapsed": true
   },
   "outputs": [],
   "source": []
  },
  {
   "cell_type": "code",
   "execution_count": null,
   "metadata": {
    "collapsed": true
   },
   "outputs": [],
   "source": []
  },
  {
   "cell_type": "code",
   "execution_count": null,
   "metadata": {
    "collapsed": true
   },
   "outputs": [],
   "source": []
  }
 ],
 "metadata": {
  "kernelspec": {
   "display_name": "Python 3",
   "language": "python",
   "name": "python3"
  },
  "language_info": {
   "codemirror_mode": {
    "name": "ipython",
    "version": 3
   },
   "file_extension": ".py",
   "mimetype": "text/x-python",
   "name": "python",
   "nbconvert_exporter": "python",
   "pygments_lexer": "ipython3",
   "version": "3.5.2"
  }
 },
 "nbformat": 4,
 "nbformat_minor": 1
}
