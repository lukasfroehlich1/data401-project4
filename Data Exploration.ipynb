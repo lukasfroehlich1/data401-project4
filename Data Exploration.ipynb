{
 "cells": [
  {
   "cell_type": "code",
   "execution_count": 108,
   "metadata": {
    "collapsed": true
   },
   "outputs": [],
   "source": [
    "import pandas as pd\n",
    "import numpy as np\n",
    "import glob\n",
    "import csv\n",
    "from collections import defaultdict\n",
    "import re\n",
    "import json"
   ]
  },
  {
   "cell_type": "code",
   "execution_count": null,
   "metadata": {
    "collapsed": true
   },
   "outputs": [],
   "source": []
  },
  {
   "cell_type": "code",
   "execution_count": null,
   "metadata": {
    "collapsed": true
   },
   "outputs": [],
   "source": []
  },
  {
   "cell_type": "code",
   "execution_count": 111,
   "metadata": {
    "collapsed": false
   },
   "outputs": [],
   "source": [
    "election = pd.read_csv(\"US_County_Level_Presidential_Results_08-16.csv\")"
   ]
  },
  {
   "cell_type": "code",
   "execution_count": 112,
   "metadata": {
    "collapsed": false
   },
   "outputs": [],
   "source": [
    "election.dropna(axis=1, inplace=True)"
   ]
  },
  {
   "cell_type": "code",
   "execution_count": null,
   "metadata": {
    "collapsed": false
   },
   "outputs": [],
   "source": []
  },
  {
   "cell_type": "code",
   "execution_count": 435,
   "metadata": {
    "collapsed": false
   },
   "outputs": [
    {
     "data": {
      "text/plain": [
       "0       26041\n",
       "1       48295\n",
       "2        1127\n",
       "3       48389\n",
       "4       56017\n",
       "5       20043\n",
       "6       37183\n",
       "7       37147\n",
       "8       48497\n",
       "9       21207\n",
       "10       5053\n",
       "11      31147\n",
       "12      47123\n",
       "13      36059\n",
       "14       1011\n",
       "15      42057\n",
       "16      20031\n",
       "17      31151\n",
       "18      31035\n",
       "19      28033\n",
       "20      22061\n",
       "21      40129\n",
       "22      22057\n",
       "23      40135\n",
       "24      51153\n",
       "25      23031\n",
       "26      23015\n",
       "27      47025\n",
       "28      29063\n",
       "29      42045\n",
       "        ...  \n",
       "3082    39077\n",
       "3083    26081\n",
       "3084    37089\n",
       "3085    53011\n",
       "3086    42055\n",
       "3087     1037\n",
       "3088    54069\n",
       "3089    32011\n",
       "3090    51800\n",
       "3091    32017\n",
       "3092     1071\n",
       "3093    53059\n",
       "3094    48069\n",
       "3095    51007\n",
       "3096    37195\n",
       "3097    37149\n",
       "3098     6055\n",
       "3099    13069\n",
       "3100    38061\n",
       "3101    19031\n",
       "3102    27163\n",
       "3103    49045\n",
       "3104    30047\n",
       "3105    55061\n",
       "3106    17143\n",
       "3107    17115\n",
       "3108    29215\n",
       "3109    46051\n",
       "3110    17103\n",
       "3111    20063\n",
       "Name: fips_code, dtype: int64"
      ]
     },
     "execution_count": 435,
     "metadata": {},
     "output_type": "execute_result"
    }
   ],
   "source": [
    "election.fips_code"
   ]
  },
  {
   "cell_type": "markdown",
   "metadata": {
    "collapsed": true
   },
   "source": [
    "Try and predict change in number of voters over the years. \n",
    "\n",
    "Try and predict the change in demographic voting ratio. "
   ]
  },
  {
   "cell_type": "markdown",
   "metadata": {
    "collapsed": true
   },
   "source": [
    "Collect demographic data from each region.\n"
   ]
  },
  {
   "cell_type": "code",
   "execution_count": null,
   "metadata": {
    "collapsed": true
   },
   "outputs": [],
   "source": []
  },
  {
   "cell_type": "markdown",
   "metadata": {
    "collapsed": true
   },
   "source": [
    "### Waylin\n",
    "\n",
    "Can you collect demographic data for the counties above? \n",
    "\n",
    "A dataframe with:\n",
    "County, poverty rate, % of race1, ...\n",
    "\n",
    "Would be perfect.\n",
    "\n",
    "I was looking at census data but a lot of it was super messy.\n",
    "I was also looking at this package as a potential next step.\n",
    "https://pypi.python.org/pypi/census\n",
    "\n"
   ]
  },
  {
   "cell_type": "code",
   "execution_count": 114,
   "metadata": {
    "collapsed": false
   },
   "outputs": [],
   "source": [
    "import urllib.request\n",
    "import ast\n",
    "\n",
    "\n",
    "class Census:\n",
    "    def __init__(self, key):\n",
    "        self.key = key\n",
    "\n",
    "    def get(self, fields, geo, year=2012, dataset='sf1'):\n",
    "        fields = [','.join(fields)]\n",
    "        base_url = 'http://api.census.gov/data/%s/%s?key=%s&get=' % (str(year), dataset, self.key)\n",
    "        query = fields\n",
    "        for item in geo:\n",
    "            query.append(item)\n",
    "        add_url = '&'.join(query)\n",
    "        url = base_url + add_url\n",
    "        print(url)\n",
    "        req = urllib.request.Request(url)\n",
    "        response = urllib.request.urlopen(req)\n",
    "        return response.read()"
   ]
  },
  {
   "cell_type": "code",
   "execution_count": 115,
   "metadata": {
    "collapsed": true
   },
   "outputs": [],
   "source": [
    "census = Census('6c3fba83f5ccd2adb2fd3894045431e20e3ec5cb')"
   ]
  },
  {
   "cell_type": "code",
   "execution_count": 268,
   "metadata": {
    "collapsed": false
   },
   "outputs": [],
   "source": [
    "fieldsToGet = dict({\n",
    "    ('ST', 'State FIPS'),\n",
    "    ('COUNTY', 'County FIPS Code'),\n",
    "    ('NAME', 'County Name'),\n",
    "    ('B00002_001E', '# of Housing Units'),\n",
    "    ('B01001_001E', 'Population'),\n",
    "    ('B01001_002E', '# Male'),\n",
    "    ('B01001_026E', '# Female'),\n",
    "    ('B01001A_001E', '# White'),\n",
    "    ('B01001A_002E', '# White Male'),\n",
    "    ('B01001A_017E', '# White Female'),\n",
    "    ('B01001B_001E', '# Black'),\n",
    "    ('B01001B_002E', '# Black Male'),\n",
    "    ('B01001B_017E', '# Black Female'),\n",
    "    ('B01001H_001E', '# White Not Hispanic'),\n",
    "    ('B01001H_002E', '# White Not Hispanis Male'),\n",
    "    ('B01001H_017E', '# White Not Hispanis Female'),\n",
    "    ('B01001I_001E', '# Hispanic'),\n",
    "    ('B01001I_002E', '# Hispanic Male'),\n",
    "    ('B01001I_017E', '# Hispanic Female'),\n",
    "    ('B01002_001E', 'Median Age'),\n",
    "    ('B01002_002E', 'Median Age Male'),\n",
    "    ('B01002_003E', 'Median Age Female'),\n",
    "    ('B05001_002E', 'Citizen, born in US'),\n",
    "    ('B05001_005E', 'Citizen by Naturalization'),\n",
    "    ('B05002_014E', 'Foreign born naturalized'),\n",
    "    ('B06008_002E', 'Never Married'),\n",
    "    ('B06008_003E', 'Currently Married'),\n",
    "    ('B06008_004E', 'Divorced'),\n",
    "    ('B06008_005E', 'Separated'),\n",
    "    ('B06009_001E', 'Education Count'),\n",
    "    ('B06009_002E', 'Less Than HS'),\n",
    "    ('B06009_003E', 'HS or equal'),\n",
    "    ('B06009_004E', 'Some College-AA'),\n",
    "    ('B06009_005E', 'Bachelor'),\n",
    "    ('B06009_006E', 'Graduate'),\n",
    "    ('B06009_007E', 'Total Born In State education'),\n",
    "    ('B06009_008E', 'In State-Less than HS'),\n",
    "    ('B06009_009E', 'In State-HS or equal'),\n",
    "    ('B06009_010E', 'In State-Some College'),\n",
    "    ('B06009_011E', 'In State-Bachelor'),\n",
    "    ('B06009_012E', 'In State-Graduate'),\n",
    "    ('B06009_013E', 'Born in Other State Education'),\n",
    "    ('B06009_014E', 'Other State-Less than HS'),\n",
    "    ('B06009_015E', 'Other State-HS or equal'),\n",
    "    ('B06009_016E', 'Other State-Some College'),\n",
    "    ('B06009_017E', 'Other State-Bachelor'),\n",
    "    ('B06009_018E', 'Other State-Graduate'),\n",
    "    ('B06010_001E', 'Total Reporting Income'),\n",
    "    ('B06010_002E', 'Total Reporing 0 Income'),\n",
    "    ('B06010_003E', 'Total Reporting with Income'),\n",
    "})\n",
    "\n",
    "fieldsToGet2 = dict({\n",
    "    ('ST', 'State FIPS'),\n",
    "    ('COUNTY', 'County FIPS Code'),\n",
    "    ('NAME', 'County Name'),\n",
    "    ('B06010_004E', 'Income < 10K'),\n",
    "    ('B06010_005E', 'Income 10-15K'),\n",
    "    ('B06010_006E', 'Income 15-25K'),\n",
    "    ('B06010_007E', 'Income 25-35K'),\n",
    "    ('B06010_008E', 'Income 35-50K'),\n",
    "    ('B06010_009E', 'Income 50-65K'),\n",
    "    ('B06010_010E', 'Income 65-75K'),\n",
    "    ('B06010_011E', 'Income > 75K'),\n",
    "    ('B06011_001E', 'Median Income'),\n",
    "    ('B06011_002E', 'Median Income Born In State'),\n",
    "    ('B06011_003E', 'Median Income Born Other State'),\n",
    "    ('B06011_004E', 'Median Income Born Outside US, Native'),\n",
    "    ('B06011_005E', 'Median Income Foreign Born'),\n",
    "    ('B06012_001E', 'Total In Poverty Pool'),\n",
    "    ('B06012_002E', '100% below povery line'),\n",
    "    ('B06012_003E', '1-1.5X of poverty line'),\n",
    "    ('B06012_004E', 'At above 150% poverty line'),\n",
    "    ('B06012_006E', 'Born In State below 100% poverty'),\n",
    "    ('B06012_007E', 'Born In State 1-1.5X of poverty line'),\n",
    "    ('B06012_008E', 'Born In State at/above 1.5X poverty line'),\n",
    "    ('B06012_010E', 'Born Other State below 100% poverty'),\n",
    "    ('B06012_011E', 'Born Other State 1-1.5X of poverty line'),\n",
    "    ('B06012_012E', 'Born Other State at/above 1.5X poverty line'),\n",
    "    ('B06012_018E', 'Foreign Born below 100% poverty'),\n",
    "    ('B06012_019E', 'Foreign Born 1-1.5X of poverty line'),\n",
    "    ('B06012_020E', 'Foreign Born at/above 1.5X poverty line'),\n",
    "    ('B07001_001E', 'Total Moving'),\n",
    "    ('B07001_017E', 'Same house 1 year ago'),\n",
    "    ('B07001_033E', 'Moved Within County'),\n",
    "    ('B07001_049E', 'Moved Within Same State'),\n",
    "    ('B07001_065E', 'Moved From Different State'),\n",
    "    ('B07001_081E', 'Moved From Abroad'),\n",
    "    ('B07004A_001E', 'Total Moving White'),\n",
    "    ('B07004A_002E', 'Same house 1 year ago White'),\n",
    "    ('B07004A_003E', 'Moved Within County White'),\n",
    "    ('B07004A_004E', 'Moved Within Same State White'),\n",
    "    ('B07004A_005E', 'Moved From Different State White'),\n",
    "    ('B07004A_006E', 'Moved From Abroad White')\n",
    "    })\n",
    "\n",
    "fieldsToGet3 = dict({\n",
    "    ('ST', 'State FIPS'),\n",
    "    ('COUNTY', 'County FIPS Code'),\n",
    "    ('NAME', 'County Name'),\n",
    "    ('B19101_002E', 'Family Income < 10K'),\n",
    "    ('B19101_003E', 'Family Income 10-15K'),\n",
    "    ('B19101_004E', 'Family Income 15-20K'),\n",
    "    ('B19101_004E', 'Family Income 20-25K'),\n",
    "    ('B19101_006E', 'Family Income 25-30K'),\n",
    "    ('B19101_007E', 'Family Income 30-35K'),\n",
    "    ('B19101_008E', 'Family Income 35-40K'),\n",
    "    ('B19101_009E', 'Family Income 40-45K'),\n",
    "    ('B19101_010E', 'Family Income 45-50K'),\n",
    "    ('B19101_011E', 'Family Income 50-60K'),\n",
    "    ('B19101_012E', 'Family Income 60-75K'),\n",
    "    ('B19101_013E', 'Family Income 75-100K'),\n",
    "    ('B19101_014E', 'Family Income 100-125K'),\n",
    "    ('B19101_015E', 'Family Income 125-150K'),\n",
    "    ('B19101_016E', 'Family Income 150-200K'),\n",
    "    ('B19101_017E', 'Family Income > 200K'),\n",
    "    ('B08006_001E', 'Total Means of Transportation Work'),\n",
    "    ('B08006_002E', 'Work by car, truck, van'),\n",
    "    ('B08006_003E', 'Drive Alone'),\n",
    "    ('B08006_004E', 'Car pooled'),\n",
    "    ('B08006_008E', 'Public Transportation'),\n",
    "    ('B08006_012E', 'Rail Road'),\n",
    "    ('B08006_013E', 'Ferry Boat'),\n",
    "    ('B08006_014E', 'Bicycle'),\n",
    "    ('B08006_015E', 'Walked'),\n",
    "    ('B08006_017E', 'Work at Home'),\n",
    "    ('B08007_002E', 'Work in State'),\n",
    "    ('B08007_003E', 'Work in County'),\n",
    "    ('B08007_004E', 'Work outside County'),\n",
    "    ('B08007_005E', 'Work outside State'),\n",
    "    ('B08014_002E', 'No Vehicle Owned'),\n",
    "    ('B08014_003E', '1 vehicle'),\n",
    "    ('B08014_004E', '2 vehicles'),\n",
    "    ('B08014_005E', '3 vehicles'),\n",
    "    ('B08014_006E', '4 vehicles'),\n",
    "    ('B08014_007E', '5 or more vehicles'),\n",
    "    })"
   ]
  },
  {
   "cell_type": "code",
   "execution_count": null,
   "metadata": {
    "collapsed": false
   },
   "outputs": [],
   "source": []
  },
  {
   "cell_type": "code",
   "execution_count": 408,
   "metadata": {
    "collapsed": false
   },
   "outputs": [],
   "source": [
    "year = 2012"
   ]
  },
  {
   "cell_type": "code",
   "execution_count": 409,
   "metadata": {
    "collapsed": false,
    "scrolled": false
   },
   "outputs": [
    {
     "name": "stdout",
     "output_type": "stream",
     "text": [
      "http://api.census.gov/data/2012/acs5?key=6c3fba83f5ccd2adb2fd3894045431e20e3ec5cb&get=B01002_002E,NAME,B06009_005E,B05002_014E,B01001A_001E,B01001H_001E,B06009_011E,B06008_005E,B06009_015E,B01001I_001E,B01001A_017E,B06009_012E,B06009_001E,B01001B_001E,B05001_002E,B06009_014E,B01001H_017E,B06009_003E,B01001_002E,B01002_003E,B06009_018E,B06010_002E,B06009_016E,B06008_003E,B01002_001E,B01001B_017E,B06009_010E,B06008_002E,B01001H_002E,B06009_002E,B06009_017E,B01001I_017E,B01001_026E,B06009_006E,B01001_001E,B06009_009E,B01001I_002E,B06009_004E,B06010_001E,B01001A_002E,COUNTY,B06008_004E,B00002_001E,B06009_007E,B05001_005E,B06009_013E,ST,B06009_008E,B06010_003E,B01001B_002E&for=county:*&in=state:*\n"
     ]
    }
   ],
   "source": [
    "AllCounty = census.get(list(fieldsToGet.keys()), \n",
    "                   ['for=county:*', 'in=state:*'], \n",
    "                   year=year, \n",
    "                   dataset='acs5')"
   ]
  },
  {
   "cell_type": "code",
   "execution_count": 410,
   "metadata": {
    "collapsed": false
   },
   "outputs": [],
   "source": [
    "AllCounty = str(AllCounty)\n",
    "splits = AllCounty.split(']')\n",
    "\n",
    "#Making dict to store all values\n",
    "fields = splits[0][5:].split('\",\"')\n",
    "fields1 = {}\n",
    "for key in fields:\n",
    "    fields1['%s' % key] = []"
   ]
  },
  {
   "cell_type": "code",
   "execution_count": 411,
   "metadata": {
    "collapsed": false
   },
   "outputs": [],
   "source": [
    "#parsing out line to add to fields1 dict, then convert to df\n",
    "for line in splits[1:]:\n",
    "    try:\n",
    "        line = line.split('[')[1]\n",
    "        line = line.split('null')\n",
    "        if len(line) > 1: # skip entries with null\n",
    "            pass\n",
    "        elements = line[0].split('\",\"')\n",
    "        if (len(elements) == len(fields1.keys())):\n",
    "            for field, element in zip(fields, elements):\n",
    "                fields1['%s' % field].append(element.strip('\"'))\n",
    "    except:\n",
    "        pass"
   ]
  },
  {
   "cell_type": "code",
   "execution_count": 412,
   "metadata": {
    "collapsed": false
   },
   "outputs": [
    {
     "name": "stdout",
     "output_type": "stream",
     "text": [
      "http://api.census.gov/data/2012/acs5?key=6c3fba83f5ccd2adb2fd3894045431e20e3ec5cb&get=B06012_011E,B06010_009E,B06010_008E,B06012_002E,B06010_004E,B06012_020E,B07001_001E,B06012_004E,B07004A_003E,B06012_019E,B07004A_005E,B06012_012E,B06010_005E,B07001_017E,NAME,B06011_003E,B06012_001E,B07004A_006E,B07004A_002E,B07001_081E,B06011_004E,B06011_001E,B07004A_001E,B06010_006E,B06011_005E,B06012_010E,B07004A_004E,B06010_007E,B06012_007E,B06010_010E,B07001_033E,B07001_049E,B06010_011E,B06012_018E,B06012_006E,B07001_065E,B06011_002E,B06012_003E,ST,COUNTY,B06012_008E&for=county:*&in=state:*\n"
     ]
    }
   ],
   "source": [
    "AllCounty2 = census.get(list(fieldsToGet2.keys()), \n",
    "                   ['for=county:*', 'in=state:*'], \n",
    "                   year=year, \n",
    "                   dataset='acs5')"
   ]
  },
  {
   "cell_type": "code",
   "execution_count": 413,
   "metadata": {
    "collapsed": true
   },
   "outputs": [],
   "source": [
    "AllCounty2 = str(AllCounty2)\n",
    "splits = AllCounty2.split(']')\n",
    "\n",
    "#Making dict to store all values\n",
    "fields = splits[0][5:].split('\",\"')\n",
    "fields2 = {}\n",
    "for key in fields:\n",
    "    fields2['%s' % key] = []"
   ]
  },
  {
   "cell_type": "code",
   "execution_count": 414,
   "metadata": {
    "collapsed": true
   },
   "outputs": [],
   "source": [
    "#parsing out line to add to fields1 dict, then convert to df\n",
    "for line in splits[1:]:\n",
    "    try:\n",
    "        line = line.split('[')[1]\n",
    "        line = line.split('null')\n",
    "        if len(line) > 1: # skip entries with null\n",
    "            pass\n",
    "        elements = line[0].split('\",\"')\n",
    "        if (len(elements) == len(fields2.keys())):\n",
    "            for field, element in zip(fields, elements):\n",
    "                fields2['%s' % field].append(element.strip('\"'))\n",
    "    except:\n",
    "        pass"
   ]
  },
  {
   "cell_type": "code",
   "execution_count": 415,
   "metadata": {
    "collapsed": false
   },
   "outputs": [
    {
     "name": "stdout",
     "output_type": "stream",
     "text": [
      "http://api.census.gov/data/2012/acs5?key=6c3fba83f5ccd2adb2fd3894045431e20e3ec5cb&get=B19101_016E,B08014_007E,NAME,B19101_015E,B08006_008E,B08006_001E,B08006_013E,B08014_005E,B19101_017E,B19101_009E,B19101_014E,B08014_002E,B08007_003E,B08007_002E,B08007_004E,B08006_015E,B08014_004E,B19101_013E,B19101_004E,B08006_004E,B19101_011E,B19101_008E,B19101_006E,B08006_017E,B08006_002E,B19101_012E,B08007_005E,B08014_006E,B19101_003E,B08014_003E,B19101_007E,B08006_014E,ST,B08006_012E,COUNTY,B08006_003E,B19101_002E,B19101_010E&for=county:*&in=state:*\n"
     ]
    }
   ],
   "source": [
    "AllCounty3 = census.get(list(fieldsToGet3.keys()),\n",
    "                 ['for=county:*', 'in=state:*'], \n",
    "                   year=year, \n",
    "                   dataset='acs5')"
   ]
  },
  {
   "cell_type": "code",
   "execution_count": 416,
   "metadata": {
    "collapsed": false
   },
   "outputs": [],
   "source": [
    "AllCounty3 = str(AllCounty3)\n",
    "splits = AllCounty3.split(']')\n",
    "\n",
    "#Making dict to store all values\n",
    "fields = splits[0][5:].split('\",\"')\n",
    "fields3 = {}\n",
    "for key in fields:\n",
    "    fields3['%s' % key] = []"
   ]
  },
  {
   "cell_type": "code",
   "execution_count": 417,
   "metadata": {
    "collapsed": false
   },
   "outputs": [],
   "source": [
    "#parsing out line to add to fields1 dict, then convert to df\n",
    "for line in splits[1:]:\n",
    "    try:\n",
    "        line = line.split('[')[1]\n",
    "        line = line.split('null')\n",
    "        if len(line) > 1: # skip entries with null\n",
    "            pass\n",
    "        elements = line[0].split('\",\"')\n",
    "        if (len(elements) == len(fields3.keys())):\n",
    "            for field, element in zip(fields, elements):\n",
    "                fields3['%s' % field].append(element.strip('\"'))\n",
    "    except:\n",
    "        pass"
   ]
  },
  {
   "cell_type": "code",
   "execution_count": 418,
   "metadata": {
    "collapsed": true
   },
   "outputs": [],
   "source": [
    "df = pd.DataFrame(fields1)\n",
    "df2 = pd.DataFrame(fields2)\n",
    "df3 = pd.DataFrame(fields3)"
   ]
  },
  {
   "cell_type": "code",
   "execution_count": 419,
   "metadata": {
    "collapsed": false
   },
   "outputs": [
    {
     "name": "stdout",
     "output_type": "stream",
     "text": [
      "(3143, 52)\n",
      "(2829, 43)\n",
      "(3221, 40)\n"
     ]
    }
   ],
   "source": [
    "print(df.shape)\n",
    "print(df2.shape)\n",
    "print(df3.shape)"
   ]
  },
  {
   "cell_type": "code",
   "execution_count": 425,
   "metadata": {
    "collapsed": false
   },
   "outputs": [],
   "source": [
    "finalDf = pd.merge(pd.merge(df, df2, on='NAME'), df3, on='NAME')"
   ]
  },
  {
   "cell_type": "code",
   "execution_count": 436,
   "metadata": {
    "collapsed": false
   },
   "outputs": [],
   "source": [
    "finalDf['fips_code'] = (finalDf['ST'] + finalDf['COUNTY']).astype('int')"
   ]
  },
  {
   "cell_type": "code",
   "execution_count": 438,
   "metadata": {
    "collapsed": false
   },
   "outputs": [],
   "source": [
    "finalDf = pd.merge(election, finalDf, on='fips_code')"
   ]
  },
  {
   "cell_type": "code",
   "execution_count": null,
   "metadata": {
    "collapsed": true
   },
   "outputs": [],
   "source": []
  },
  {
   "cell_type": "code",
   "execution_count": null,
   "metadata": {
    "collapsed": true
   },
   "outputs": [],
   "source": []
  },
  {
   "cell_type": "code",
   "execution_count": null,
   "metadata": {
    "collapsed": true
   },
   "outputs": [],
   "source": []
  }
 ],
 "metadata": {
  "kernelspec": {
   "display_name": "Python 3",
   "language": "python",
   "name": "python3"
  },
  "language_info": {
   "codemirror_mode": {
    "name": "ipython",
    "version": 3
   },
   "file_extension": ".py",
   "mimetype": "text/x-python",
   "name": "python",
   "nbconvert_exporter": "python",
   "pygments_lexer": "ipython3",
   "version": "3.5.2"
  }
 },
 "nbformat": 4,
 "nbformat_minor": 1
}
