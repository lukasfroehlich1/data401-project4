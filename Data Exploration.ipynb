{
 "cells": [
  {
   "cell_type": "code",
   "execution_count": 1,
   "metadata": {
    "collapsed": true
   },
   "outputs": [],
   "source": [
    "import pandas as pd\n",
    "import numpy as np\n",
    "import glob\n",
    "import csv\n",
    "from collections import defaultdict\n",
    "import re\n",
    "import json"
   ]
  },
  {
   "cell_type": "code",
   "execution_count": null,
   "metadata": {
    "collapsed": true
   },
   "outputs": [],
   "source": []
  },
  {
   "cell_type": "code",
   "execution_count": null,
   "metadata": {
    "collapsed": true
   },
   "outputs": [],
   "source": []
  },
  {
   "cell_type": "code",
   "execution_count": 2,
   "metadata": {
    "collapsed": false
   },
   "outputs": [],
   "source": [
    "election = pd.read_csv(\"US_County_Level_Presidential_Results_08-16.csv\")"
   ]
  },
  {
   "cell_type": "code",
   "execution_count": 3,
   "metadata": {
    "collapsed": false
   },
   "outputs": [],
   "source": [
    "election.dropna(axis=1, inplace=True)"
   ]
  },
  {
   "cell_type": "markdown",
   "metadata": {
    "collapsed": true
   },
   "source": [
    "## Collecting Census Data"
   ]
  },
  {
   "cell_type": "code",
   "execution_count": 4,
   "metadata": {
    "collapsed": false
   },
   "outputs": [],
   "source": [
    "import urllib.request\n",
    "import ast\n",
    "\n",
    "\n",
    "class Census:\n",
    "    def __init__(self, key):\n",
    "        self.key = key\n",
    "\n",
    "    def get(self, fields, geo, year=2012, dataset='sf1'):\n",
    "        fields = [','.join(fields)]\n",
    "        base_url = 'http://api.census.gov/data/%s/%s?key=%s&get=' % (str(year), dataset, self.key)\n",
    "        query = fields\n",
    "        for item in geo:\n",
    "            query.append(item)\n",
    "        add_url = '&'.join(query)\n",
    "        url = base_url + add_url\n",
    "        print(url)\n",
    "        req = urllib.request.Request(url)\n",
    "        response = urllib.request.urlopen(req)\n",
    "        return response.read()"
   ]
  },
  {
   "cell_type": "code",
   "execution_count": 5,
   "metadata": {
    "collapsed": true
   },
   "outputs": [],
   "source": [
    "census = Census('6c3fba83f5ccd2adb2fd3894045431e20e3ec5cb')"
   ]
  },
  {
   "cell_type": "code",
   "execution_count": 6,
   "metadata": {
    "collapsed": false
   },
   "outputs": [],
   "source": [
    "fieldsToGet = dict({\n",
    "    ('ST', 'State FIPS'),\n",
    "    ('COUNTY', 'County FIPS Code'),\n",
    "    ('NAME', 'County Name'),\n",
    "    ('B00002_001E', '# of Housing Units'),\n",
    "    ('B01001_001E', 'Population'),\n",
    "    ('B01001_002E', '# Male'),\n",
    "    ('B01001_026E', '# Female'),\n",
    "    ('B01001A_001E', '# White'),\n",
    "    ('B01001A_002E', '# White Male'),\n",
    "    ('B01001A_017E', '# White Female'),\n",
    "    ('B01001B_001E', '# Black'),\n",
    "    ('B01001B_002E', '# Black Male'),\n",
    "    ('B01001B_017E', '# Black Female'),\n",
    "    ('B01001H_001E', '# White Not Hispanic'),\n",
    "    ('B01001H_002E', '# White Not Hispanis Male'),\n",
    "    ('B01001H_017E', '# White Not Hispanis Female'),\n",
    "    ('B01001I_001E', '# Hispanic'),\n",
    "    ('B01001I_002E', '# Hispanic Male'),\n",
    "    ('B01001I_017E', '# Hispanic Female'),\n",
    "    ('B01002_001E', 'Median Age'),\n",
    "    ('B01002_002E', 'Median Age Male'),\n",
    "    ('B01002_003E', 'Median Age Female'),\n",
    "    ('B05001_002E', 'Citizen, born in US'),\n",
    "    ('B05001_005E', 'Citizen by Naturalization'),\n",
    "    ('B05002_014E', 'Foreign born naturalized'),\n",
    "    ('B06008_002E', 'Never Married'),\n",
    "    ('B06008_003E', 'Currently Married'),\n",
    "    ('B06008_004E', 'Divorced'),\n",
    "    ('B06008_005E', 'Separated'),\n",
    "    ('B06009_001E', 'Education Count'),\n",
    "    ('B06009_002E', 'Less Than HS'),\n",
    "    ('B06009_003E', 'HS or equal'),\n",
    "    ('B06009_004E', 'Some College-AA'),\n",
    "    ('B06009_005E', 'Bachelor'),\n",
    "    ('B06009_006E', 'Graduate'),\n",
    "    ('B06009_007E', 'Total Born In State education'),\n",
    "    ('B06009_008E', 'In State-Less than HS'),\n",
    "    ('B06009_009E', 'In State-HS or equal'),\n",
    "    ('B06009_010E', 'In State-Some College'),\n",
    "    ('B06009_011E', 'In State-Bachelor'),\n",
    "    ('B06009_012E', 'In State-Graduate'),\n",
    "    ('B06009_013E', 'Born in Other State Education'),\n",
    "    ('B06009_014E', 'Other State-Less than HS'),\n",
    "    ('B06009_015E', 'Other State-HS or equal'),\n",
    "    ('B06009_016E', 'Other State-Some College'),\n",
    "    ('B06009_017E', 'Other State-Bachelor'),\n",
    "    ('B06009_018E', 'Other State-Graduate'),\n",
    "    ('B06010_001E', 'Total Reporting Income'),\n",
    "    ('B06010_002E', 'Total Reporing 0 Income'),\n",
    "    ('B06010_003E', 'Total Reporting with Income'),\n",
    "})\n",
    "\n",
    "fieldsToGet2 = dict({\n",
    "    ('ST', 'State FIPS'),\n",
    "    ('COUNTY', 'County FIPS Code'),\n",
    "    ('NAME', 'County Name'),\n",
    "    ('B06010_004E', 'Income < 10K'),\n",
    "    ('B06010_005E', 'Income 10-15K'),\n",
    "    ('B06010_006E', 'Income 15-25K'),\n",
    "    ('B06010_007E', 'Income 25-35K'),\n",
    "    ('B06010_008E', 'Income 35-50K'),\n",
    "    ('B06010_009E', 'Income 50-65K'),\n",
    "    ('B06010_010E', 'Income 65-75K'),\n",
    "    ('B06010_011E', 'Income > 75K'),\n",
    "    ('B06011_001E', 'Median Income'),\n",
    "    ('B06011_002E', 'Median Income Born In State'),\n",
    "    ('B06011_003E', 'Median Income Born Other State'),\n",
    "    ('B06011_004E', 'Median Income Born Outside US, Native'),\n",
    "    ('B06011_005E', 'Median Income Foreign Born'),\n",
    "    ('B06012_001E', 'Total In Poverty Pool'),\n",
    "    ('B06012_002E', '100% below povery line'),\n",
    "    ('B06012_003E', '1-1.5X of poverty line'),\n",
    "    ('B06012_004E', 'At above 150% poverty line'),\n",
    "    ('B06012_006E', 'Born In State below 100% poverty'),\n",
    "    ('B06012_007E', 'Born In State 1-1.5X of poverty line'),\n",
    "    ('B06012_008E', 'Born In State at/above 1.5X poverty line'),\n",
    "    ('B06012_010E', 'Born Other State below 100% poverty'),\n",
    "    ('B06012_011E', 'Born Other State 1-1.5X of poverty line'),\n",
    "    ('B06012_012E', 'Born Other State at/above 1.5X poverty line'),\n",
    "    ('B06012_018E', 'Foreign Born below 100% poverty'),\n",
    "    ('B06012_019E', 'Foreign Born 1-1.5X of poverty line'),\n",
    "    ('B06012_020E', 'Foreign Born at/above 1.5X poverty line'),\n",
    "    ('B07001_001E', 'Total Moving'),\n",
    "    ('B07001_017E', 'Same house 1 year ago'),\n",
    "    ('B07001_033E', 'Moved Within County'),\n",
    "    ('B07001_049E', 'Moved Within Same State'),\n",
    "    ('B07001_065E', 'Moved From Different State'),\n",
    "    ('B07001_081E', 'Moved From Abroad'),\n",
    "    ('B07004A_001E', 'Total Moving White'),\n",
    "    ('B07004A_002E', 'Same house 1 year ago White'),\n",
    "    ('B07004A_003E', 'Moved Within County White'),\n",
    "    ('B07004A_004E', 'Moved Within Same State White'),\n",
    "    ('B07004A_005E', 'Moved From Different State White'),\n",
    "    ('B07004A_006E', 'Moved From Abroad White')\n",
    "    })\n",
    "\n",
    "fieldsToGet3 = dict({\n",
    "    ('ST', 'State FIPS'),\n",
    "    ('COUNTY', 'County FIPS Code'),\n",
    "    ('NAME', 'County Name'),\n",
    "    ('B19101_002E', 'Family Income < 10K'),\n",
    "    ('B19101_003E', 'Family Income 10-15K'),\n",
    "    ('B19101_004E', 'Family Income 15-20K'),\n",
    "    ('B19101_004E', 'Family Income 20-25K'),\n",
    "    ('B19101_006E', 'Family Income 25-30K'),\n",
    "    ('B19101_007E', 'Family Income 30-35K'),\n",
    "    ('B19101_008E', 'Family Income 35-40K'),\n",
    "    ('B19101_009E', 'Family Income 40-45K'),\n",
    "    ('B19101_010E', 'Family Income 45-50K'),\n",
    "    ('B19101_011E', 'Family Income 50-60K'),\n",
    "    ('B19101_012E', 'Family Income 60-75K'),\n",
    "    ('B19101_013E', 'Family Income 75-100K'),\n",
    "    ('B19101_014E', 'Family Income 100-125K'),\n",
    "    ('B19101_015E', 'Family Income 125-150K'),\n",
    "    ('B19101_016E', 'Family Income 150-200K'),\n",
    "    ('B19101_017E', 'Family Income > 200K'),\n",
    "    ('B08006_001E', 'Total Means of Transportation Work'),\n",
    "    ('B08006_002E', 'Work by car, truck, van'),\n",
    "    ('B08006_003E', 'Drive Alone'),\n",
    "    ('B08006_004E', 'Car pooled'),\n",
    "    ('B08006_008E', 'Public Transportation'),\n",
    "    ('B08006_012E', 'Rail Road'),\n",
    "    ('B08006_013E', 'Ferry Boat'),\n",
    "    ('B08006_014E', 'Bicycle'),\n",
    "    ('B08006_015E', 'Walked'),\n",
    "    ('B08006_017E', 'Work at Home'),\n",
    "    ('B08007_002E', 'Work in State'),\n",
    "    ('B08007_003E', 'Work in County'),\n",
    "    ('B08007_004E', 'Work outside County'),\n",
    "    ('B08007_005E', 'Work outside State'),\n",
    "    ('B08014_002E', 'No Vehicle Owned'),\n",
    "    ('B08014_003E', '1 vehicle'),\n",
    "    ('B08014_004E', '2 vehicles'),\n",
    "    ('B08014_005E', '3 vehicles'),\n",
    "    ('B08014_006E', '4 vehicles'),\n",
    "    ('B08014_007E', '5 or more vehicles'),\n",
    "    })"
   ]
  },
  {
   "cell_type": "code",
   "execution_count": null,
   "metadata": {
    "collapsed": false
   },
   "outputs": [],
   "source": []
  },
  {
   "cell_type": "markdown",
   "metadata": {},
   "source": [
    "# CHANGE ME IF YOU WANT DATA FROM DIFFERENT YEARS ONY 2011 - 2015 though"
   ]
  },
  {
   "cell_type": "code",
   "execution_count": 7,
   "metadata": {
    "collapsed": false
   },
   "outputs": [],
   "source": [
    "year = 2012"
   ]
  },
  {
   "cell_type": "code",
   "execution_count": 8,
   "metadata": {
    "collapsed": false,
    "scrolled": false
   },
   "outputs": [
    {
     "name": "stdout",
     "output_type": "stream",
     "text": [
      "http://api.census.gov/data/2012/acs5?key=6c3fba83f5ccd2adb2fd3894045431e20e3ec5cb&get=B06010_003E,B05002_014E,B06009_013E,B01001H_017E,B06009_009E,B06009_012E,B06008_005E,B06009_017E,B06009_001E,B06010_001E,B06008_002E,B01001H_001E,B06009_003E,B06009_018E,B06009_002E,B01001_026E,B06009_011E,ST,B00002_001E,B06009_008E,B06010_002E,B01001B_001E,B01001B_017E,B01001I_017E,B06009_006E,B06008_003E,B01001_001E,B01002_002E,B01002_003E,B01001A_002E,B06009_015E,B06008_004E,B01001_002E,COUNTY,B01001I_001E,B01002_001E,B06009_014E,B01001A_001E,B06009_004E,B01001B_002E,B01001A_017E,B05001_002E,B06009_005E,B01001I_002E,B01001H_002E,B06009_016E,NAME,B05001_005E,B06009_007E,B06009_010E&for=county:*&in=state:*\n",
      "http://api.census.gov/data/2012/acs5?key=6c3fba83f5ccd2adb2fd3894045431e20e3ec5cb&get=B06012_018E,B06010_005E,B06012_002E,B06012_019E,B06012_020E,B06010_010E,B06011_003E,NAME,B06012_006E,B07004A_006E,B07001_017E,B06012_012E,COUNTY,B07004A_003E,B06010_009E,B06010_011E,B07001_049E,B06010_004E,B06012_004E,B06012_003E,B06011_005E,B06011_002E,B07004A_001E,B06010_007E,B07001_033E,B07004A_002E,B06012_008E,B06011_004E,B06010_006E,ST,B07001_081E,B06011_001E,B06010_008E,B07004A_005E,B07004A_004E,B06012_010E,B06012_011E,B07001_001E,B06012_007E,B07001_065E,B06012_001E&for=county:*&in=state:*\n",
      "http://api.census.gov/data/2012/acs5?key=6c3fba83f5ccd2adb2fd3894045431e20e3ec5cb&get=B08014_003E,B19101_017E,B19101_002E,B08006_001E,B19101_011E,B19101_009E,B08006_012E,B08014_004E,B08006_017E,B08006_015E,B08006_004E,B08006_008E,COUNTY,B19101_004E,B08006_003E,B19101_013E,B19101_010E,B19101_015E,B08014_005E,B19101_012E,B08007_005E,B19101_014E,B19101_003E,B08006_014E,B08007_003E,B19101_016E,B08014_002E,B08014_007E,B19101_007E,B08007_002E,ST,B08007_004E,B19101_008E,B08014_006E,NAME,B19101_006E,B08006_013E,B08006_002E&for=county:*&in=state:*\n"
     ]
    }
   ],
   "source": [
    "AllCounty = census.get(list(fieldsToGet.keys()), \n",
    "                   ['for=county:*', 'in=state:*'], \n",
    "                   year=year, \n",
    "                   dataset='acs5')\n",
    "AllCounty2 = census.get(list(fieldsToGet2.keys()), \n",
    "                   ['for=county:*', 'in=state:*'], \n",
    "                   year=year, \n",
    "                   dataset='acs5')\n",
    "AllCounty3 = census.get(list(fieldsToGet3.keys()),\n",
    "                 ['for=county:*', 'in=state:*'], \n",
    "                   year=year, \n",
    "                   dataset='acs5')"
   ]
  },
  {
   "cell_type": "code",
   "execution_count": 9,
   "metadata": {
    "collapsed": false
   },
   "outputs": [],
   "source": [
    "AllCounty = str(AllCounty)\n",
    "splits = AllCounty.split(']')\n",
    "\n",
    "#Making dict to store all values\n",
    "fields = splits[0][5:].split('\",\"')\n",
    "fields1 = {}\n",
    "for key in fields:\n",
    "    fields1['%s' % key] = []"
   ]
  },
  {
   "cell_type": "code",
   "execution_count": 10,
   "metadata": {
    "collapsed": false
   },
   "outputs": [],
   "source": [
    "#parsing out line to add to fields1 dict, then convert to df\n",
    "for line in splits[1:]:\n",
    "    try:\n",
    "        line = line.split('[')[1]\n",
    "        line = line.split('null')\n",
    "        if len(line) > 1: # skip entries with null\n",
    "            pass\n",
    "        elements = line[0].split('\",\"')\n",
    "        if (len(elements) == len(fields1.keys())):\n",
    "            for field, element in zip(fields, elements):\n",
    "                fields1['%s' % field].append(element.strip('\"'))\n",
    "    except:\n",
    "        pass"
   ]
  },
  {
   "cell_type": "code",
   "execution_count": 11,
   "metadata": {
    "collapsed": true
   },
   "outputs": [],
   "source": [
    "AllCounty2 = str(AllCounty2)\n",
    "splits = AllCounty2.split(']')\n",
    "\n",
    "#Making dict to store all values\n",
    "fields = splits[0][5:].split('\",\"')\n",
    "fields2 = {}\n",
    "for key in fields:\n",
    "    fields2['%s' % key] = []"
   ]
  },
  {
   "cell_type": "code",
   "execution_count": 12,
   "metadata": {
    "collapsed": true
   },
   "outputs": [],
   "source": [
    "#parsing out line to add to fields1 dict, then convert to df\n",
    "for line in splits[1:]:\n",
    "    try:\n",
    "        line = line.split('[')[1]\n",
    "        line = line.split('null')\n",
    "        if len(line) > 1: # skip entries with null\n",
    "            pass\n",
    "        elements = line[0].split('\",\"')\n",
    "        if (len(elements) == len(fields2.keys())):\n",
    "            for field, element in zip(fields, elements):\n",
    "                fields2['%s' % field].append(element.strip('\"'))\n",
    "    except:\n",
    "        pass"
   ]
  },
  {
   "cell_type": "code",
   "execution_count": 13,
   "metadata": {
    "collapsed": false
   },
   "outputs": [],
   "source": [
    "AllCounty3 = str(AllCounty3)\n",
    "splits = AllCounty3.split(']')\n",
    "\n",
    "#Making dict to store all values\n",
    "fields = splits[0][5:].split('\",\"')\n",
    "fields3 = {}\n",
    "for key in fields:\n",
    "    fields3['%s' % key] = []"
   ]
  },
  {
   "cell_type": "code",
   "execution_count": 14,
   "metadata": {
    "collapsed": false
   },
   "outputs": [],
   "source": [
    "#parsing out line to add to fields1 dict, then convert to df\n",
    "for line in splits[1:]:\n",
    "    try:\n",
    "        line = line.split('[')[1]\n",
    "        line = line.split('null')\n",
    "        if len(line) > 1: # skip entries with null\n",
    "            pass\n",
    "        elements = line[0].split('\",\"')\n",
    "        if (len(elements) == len(fields3.keys())):\n",
    "            for field, element in zip(fields, elements):\n",
    "                fields3['%s' % field].append(element.strip('\"'))\n",
    "    except:\n",
    "        pass"
   ]
  },
  {
   "cell_type": "markdown",
   "metadata": {},
   "source": [
    "Merging the Data frames"
   ]
  },
  {
   "cell_type": "code",
   "execution_count": 15,
   "metadata": {
    "collapsed": true
   },
   "outputs": [],
   "source": [
    "df = pd.DataFrame(fields1)\n",
    "df2 = pd.DataFrame(fields2)\n",
    "df3 = pd.DataFrame(fields3)"
   ]
  },
  {
   "cell_type": "code",
   "execution_count": 16,
   "metadata": {
    "collapsed": false
   },
   "outputs": [
    {
     "name": "stdout",
     "output_type": "stream",
     "text": [
      "(3143, 52)\n",
      "(2829, 43)\n",
      "(3221, 40)\n"
     ]
    }
   ],
   "source": [
    "print(df.shape)\n",
    "print(df2.shape)\n",
    "print(df3.shape)"
   ]
  },
  {
   "cell_type": "code",
   "execution_count": 17,
   "metadata": {
    "collapsed": false
   },
   "outputs": [],
   "source": [
    "finalDf = pd.merge(pd.merge(df, df2, on='NAME'), df3, on='NAME', how='outer')"
   ]
  },
  {
   "cell_type": "code",
   "execution_count": 18,
   "metadata": {
    "collapsed": false
   },
   "outputs": [],
   "source": [
    "finalDf['fips_code'] = (finalDf['ST'] + finalDf['COUNTY']).astype('int')"
   ]
  },
  {
   "cell_type": "code",
   "execution_count": 19,
   "metadata": {
    "collapsed": false
   },
   "outputs": [],
   "source": [
    "finalDf = pd.merge(election, finalDf, on='fips_code')"
   ]
  },
  {
   "cell_type": "code",
   "execution_count": 20,
   "metadata": {
    "collapsed": false
   },
   "outputs": [],
   "source": [
    "for col in ['COUNTY', 'ST', 'county\"', 'state', 'COUNTY_y', 'ST_y', 'county\"_y','state_y']:\n",
    "    del finalDf[col]"
   ]
  },
  {
   "cell_type": "markdown",
   "metadata": {},
   "source": [
    "# DATAFRAME TO USE"
   ]
  },
  {
   "cell_type": "code",
   "execution_count": 21,
   "metadata": {
    "collapsed": false
   },
   "outputs": [
    {
     "data": {
      "text/html": [
       "<div>\n",
       "<table border=\"1\" class=\"dataframe\">\n",
       "  <thead>\n",
       "    <tr style=\"text-align: right;\">\n",
       "      <th></th>\n",
       "      <th>fips_code</th>\n",
       "      <th>county</th>\n",
       "      <th>total_2008</th>\n",
       "      <th>dem_2008</th>\n",
       "      <th>gop_2008</th>\n",
       "      <th>oth_2008</th>\n",
       "      <th>total_2012</th>\n",
       "      <th>dem_2012</th>\n",
       "      <th>gop_2012</th>\n",
       "      <th>oth_2012</th>\n",
       "      <th>...</th>\n",
       "      <th>B19101_008E</th>\n",
       "      <th>B19101_009E</th>\n",
       "      <th>B19101_010E</th>\n",
       "      <th>B19101_011E</th>\n",
       "      <th>B19101_012E</th>\n",
       "      <th>B19101_013E</th>\n",
       "      <th>B19101_014E</th>\n",
       "      <th>B19101_015E</th>\n",
       "      <th>B19101_016E</th>\n",
       "      <th>B19101_017E</th>\n",
       "    </tr>\n",
       "  </thead>\n",
       "  <tbody>\n",
       "    <tr>\n",
       "      <th>0</th>\n",
       "      <td>26041</td>\n",
       "      <td>Delta County</td>\n",
       "      <td>19064</td>\n",
       "      <td>9974</td>\n",
       "      <td>8763</td>\n",
       "      <td>327</td>\n",
       "      <td>18043</td>\n",
       "      <td>8330</td>\n",
       "      <td>9533</td>\n",
       "      <td>180</td>\n",
       "      <td>...</td>\n",
       "      <td>581</td>\n",
       "      <td>586</td>\n",
       "      <td>709</td>\n",
       "      <td>1156</td>\n",
       "      <td>1394</td>\n",
       "      <td>1524</td>\n",
       "      <td>773</td>\n",
       "      <td>350</td>\n",
       "      <td>282</td>\n",
       "      <td>134</td>\n",
       "    </tr>\n",
       "    <tr>\n",
       "      <th>1</th>\n",
       "      <td>48295</td>\n",
       "      <td>Lipscomb County</td>\n",
       "      <td>1256</td>\n",
       "      <td>155</td>\n",
       "      <td>1093</td>\n",
       "      <td>8</td>\n",
       "      <td>1168</td>\n",
       "      <td>119</td>\n",
       "      <td>1044</td>\n",
       "      <td>5</td>\n",
       "      <td>...</td>\n",
       "      <td>30</td>\n",
       "      <td>31</td>\n",
       "      <td>23</td>\n",
       "      <td>127</td>\n",
       "      <td>102</td>\n",
       "      <td>141</td>\n",
       "      <td>75</td>\n",
       "      <td>53</td>\n",
       "      <td>18</td>\n",
       "      <td>29</td>\n",
       "    </tr>\n",
       "    <tr>\n",
       "      <th>2</th>\n",
       "      <td>1127</td>\n",
       "      <td>Walker County</td>\n",
       "      <td>28652</td>\n",
       "      <td>7420</td>\n",
       "      <td>20722</td>\n",
       "      <td>510</td>\n",
       "      <td>28497</td>\n",
       "      <td>6551</td>\n",
       "      <td>21633</td>\n",
       "      <td>313</td>\n",
       "      <td>...</td>\n",
       "      <td>1309</td>\n",
       "      <td>953</td>\n",
       "      <td>782</td>\n",
       "      <td>1471</td>\n",
       "      <td>2099</td>\n",
       "      <td>2122</td>\n",
       "      <td>1626</td>\n",
       "      <td>611</td>\n",
       "      <td>335</td>\n",
       "      <td>261</td>\n",
       "    </tr>\n",
       "    <tr>\n",
       "      <th>3</th>\n",
       "      <td>48389</td>\n",
       "      <td>Reeves County</td>\n",
       "      <td>3077</td>\n",
       "      <td>1606</td>\n",
       "      <td>1445</td>\n",
       "      <td>26</td>\n",
       "      <td>2867</td>\n",
       "      <td>1649</td>\n",
       "      <td>1185</td>\n",
       "      <td>33</td>\n",
       "      <td>...</td>\n",
       "      <td>140</td>\n",
       "      <td>113</td>\n",
       "      <td>33</td>\n",
       "      <td>187</td>\n",
       "      <td>229</td>\n",
       "      <td>468</td>\n",
       "      <td>188</td>\n",
       "      <td>29</td>\n",
       "      <td>90</td>\n",
       "      <td>8</td>\n",
       "    </tr>\n",
       "    <tr>\n",
       "      <th>4</th>\n",
       "      <td>56017</td>\n",
       "      <td>Hot Springs County</td>\n",
       "      <td>2546</td>\n",
       "      <td>619</td>\n",
       "      <td>1834</td>\n",
       "      <td>93</td>\n",
       "      <td>2495</td>\n",
       "      <td>523</td>\n",
       "      <td>1894</td>\n",
       "      <td>78</td>\n",
       "      <td>...</td>\n",
       "      <td>58</td>\n",
       "      <td>51</td>\n",
       "      <td>85</td>\n",
       "      <td>101</td>\n",
       "      <td>274</td>\n",
       "      <td>149</td>\n",
       "      <td>105</td>\n",
       "      <td>44</td>\n",
       "      <td>30</td>\n",
       "      <td>46</td>\n",
       "    </tr>\n",
       "  </tbody>\n",
       "</table>\n",
       "<p>5 rows × 139 columns</p>\n",
       "</div>"
      ],
      "text/plain": [
       "   fips_code              county  total_2008  dem_2008  gop_2008  oth_2008  \\\n",
       "0      26041        Delta County       19064      9974      8763       327   \n",
       "1      48295     Lipscomb County        1256       155      1093         8   \n",
       "2       1127       Walker County       28652      7420     20722       510   \n",
       "3      48389       Reeves County        3077      1606      1445        26   \n",
       "4      56017  Hot Springs County        2546       619      1834        93   \n",
       "\n",
       "   total_2012  dem_2012  gop_2012  oth_2012     ...      B19101_008E  \\\n",
       "0       18043      8330      9533       180     ...              581   \n",
       "1        1168       119      1044         5     ...               30   \n",
       "2       28497      6551     21633       313     ...             1309   \n",
       "3        2867      1649      1185        33     ...              140   \n",
       "4        2495       523      1894        78     ...               58   \n",
       "\n",
       "   B19101_009E  B19101_010E  B19101_011E B19101_012E B19101_013E B19101_014E  \\\n",
       "0          586          709         1156        1394        1524         773   \n",
       "1           31           23          127         102         141          75   \n",
       "2          953          782         1471        2099        2122        1626   \n",
       "3          113           33          187         229         468         188   \n",
       "4           51           85          101         274         149         105   \n",
       "\n",
       "  B19101_015E B19101_016E B19101_017E  \n",
       "0         350         282         134  \n",
       "1          53          18          29  \n",
       "2         611         335         261  \n",
       "3          29          90           8  \n",
       "4          44          30          46  \n",
       "\n",
       "[5 rows x 139 columns]"
      ]
     },
     "execution_count": 21,
     "metadata": {},
     "output_type": "execute_result"
    }
   ],
   "source": [
    "#there might be some NAs in the demographics field, not sure what we want to do about them\n",
    "#drop the county? what if it's an important county?\n",
    "finalDf.head()"
   ]
  },
  {
   "cell_type": "markdown",
   "metadata": {},
   "source": [
    "Try and predict change in number of voters over the years. \n",
    "\n",
    "Try and predict the change in demographic voting ratio. "
   ]
  },
  {
   "cell_type": "markdown",
   "metadata": {},
   "source": [
    "The project sheet said we have to use some clustering techniques to see which county was mis-clustered. Not sure if this is the best way to predict tho..\n",
    "\n",
    "Also the sheet mentioned about building models that will explain things, so I was thinking of using Lasso or elastic net, and we can pull census data from 2011 and 2015 to try to see which variable were the most important features we from each data set"
   ]
  },
  {
   "cell_type": "code",
   "execution_count": null,
   "metadata": {
    "collapsed": true
   },
   "outputs": [],
   "source": []
  },
  {
   "cell_type": "code",
   "execution_count": null,
   "metadata": {
    "collapsed": true
   },
   "outputs": [],
   "source": []
  },
  {
   "cell_type": "code",
   "execution_count": null,
   "metadata": {
    "collapsed": true
   },
   "outputs": [],
   "source": []
  },
  {
   "cell_type": "code",
   "execution_count": null,
   "metadata": {
    "collapsed": true
   },
   "outputs": [],
   "source": []
  }
 ],
 "metadata": {
  "kernelspec": {
   "display_name": "Python 3",
   "language": "python",
   "name": "python3"
  },
  "language_info": {
   "codemirror_mode": {
    "name": "ipython",
    "version": 3
   },
   "file_extension": ".py",
   "mimetype": "text/x-python",
   "name": "python",
   "nbconvert_exporter": "python",
   "pygments_lexer": "ipython3",
   "version": "3.5.2"
  }
 },
 "nbformat": 4,
 "nbformat_minor": 1
}
