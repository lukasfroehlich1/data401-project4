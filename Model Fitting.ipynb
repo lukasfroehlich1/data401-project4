{
 "cells": [
  {
   "cell_type": "code",
   "execution_count": 1,
   "metadata": {
    "collapsed": false
   },
   "outputs": [],
   "source": [
    "import pandas as pd\n",
    "import numpy as np\n",
    "import pickle\n",
    "import matplotlib.pyplot as plt"
   ]
  },
  {
   "cell_type": "code",
   "execution_count": null,
   "metadata": {
    "collapsed": true
   },
   "outputs": [],
   "source": []
  },
  {
   "cell_type": "code",
   "execution_count": 2,
   "metadata": {
    "collapsed": false
   },
   "outputs": [],
   "source": [
    "f = open(\"./final_data.p\", \"rb\")\n",
    "data = pickle.load(f)"
   ]
  },
  {
   "cell_type": "code",
   "execution_count": 3,
   "metadata": {
    "collapsed": false,
    "scrolled": true
   },
   "outputs": [
    {
     "data": {
      "text/html": [
       "<div>\n",
       "<table border=\"1\" class=\"dataframe\">\n",
       "  <thead>\n",
       "    <tr style=\"text-align: right;\">\n",
       "      <th></th>\n",
       "      <th>fips_code</th>\n",
       "      <th>county</th>\n",
       "      <th>total_2008</th>\n",
       "      <th>dem_2008</th>\n",
       "      <th>gop_2008</th>\n",
       "      <th>oth_2008</th>\n",
       "      <th>total_2012</th>\n",
       "      <th>dem_2012</th>\n",
       "      <th>gop_2012</th>\n",
       "      <th>oth_2012</th>\n",
       "      <th>...</th>\n",
       "      <th>Family Income 35-40K</th>\n",
       "      <th>Family Income 40-45K</th>\n",
       "      <th>Family Income 45-50K</th>\n",
       "      <th>Family Income 50-60K</th>\n",
       "      <th>Family Income 60-75K</th>\n",
       "      <th>Family Income 75-100K</th>\n",
       "      <th>Family Income 100-125K</th>\n",
       "      <th>Family Income 125-150K</th>\n",
       "      <th>Family Income 150-200K</th>\n",
       "      <th>Family Income &gt; 200K</th>\n",
       "    </tr>\n",
       "  </thead>\n",
       "  <tbody>\n",
       "    <tr>\n",
       "      <th>0</th>\n",
       "      <td>26041</td>\n",
       "      <td>Delta County</td>\n",
       "      <td>19064.0</td>\n",
       "      <td>9974.0</td>\n",
       "      <td>8763.0</td>\n",
       "      <td>327.0</td>\n",
       "      <td>18043.0</td>\n",
       "      <td>8330.0</td>\n",
       "      <td>9533.0</td>\n",
       "      <td>180.0</td>\n",
       "      <td>...</td>\n",
       "      <td>453.0</td>\n",
       "      <td>572.0</td>\n",
       "      <td>528.0</td>\n",
       "      <td>1217.0</td>\n",
       "      <td>1261.0</td>\n",
       "      <td>1697.0</td>\n",
       "      <td>623.0</td>\n",
       "      <td>401.0</td>\n",
       "      <td>234.0</td>\n",
       "      <td>96.0</td>\n",
       "    </tr>\n",
       "    <tr>\n",
       "      <th>1</th>\n",
       "      <td>48295</td>\n",
       "      <td>Lipscomb County</td>\n",
       "      <td>1256.0</td>\n",
       "      <td>155.0</td>\n",
       "      <td>1093.0</td>\n",
       "      <td>8.0</td>\n",
       "      <td>1168.0</td>\n",
       "      <td>119.0</td>\n",
       "      <td>1044.0</td>\n",
       "      <td>5.0</td>\n",
       "      <td>...</td>\n",
       "      <td>20.0</td>\n",
       "      <td>29.0</td>\n",
       "      <td>33.0</td>\n",
       "      <td>79.0</td>\n",
       "      <td>123.0</td>\n",
       "      <td>116.0</td>\n",
       "      <td>91.0</td>\n",
       "      <td>54.0</td>\n",
       "      <td>56.0</td>\n",
       "      <td>46.0</td>\n",
       "    </tr>\n",
       "    <tr>\n",
       "      <th>2</th>\n",
       "      <td>1127</td>\n",
       "      <td>Walker County</td>\n",
       "      <td>28652.0</td>\n",
       "      <td>7420.0</td>\n",
       "      <td>20722.0</td>\n",
       "      <td>510.0</td>\n",
       "      <td>28497.0</td>\n",
       "      <td>6551.0</td>\n",
       "      <td>21633.0</td>\n",
       "      <td>313.0</td>\n",
       "      <td>...</td>\n",
       "      <td>1041.0</td>\n",
       "      <td>919.0</td>\n",
       "      <td>987.0</td>\n",
       "      <td>1570.0</td>\n",
       "      <td>2209.0</td>\n",
       "      <td>1819.0</td>\n",
       "      <td>1210.0</td>\n",
       "      <td>745.0</td>\n",
       "      <td>437.0</td>\n",
       "      <td>339.0</td>\n",
       "    </tr>\n",
       "    <tr>\n",
       "      <th>3</th>\n",
       "      <td>48389</td>\n",
       "      <td>Reeves County</td>\n",
       "      <td>3077.0</td>\n",
       "      <td>1606.0</td>\n",
       "      <td>1445.0</td>\n",
       "      <td>26.0</td>\n",
       "      <td>2867.0</td>\n",
       "      <td>1649.0</td>\n",
       "      <td>1185.0</td>\n",
       "      <td>33.0</td>\n",
       "      <td>...</td>\n",
       "      <td>96.0</td>\n",
       "      <td>119.0</td>\n",
       "      <td>75.0</td>\n",
       "      <td>213.0</td>\n",
       "      <td>320.0</td>\n",
       "      <td>350.0</td>\n",
       "      <td>188.0</td>\n",
       "      <td>69.0</td>\n",
       "      <td>64.0</td>\n",
       "      <td>79.0</td>\n",
       "    </tr>\n",
       "    <tr>\n",
       "      <th>4</th>\n",
       "      <td>56017</td>\n",
       "      <td>Hot Springs County</td>\n",
       "      <td>2546.0</td>\n",
       "      <td>619.0</td>\n",
       "      <td>1834.0</td>\n",
       "      <td>93.0</td>\n",
       "      <td>2495.0</td>\n",
       "      <td>523.0</td>\n",
       "      <td>1894.0</td>\n",
       "      <td>78.0</td>\n",
       "      <td>...</td>\n",
       "      <td>50.0</td>\n",
       "      <td>69.0</td>\n",
       "      <td>84.0</td>\n",
       "      <td>122.0</td>\n",
       "      <td>234.0</td>\n",
       "      <td>112.0</td>\n",
       "      <td>148.0</td>\n",
       "      <td>89.0</td>\n",
       "      <td>36.0</td>\n",
       "      <td>58.0</td>\n",
       "    </tr>\n",
       "  </tbody>\n",
       "</table>\n",
       "<p>5 rows × 134 columns</p>\n",
       "</div>"
      ],
      "text/plain": [
       "   fips_code              county  total_2008  dem_2008  gop_2008  oth_2008  \\\n",
       "0      26041        Delta County     19064.0    9974.0    8763.0     327.0   \n",
       "1      48295     Lipscomb County      1256.0     155.0    1093.0       8.0   \n",
       "2       1127       Walker County     28652.0    7420.0   20722.0     510.0   \n",
       "3      48389       Reeves County      3077.0    1606.0    1445.0      26.0   \n",
       "4      56017  Hot Springs County      2546.0     619.0    1834.0      93.0   \n",
       "\n",
       "   total_2012  dem_2012  gop_2012  oth_2012          ...           \\\n",
       "0     18043.0    8330.0    9533.0     180.0          ...            \n",
       "1      1168.0     119.0    1044.0       5.0          ...            \n",
       "2     28497.0    6551.0   21633.0     313.0          ...            \n",
       "3      2867.0    1649.0    1185.0      33.0          ...            \n",
       "4      2495.0     523.0    1894.0      78.0          ...            \n",
       "\n",
       "   Family Income 35-40K  Family Income 40-45K  Family Income 45-50K  \\\n",
       "0                 453.0                 572.0                 528.0   \n",
       "1                  20.0                  29.0                  33.0   \n",
       "2                1041.0                 919.0                 987.0   \n",
       "3                  96.0                 119.0                  75.0   \n",
       "4                  50.0                  69.0                  84.0   \n",
       "\n",
       "   Family Income 50-60K  Family Income 60-75K  Family Income 75-100K  \\\n",
       "0                1217.0                1261.0                 1697.0   \n",
       "1                  79.0                 123.0                  116.0   \n",
       "2                1570.0                2209.0                 1819.0   \n",
       "3                 213.0                 320.0                  350.0   \n",
       "4                 122.0                 234.0                  112.0   \n",
       "\n",
       "   Family Income 100-125K  Family Income 125-150K  Family Income 150-200K  \\\n",
       "0                   623.0                   401.0                   234.0   \n",
       "1                    91.0                    54.0                    56.0   \n",
       "2                  1210.0                   745.0                   437.0   \n",
       "3                   188.0                    69.0                    64.0   \n",
       "4                   148.0                    89.0                    36.0   \n",
       "\n",
       "   Family Income > 200K  \n",
       "0                  96.0  \n",
       "1                  46.0  \n",
       "2                 339.0  \n",
       "3                  79.0  \n",
       "4                  58.0  \n",
       "\n",
       "[5 rows x 134 columns]"
      ]
     },
     "execution_count": 3,
     "metadata": {},
     "output_type": "execute_result"
    }
   ],
   "source": [
    "data.head()"
   ]
  },
  {
   "cell_type": "code",
   "execution_count": 4,
   "metadata": {
    "collapsed": true
   },
   "outputs": [],
   "source": [
    "X = data.ix[:, 14:]"
   ]
  },
  {
   "cell_type": "code",
   "execution_count": 5,
   "metadata": {
    "collapsed": false
   },
   "outputs": [
    {
     "data": {
      "text/html": [
       "<div>\n",
       "<table border=\"1\" class=\"dataframe\">\n",
       "  <thead>\n",
       "    <tr style=\"text-align: right;\">\n",
       "      <th></th>\n",
       "      <th># of Housing Units</th>\n",
       "      <th># White</th>\n",
       "      <th># White Male</th>\n",
       "      <th># White Female</th>\n",
       "      <th># Black</th>\n",
       "      <th># Black Male</th>\n",
       "      <th># Black Female</th>\n",
       "      <th># White Not Hispanic</th>\n",
       "      <th># White Not Hispanis Male</th>\n",
       "      <th># White Not Hispanis Female</th>\n",
       "      <th>...</th>\n",
       "      <th>Family Income 35-40K</th>\n",
       "      <th>Family Income 40-45K</th>\n",
       "      <th>Family Income 45-50K</th>\n",
       "      <th>Family Income 50-60K</th>\n",
       "      <th>Family Income 60-75K</th>\n",
       "      <th>Family Income 75-100K</th>\n",
       "      <th>Family Income 100-125K</th>\n",
       "      <th>Family Income 125-150K</th>\n",
       "      <th>Family Income 150-200K</th>\n",
       "      <th>Family Income &gt; 200K</th>\n",
       "    </tr>\n",
       "  </thead>\n",
       "  <tbody>\n",
       "    <tr>\n",
       "      <th>0</th>\n",
       "      <td>3040.0</td>\n",
       "      <td>34754.0</td>\n",
       "      <td>17231.0</td>\n",
       "      <td>17523.0</td>\n",
       "      <td>121.0</td>\n",
       "      <td>60.0</td>\n",
       "      <td>61.0</td>\n",
       "      <td>34581.0</td>\n",
       "      <td>17137.0</td>\n",
       "      <td>17444.0</td>\n",
       "      <td>...</td>\n",
       "      <td>453.0</td>\n",
       "      <td>572.0</td>\n",
       "      <td>528.0</td>\n",
       "      <td>1217.0</td>\n",
       "      <td>1261.0</td>\n",
       "      <td>1697.0</td>\n",
       "      <td>623.0</td>\n",
       "      <td>401.0</td>\n",
       "      <td>234.0</td>\n",
       "      <td>96.0</td>\n",
       "    </tr>\n",
       "    <tr>\n",
       "      <th>1</th>\n",
       "      <td>478.0</td>\n",
       "      <td>2980.0</td>\n",
       "      <td>1577.0</td>\n",
       "      <td>1403.0</td>\n",
       "      <td>17.0</td>\n",
       "      <td>8.0</td>\n",
       "      <td>9.0</td>\n",
       "      <td>2361.0</td>\n",
       "      <td>1194.0</td>\n",
       "      <td>1167.0</td>\n",
       "      <td>...</td>\n",
       "      <td>20.0</td>\n",
       "      <td>29.0</td>\n",
       "      <td>33.0</td>\n",
       "      <td>79.0</td>\n",
       "      <td>123.0</td>\n",
       "      <td>116.0</td>\n",
       "      <td>91.0</td>\n",
       "      <td>54.0</td>\n",
       "      <td>56.0</td>\n",
       "      <td>46.0</td>\n",
       "    </tr>\n",
       "    <tr>\n",
       "      <th>2</th>\n",
       "      <td>2700.0</td>\n",
       "      <td>60224.0</td>\n",
       "      <td>29335.0</td>\n",
       "      <td>30889.0</td>\n",
       "      <td>3764.0</td>\n",
       "      <td>1781.0</td>\n",
       "      <td>1983.0</td>\n",
       "      <td>59498.0</td>\n",
       "      <td>28884.0</td>\n",
       "      <td>30614.0</td>\n",
       "      <td>...</td>\n",
       "      <td>1041.0</td>\n",
       "      <td>919.0</td>\n",
       "      <td>987.0</td>\n",
       "      <td>1570.0</td>\n",
       "      <td>2209.0</td>\n",
       "      <td>1819.0</td>\n",
       "      <td>1210.0</td>\n",
       "      <td>745.0</td>\n",
       "      <td>437.0</td>\n",
       "      <td>339.0</td>\n",
       "    </tr>\n",
       "    <tr>\n",
       "      <th>3</th>\n",
       "      <td>556.0</td>\n",
       "      <td>11899.0</td>\n",
       "      <td>6966.0</td>\n",
       "      <td>4933.0</td>\n",
       "      <td>750.0</td>\n",
       "      <td>578.0</td>\n",
       "      <td>172.0</td>\n",
       "      <td>2677.0</td>\n",
       "      <td>1795.0</td>\n",
       "      <td>882.0</td>\n",
       "      <td>...</td>\n",
       "      <td>96.0</td>\n",
       "      <td>119.0</td>\n",
       "      <td>75.0</td>\n",
       "      <td>213.0</td>\n",
       "      <td>320.0</td>\n",
       "      <td>350.0</td>\n",
       "      <td>188.0</td>\n",
       "      <td>69.0</td>\n",
       "      <td>64.0</td>\n",
       "      <td>79.0</td>\n",
       "    </tr>\n",
       "    <tr>\n",
       "      <th>4</th>\n",
       "      <td>326.0</td>\n",
       "      <td>4661.0</td>\n",
       "      <td>2298.0</td>\n",
       "      <td>2363.0</td>\n",
       "      <td>12.0</td>\n",
       "      <td>1.0</td>\n",
       "      <td>11.0</td>\n",
       "      <td>4535.0</td>\n",
       "      <td>2247.0</td>\n",
       "      <td>2288.0</td>\n",
       "      <td>...</td>\n",
       "      <td>50.0</td>\n",
       "      <td>69.0</td>\n",
       "      <td>84.0</td>\n",
       "      <td>122.0</td>\n",
       "      <td>234.0</td>\n",
       "      <td>112.0</td>\n",
       "      <td>148.0</td>\n",
       "      <td>89.0</td>\n",
       "      <td>36.0</td>\n",
       "      <td>58.0</td>\n",
       "    </tr>\n",
       "  </tbody>\n",
       "</table>\n",
       "<p>5 rows × 120 columns</p>\n",
       "</div>"
      ],
      "text/plain": [
       "   # of Housing Units  # White  # White Male  # White Female  # Black  \\\n",
       "0              3040.0  34754.0       17231.0         17523.0    121.0   \n",
       "1               478.0   2980.0        1577.0          1403.0     17.0   \n",
       "2              2700.0  60224.0       29335.0         30889.0   3764.0   \n",
       "3               556.0  11899.0        6966.0          4933.0    750.0   \n",
       "4               326.0   4661.0        2298.0          2363.0     12.0   \n",
       "\n",
       "   # Black Male  # Black Female  # White Not Hispanic  \\\n",
       "0          60.0            61.0               34581.0   \n",
       "1           8.0             9.0                2361.0   \n",
       "2        1781.0          1983.0               59498.0   \n",
       "3         578.0           172.0                2677.0   \n",
       "4           1.0            11.0                4535.0   \n",
       "\n",
       "   # White Not Hispanis Male  # White Not Hispanis Female  \\\n",
       "0                    17137.0                      17444.0   \n",
       "1                     1194.0                       1167.0   \n",
       "2                    28884.0                      30614.0   \n",
       "3                     1795.0                        882.0   \n",
       "4                     2247.0                       2288.0   \n",
       "\n",
       "           ...           Family Income 35-40K  Family Income 40-45K  \\\n",
       "0          ...                          453.0                 572.0   \n",
       "1          ...                           20.0                  29.0   \n",
       "2          ...                         1041.0                 919.0   \n",
       "3          ...                           96.0                 119.0   \n",
       "4          ...                           50.0                  69.0   \n",
       "\n",
       "   Family Income 45-50K  Family Income 50-60K  Family Income 60-75K  \\\n",
       "0                 528.0                1217.0                1261.0   \n",
       "1                  33.0                  79.0                 123.0   \n",
       "2                 987.0                1570.0                2209.0   \n",
       "3                  75.0                 213.0                 320.0   \n",
       "4                  84.0                 122.0                 234.0   \n",
       "\n",
       "   Family Income 75-100K  Family Income 100-125K  Family Income 125-150K  \\\n",
       "0                 1697.0                   623.0                   401.0   \n",
       "1                  116.0                    91.0                    54.0   \n",
       "2                 1819.0                  1210.0                   745.0   \n",
       "3                  350.0                   188.0                    69.0   \n",
       "4                  112.0                   148.0                    89.0   \n",
       "\n",
       "   Family Income 150-200K  Family Income > 200K  \n",
       "0                   234.0                  96.0  \n",
       "1                    56.0                  46.0  \n",
       "2                   437.0                 339.0  \n",
       "3                    64.0                  79.0  \n",
       "4                    36.0                  58.0  \n",
       "\n",
       "[5 rows x 120 columns]"
      ]
     },
     "execution_count": 5,
     "metadata": {},
     "output_type": "execute_result"
    }
   ],
   "source": [
    "X.head()"
   ]
  },
  {
   "cell_type": "code",
   "execution_count": 6,
   "metadata": {
    "collapsed": false
   },
   "outputs": [],
   "source": [
    "del X[\"Population\"]"
   ]
  },
  {
   "cell_type": "code",
   "execution_count": 7,
   "metadata": {
    "collapsed": false
   },
   "outputs": [],
   "source": [
    "X = X.apply(lambda x: x / data[\"Population\"] * 100)"
   ]
  },
  {
   "cell_type": "code",
   "execution_count": 8,
   "metadata": {
    "collapsed": false
   },
   "outputs": [
    {
     "data": {
      "text/html": [
       "<div>\n",
       "<table border=\"1\" class=\"dataframe\">\n",
       "  <thead>\n",
       "    <tr style=\"text-align: right;\">\n",
       "      <th></th>\n",
       "      <th># of Housing Units</th>\n",
       "      <th># White</th>\n",
       "      <th># White Male</th>\n",
       "      <th># White Female</th>\n",
       "      <th># Black</th>\n",
       "      <th># Black Male</th>\n",
       "      <th># Black Female</th>\n",
       "      <th># White Not Hispanic</th>\n",
       "      <th># White Not Hispanis Male</th>\n",
       "      <th># White Not Hispanis Female</th>\n",
       "      <th>...</th>\n",
       "      <th>Family Income 35-40K</th>\n",
       "      <th>Family Income 40-45K</th>\n",
       "      <th>Family Income 45-50K</th>\n",
       "      <th>Family Income 50-60K</th>\n",
       "      <th>Family Income 60-75K</th>\n",
       "      <th>Family Income 75-100K</th>\n",
       "      <th>Family Income 100-125K</th>\n",
       "      <th>Family Income 125-150K</th>\n",
       "      <th>Family Income 150-200K</th>\n",
       "      <th>Family Income &gt; 200K</th>\n",
       "    </tr>\n",
       "  </thead>\n",
       "  <tbody>\n",
       "    <tr>\n",
       "      <th>0</th>\n",
       "      <td>8.251676</td>\n",
       "      <td>94.335116</td>\n",
       "      <td>46.771260</td>\n",
       "      <td>47.563855</td>\n",
       "      <td>0.328438</td>\n",
       "      <td>0.162862</td>\n",
       "      <td>0.165576</td>\n",
       "      <td>93.865530</td>\n",
       "      <td>46.516110</td>\n",
       "      <td>47.349420</td>\n",
       "      <td>...</td>\n",
       "      <td>1.229608</td>\n",
       "      <td>1.552618</td>\n",
       "      <td>1.433186</td>\n",
       "      <td>3.303385</td>\n",
       "      <td>3.422817</td>\n",
       "      <td>4.606281</td>\n",
       "      <td>1.691051</td>\n",
       "      <td>1.088461</td>\n",
       "      <td>0.635162</td>\n",
       "      <td>0.260579</td>\n",
       "    </tr>\n",
       "    <tr>\n",
       "      <th>1</th>\n",
       "      <td>13.984786</td>\n",
       "      <td>87.185489</td>\n",
       "      <td>46.138092</td>\n",
       "      <td>41.047396</td>\n",
       "      <td>0.497367</td>\n",
       "      <td>0.234055</td>\n",
       "      <td>0.263312</td>\n",
       "      <td>69.075483</td>\n",
       "      <td>34.932709</td>\n",
       "      <td>34.142774</td>\n",
       "      <td>...</td>\n",
       "      <td>0.585138</td>\n",
       "      <td>0.848449</td>\n",
       "      <td>0.965477</td>\n",
       "      <td>2.311293</td>\n",
       "      <td>3.598596</td>\n",
       "      <td>3.393798</td>\n",
       "      <td>2.662376</td>\n",
       "      <td>1.579871</td>\n",
       "      <td>1.638385</td>\n",
       "      <td>1.345816</td>\n",
       "    </tr>\n",
       "    <tr>\n",
       "      <th>2</th>\n",
       "      <td>4.077872</td>\n",
       "      <td>90.957696</td>\n",
       "      <td>44.305327</td>\n",
       "      <td>46.652369</td>\n",
       "      <td>5.684856</td>\n",
       "      <td>2.689885</td>\n",
       "      <td>2.994971</td>\n",
       "      <td>89.861201</td>\n",
       "      <td>43.624171</td>\n",
       "      <td>46.237030</td>\n",
       "      <td>...</td>\n",
       "      <td>1.572246</td>\n",
       "      <td>1.387987</td>\n",
       "      <td>1.490689</td>\n",
       "      <td>2.371207</td>\n",
       "      <td>3.336304</td>\n",
       "      <td>2.747278</td>\n",
       "      <td>1.827491</td>\n",
       "      <td>1.125191</td>\n",
       "      <td>0.660011</td>\n",
       "      <td>0.512000</td>\n",
       "    </tr>\n",
       "    <tr>\n",
       "      <th>3</th>\n",
       "      <td>3.977679</td>\n",
       "      <td>85.126628</td>\n",
       "      <td>49.835456</td>\n",
       "      <td>35.291172</td>\n",
       "      <td>5.365574</td>\n",
       "      <td>4.135069</td>\n",
       "      <td>1.230505</td>\n",
       "      <td>19.151524</td>\n",
       "      <td>12.841608</td>\n",
       "      <td>6.309916</td>\n",
       "      <td>...</td>\n",
       "      <td>0.686794</td>\n",
       "      <td>0.851338</td>\n",
       "      <td>0.536557</td>\n",
       "      <td>1.523823</td>\n",
       "      <td>2.289312</td>\n",
       "      <td>2.503935</td>\n",
       "      <td>1.344971</td>\n",
       "      <td>0.493633</td>\n",
       "      <td>0.457862</td>\n",
       "      <td>0.565174</td>\n",
       "    </tr>\n",
       "    <tr>\n",
       "      <th>4</th>\n",
       "      <td>6.755077</td>\n",
       "      <td>96.581019</td>\n",
       "      <td>47.617074</td>\n",
       "      <td>48.963945</td>\n",
       "      <td>0.248653</td>\n",
       "      <td>0.020721</td>\n",
       "      <td>0.227932</td>\n",
       "      <td>93.970162</td>\n",
       "      <td>46.560298</td>\n",
       "      <td>47.409863</td>\n",
       "      <td>...</td>\n",
       "      <td>1.036055</td>\n",
       "      <td>1.429755</td>\n",
       "      <td>1.740572</td>\n",
       "      <td>2.527973</td>\n",
       "      <td>4.848736</td>\n",
       "      <td>2.320763</td>\n",
       "      <td>3.066722</td>\n",
       "      <td>1.844177</td>\n",
       "      <td>0.745959</td>\n",
       "      <td>1.201823</td>\n",
       "    </tr>\n",
       "  </tbody>\n",
       "</table>\n",
       "<p>5 rows × 119 columns</p>\n",
       "</div>"
      ],
      "text/plain": [
       "   # of Housing Units    # White  # White Male  # White Female   # Black  \\\n",
       "0            8.251676  94.335116     46.771260       47.563855  0.328438   \n",
       "1           13.984786  87.185489     46.138092       41.047396  0.497367   \n",
       "2            4.077872  90.957696     44.305327       46.652369  5.684856   \n",
       "3            3.977679  85.126628     49.835456       35.291172  5.365574   \n",
       "4            6.755077  96.581019     47.617074       48.963945  0.248653   \n",
       "\n",
       "   # Black Male  # Black Female  # White Not Hispanic  \\\n",
       "0      0.162862        0.165576             93.865530   \n",
       "1      0.234055        0.263312             69.075483   \n",
       "2      2.689885        2.994971             89.861201   \n",
       "3      4.135069        1.230505             19.151524   \n",
       "4      0.020721        0.227932             93.970162   \n",
       "\n",
       "   # White Not Hispanis Male  # White Not Hispanis Female  \\\n",
       "0                  46.516110                    47.349420   \n",
       "1                  34.932709                    34.142774   \n",
       "2                  43.624171                    46.237030   \n",
       "3                  12.841608                     6.309916   \n",
       "4                  46.560298                    47.409863   \n",
       "\n",
       "           ...           Family Income 35-40K  Family Income 40-45K  \\\n",
       "0          ...                       1.229608              1.552618   \n",
       "1          ...                       0.585138              0.848449   \n",
       "2          ...                       1.572246              1.387987   \n",
       "3          ...                       0.686794              0.851338   \n",
       "4          ...                       1.036055              1.429755   \n",
       "\n",
       "   Family Income 45-50K  Family Income 50-60K  Family Income 60-75K  \\\n",
       "0              1.433186              3.303385              3.422817   \n",
       "1              0.965477              2.311293              3.598596   \n",
       "2              1.490689              2.371207              3.336304   \n",
       "3              0.536557              1.523823              2.289312   \n",
       "4              1.740572              2.527973              4.848736   \n",
       "\n",
       "   Family Income 75-100K  Family Income 100-125K  Family Income 125-150K  \\\n",
       "0               4.606281                1.691051                1.088461   \n",
       "1               3.393798                2.662376                1.579871   \n",
       "2               2.747278                1.827491                1.125191   \n",
       "3               2.503935                1.344971                0.493633   \n",
       "4               2.320763                3.066722                1.844177   \n",
       "\n",
       "   Family Income 150-200K  Family Income > 200K  \n",
       "0                0.635162              0.260579  \n",
       "1                1.638385              1.345816  \n",
       "2                0.660011              0.512000  \n",
       "3                0.457862              0.565174  \n",
       "4                0.745959              1.201823  \n",
       "\n",
       "[5 rows x 119 columns]"
      ]
     },
     "execution_count": 8,
     "metadata": {},
     "output_type": "execute_result"
    }
   ],
   "source": [
    "X.head()"
   ]
  },
  {
   "cell_type": "code",
   "execution_count": 9,
   "metadata": {
    "collapsed": false
   },
   "outputs": [
    {
     "data": {
      "text/plain": [
       "(2628, 119)"
      ]
     },
     "execution_count": 9,
     "metadata": {},
     "output_type": "execute_result"
    }
   ],
   "source": [
    "X.shape"
   ]
  },
  {
   "cell_type": "code",
   "execution_count": 10,
   "metadata": {
    "collapsed": true
   },
   "outputs": [],
   "source": [
    "voter_turn_out = (data[\"total_2016\"] - data[\"total_2012\"])/data[\"Population\"] * 100"
   ]
  },
  {
   "cell_type": "code",
   "execution_count": 50,
   "metadata": {
    "collapsed": false
   },
   "outputs": [
    {
     "data": {
      "text/plain": [
       "count    2628.000000\n",
       "mean        1.045871\n",
       "std         3.064287\n",
       "min       -16.037837\n",
       "25%        -0.522142\n",
       "50%         1.143138\n",
       "75%         2.655468\n",
       "max        33.625456\n",
       "dtype: float64"
      ]
     },
     "execution_count": 50,
     "metadata": {},
     "output_type": "execute_result"
    }
   ],
   "source": [
    "description = voter_turn_out.describe()\n",
    "description"
   ]
  },
  {
   "cell_type": "code",
   "execution_count": 54,
   "metadata": {
    "collapsed": false
   },
   "outputs": [
    {
     "name": "stderr",
     "output_type": "stream",
     "text": [
      "/opt/conda/lib/python3.5/site-packages/ipykernel/__main__.py:1: FutureWarning: sort is deprecated, use sort_values(inplace=True) for INPLACE sorting\n",
      "  if __name__ == '__main__':\n"
     ]
    },
    {
     "data": {
      "text/plain": [
       "Int64Index([1154, 834, 1661, 27, 557], dtype='int64')"
      ]
     },
     "execution_count": 54,
     "metadata": {},
     "output_type": "execute_result"
    }
   ],
   "source": [
    "voter_turn_out.sort(inplace=False, ascending=False).head().index"
   ]
  },
  {
   "cell_type": "code",
   "execution_count": 62,
   "metadata": {
    "collapsed": false
   },
   "outputs": [
    {
     "name": "stdout",
     "output_type": "stream",
     "text": [
      "Polk County 33.63\n",
      "Jerome County 17.65\n",
      "Jasper County 16.22\n",
      "Sumter County 15.60\n",
      "McKenzie County 14.05\n"
     ]
    },
    {
     "name": "stderr",
     "output_type": "stream",
     "text": [
      "/opt/conda/lib/python3.5/site-packages/ipykernel/__main__.py:1: FutureWarning: sort is deprecated, use sort_values(inplace=True) for INPLACE sorting\n",
      "  if __name__ == '__main__':\n"
     ]
    }
   ],
   "source": [
    "for i in list(zip(data.iloc[voter_turn_out.sort(inplace=False, ascending=False).head().index][\"county\"], voter_turn_out.sort(inplace=False, ascending=False).head())):\n",
    "    print(\"{} {:.2f}\".format(i[0], i[1]))"
   ]
  },
  {
   "cell_type": "code",
   "execution_count": 64,
   "metadata": {
    "collapsed": false
   },
   "outputs": [
    {
     "name": "stdout",
     "output_type": "stream",
     "text": [
      "Otero County -16.04\n",
      "Terry County -15.33\n",
      "Newton County -15.21\n",
      "Iron County -14.92\n",
      "Whitman County -14.24\n"
     ]
    },
    {
     "name": "stderr",
     "output_type": "stream",
     "text": [
      "/opt/conda/lib/python3.5/site-packages/ipykernel/__main__.py:1: FutureWarning: sort is deprecated, use sort_values(inplace=True) for INPLACE sorting\n",
      "  if __name__ == '__main__':\n"
     ]
    }
   ],
   "source": [
    "for i in list(zip(data.iloc[voter_turn_out.sort(inplace=False, ascending=True).head().index][\"county\"], voter_turn_out.sort(inplace=False, ascending=True).head())):\n",
    "    print(\"{} {:.2f}\".format(i[0], i[1]))"
   ]
  },
  {
   "cell_type": "code",
   "execution_count": 12,
   "metadata": {
    "collapsed": false
   },
   "outputs": [
    {
     "data": {
      "image/png": "[encoded data removed]",
      "text/plain": [
       "<matplotlib.figure.Figure at 0x7f9a7432cda0>"
      ]
     },
     "metadata": {},
     "output_type": "display_data"
    }
   ],
   "source": [
    "plt.boxplot(voter_turn_out, 0, 'x', 0)\n",
    "plt.xlabel(\"Change in Voter Turnout (% population)\")\n",
    "plt.title(\"2628 U.S. Counties\")\n",
    "plt.show()"
   ]
  },
  {
   "cell_type": "code",
   "execution_count": 13,
   "metadata": {
    "collapsed": true
   },
   "outputs": [],
   "source": [
    "iqr = description[\"75%\"] - description[\"25%\"]\n",
    "low_end =  description[\"25%\"]\n",
    "high_end = description[\"75%\"]"
   ]
  },
  {
   "cell_type": "code",
   "execution_count": 14,
   "metadata": {
    "collapsed": false
   },
   "outputs": [],
   "source": [
    "X_extreme = X[(voter_turn_out < low_end) | (voter_turn_out > high_end)]"
   ]
  },
  {
   "cell_type": "code",
   "execution_count": 15,
   "metadata": {
    "collapsed": false
   },
   "outputs": [],
   "source": [
    "turn_out_results = voter_turn_out.apply(lambda x: \"High\" if x > high_end else \"Low\")[(voter_turn_out < low_end) | (voter_turn_out > high_end)]"
   ]
  },
  {
   "cell_type": "code",
   "execution_count": 16,
   "metadata": {
    "collapsed": true
   },
   "outputs": [],
   "source": [
    "from sklearn.ensemble import RandomForestClassifier"
   ]
  },
  {
   "cell_type": "code",
   "execution_count": 17,
   "metadata": {
    "collapsed": true
   },
   "outputs": [],
   "source": [
    "rfc = RandomForestClassifier()"
   ]
  },
  {
   "cell_type": "code",
   "execution_count": 18,
   "metadata": {
    "collapsed": false
   },
   "outputs": [
    {
     "data": {
      "text/plain": [
       "RandomForestClassifier(bootstrap=True, class_weight=None, criterion='gini',\n",
       "            max_depth=None, max_features='auto', max_leaf_nodes=None,\n",
       "            min_impurity_split=1e-07, min_samples_leaf=1,\n",
       "            min_samples_split=2, min_weight_fraction_leaf=0.0,\n",
       "            n_estimators=10, n_jobs=1, oob_score=False, random_state=None,\n",
       "            verbose=0, warm_start=False)"
      ]
     },
     "execution_count": 18,
     "metadata": {},
     "output_type": "execute_result"
    }
   ],
   "source": [
    "rfc.fit(X_extreme, turn_out_results)"
   ]
  },
  {
   "cell_type": "code",
   "execution_count": 19,
   "metadata": {
    "collapsed": false
   },
   "outputs": [
    {
     "data": {
      "text/plain": [
       "(1314, 119)"
      ]
     },
     "execution_count": 19,
     "metadata": {},
     "output_type": "execute_result"
    }
   ],
   "source": [
    "X_extreme.shape"
   ]
  },
  {
   "cell_type": "code",
   "execution_count": 20,
   "metadata": {
    "collapsed": false
   },
   "outputs": [
    {
     "data": {
      "text/plain": [
       "# of Housing Units              3.372412\n",
       "# White                        62.370188\n",
       "# White Male                   30.479090\n",
       "# White Female                 31.891098\n",
       "# Black                        30.086145\n",
       "# Black Male                   14.592914\n",
       "# Black Female                 15.493231\n",
       "# White Not Hispanic           58.198933\n",
       "# White Not Hispanis Male      28.356759\n",
       "# White Not Hispanis Female    29.842175\n",
       "# Hispanic                      6.138135\n",
       "# Hispanic Male                 3.450137\n",
       "# Hispanic Female               2.687998\n",
       "# Male                         48.953948\n",
       "# Female                       51.046052\n",
       "Median Age                      0.085930\n",
       "Median Age Male                 0.082259\n",
       "Median Age Female               0.087873\n",
       "Citizen: born in US            95.116264\n",
       "Citizen by Naturalization       0.917590\n",
       "Foreign born naturalized        0.917590\n",
       "Never Married                  25.655807\n",
       "Currently Married              35.453505\n",
       "Divorced                        9.031241\n",
       "Separated                       3.648768\n",
       "Education Count                66.504739\n",
       "Less Than HS                   12.876482\n",
       "HS or equal                    24.364704\n",
       "Some College-AA                20.560485\n",
       "Bachelor                        5.950299\n",
       "                                 ...    \n",
       "Rail Road                       0.000000\n",
       "Ferry Boat                      0.000000\n",
       "Bicycle                         0.019431\n",
       "Walked                          0.809638\n",
       "Work at Home                    0.813956\n",
       "Work in State                  34.548870\n",
       "Work in County                 26.597146\n",
       "Work outside County             7.951724\n",
       "Work outside State              1.519960\n",
       "No Vehicle Owned                1.137811\n",
       "1 vehicle                       8.642615\n",
       "2 vehicles                     12.969320\n",
       "3 vehicles                      7.878317\n",
       "4 vehicles                      3.620701\n",
       "5 or more vehicles              1.375305\n",
       "Family Income < 10K             1.908586\n",
       "Family Income 10-15K            1.817907\n",
       "Family Income 20-25K            1.649502\n",
       "Family Income 25-30K            1.798476\n",
       "Family Income 30-35K            1.856770\n",
       "Family Income 35-40K            1.640866\n",
       "Family Income 40-45K            1.433599\n",
       "Family Income 45-50K            1.442235\n",
       "Family Income 50-60K            2.385733\n",
       "Family Income 60-75K            2.573569\n",
       "Family Income 75-100K           2.459140\n",
       "Family Income 100-125K          1.487575\n",
       "Family Income 125-150K          0.734072\n",
       "Family Income 150-200K          0.433966\n",
       "Family Income > 200K            0.336809\n",
       "Name: 1312, dtype: float64"
      ]
     },
     "execution_count": 20,
     "metadata": {},
     "output_type": "execute_result"
    }
   ],
   "source": [
    "X_extreme.loc[1312]"
   ]
  },
  {
   "cell_type": "code",
   "execution_count": 21,
   "metadata": {
    "collapsed": false
   },
   "outputs": [
    {
     "name": "stdout",
     "output_type": "stream",
     "text": [
      "0.783105022831\n"
     ]
    }
   ],
   "source": [
    "from sklearn.model_selection import KFold\n",
    "\n",
    "rfc_test = RandomForestClassifier()\n",
    "total = 0\n",
    "splits = 10\n",
    "\n",
    "kf = KFold(n_splits=splits)\n",
    "for train, test in kf.split(X_extreme):\n",
    "    X_train = X_extreme.iloc[train]\n",
    "    X_test = X_extreme.iloc[test]\n",
    "    y_train = turn_out_results.iloc[train]\n",
    "    y_test = turn_out_results.iloc[test]\n",
    "    \n",
    "    rfc_test.fit(X_train, y_train)\n",
    "\n",
    "    total += (rfc_test.predict(X_test) == y_test).sum()\n",
    "\n",
    "        \n",
    "print(total / X_extreme.shape[0])"
   ]
  },
  {
   "cell_type": "code",
   "execution_count": 22,
   "metadata": {
    "collapsed": false,
    "scrolled": true
   },
   "outputs": [
    {
     "name": "stdout",
     "output_type": "stream",
     "text": [
      "('# Black', 0.078230290221315515)\n",
      "('In State-Some College', 0.040738866398474329)\n",
      "('# Black Female', 0.032556005063964125)\n",
      "('Median Age Male', 0.028420535186812895)\n",
      "('Total Reporing 0 Income', 0.026852160638551344)\n",
      "('# of Housing Units', 0.024031521442859277)\n",
      "('Total Born In State education', 0.021620017442801297)\n",
      "('Walked', 0.021138691759726359)\n",
      "('Income 25-35K', 0.019775680278268756)\n",
      "('Work at Home', 0.017059325944142251)\n",
      "('Median Age Female', 0.016652443822620926)\n",
      "('At above 150% poverty line', 0.016534326617086443)\n"
     ]
    }
   ],
   "source": [
    "cutoff = pd.Series(rfc.feature_importances_).quantile(0.90)\n",
    "\n",
    "significant_demographics = []\n",
    "\n",
    "for i in sorted(zip(X_extreme.columns, rfc.feature_importances_), reverse=True, key=lambda x: x[1]):\n",
    "    if i[1] > cutoff:\n",
    "        print(i)\n",
    "        significant_demographics.append(i[0])"
   ]
  },
  {
   "cell_type": "code",
   "execution_count": 23,
   "metadata": {
    "collapsed": false
   },
   "outputs": [
    {
     "name": "stderr",
     "output_type": "stream",
     "text": [
      "/opt/conda/lib/python3.5/site-packages/ipykernel/__main__.py:1: UserWarning: Boolean Series key will be reindexed to match DataFrame index.\n",
      "  if __name__ == '__main__':\n",
      "/opt/conda/lib/python3.5/site-packages/ipykernel/__main__.py:2: UserWarning: Boolean Series key will be reindexed to match DataFrame index.\n",
      "  from ipykernel import kernelapp as app\n"
     ]
    }
   ],
   "source": [
    "low_means = X_extreme[voter_turn_out < low_end].mean()\n",
    "high_means = X_extreme[voter_turn_out > high_end].mean()"
   ]
  },
  {
   "cell_type": "code",
   "execution_count": 24,
   "metadata": {
    "collapsed": false
   },
   "outputs": [
    {
     "name": "stdout",
     "output_type": "stream",
     "text": [
      "demographic, low_turn_out, high_turn_out\n",
      "# Black, 14.74, 5.65\n",
      "In State-Some College, 13.79, 10.80\n",
      "# Black Female, 7.51, 2.76\n",
      "Median Age Male, 0.28, 0.15\n",
      "Total Reporing 0 Income, 10.68, 10.60\n",
      "# of Housing Units, 6.50, 4.50\n",
      "Total Born In State education, 44.11, 36.86\n",
      "Walked, 1.49, 1.14\n",
      "Income 25-35K, 9.82, 9.51\n",
      "Work at Home, 2.02, 1.96\n",
      "Median Age Female, 0.30, 0.15\n",
      "At above 150% poverty line, 67.74, 72.93\n"
     ]
    }
   ],
   "source": [
    "print(\"demographic, low_turn_out, high_turn_out\")\n",
    "for sig in significant_demographics:\n",
    "    print(\"{}, {:.2f}, {:.2f}\".format(sig, low_means[sig], high_means[sig]))"
   ]
  },
  {
   "cell_type": "code",
   "execution_count": null,
   "metadata": {
    "collapsed": true
   },
   "outputs": [],
   "source": []
  },
  {
   "cell_type": "code",
   "execution_count": null,
   "metadata": {
    "collapsed": true
   },
   "outputs": [],
   "source": []
  },
  {
   "cell_type": "code",
   "execution_count": null,
   "metadata": {
    "collapsed": true
   },
   "outputs": [],
   "source": []
  },
  {
   "cell_type": "markdown",
   "metadata": {},
   "source": [
    "Positive values mean a higher ratio voted dem in 2016"
   ]
  },
  {
   "cell_type": "code",
   "execution_count": 25,
   "metadata": {
    "collapsed": false
   },
   "outputs": [],
   "source": [
    "ratio_voting_2012 = data[\"dem_2012\"] / (data[\"dem_2012\"] + data[\"gop_2012\"])\n",
    "ratio_voting_2016 = data[\"dem_2016\"] / (data[\"dem_2016\"] + data[\"gop_2016\"])\n",
    "\n",
    "voting_ratio_change = (ratio_voting_2016 - ratio_voting_2012) * 100"
   ]
  },
  {
   "cell_type": "code",
   "execution_count": 26,
   "metadata": {
    "collapsed": false
   },
   "outputs": [],
   "source": [
    "description = voting_ratio_change.describe()\n",
    "low_end =  description[\"25%\"]\n",
    "high_end = description[\"75%\"]"
   ]
  },
  {
   "cell_type": "code",
   "execution_count": 65,
   "metadata": {
    "collapsed": false
   },
   "outputs": [
    {
     "data": {
      "text/html": [
       "<div>\n",
       "<table border=\"1\" class=\"dataframe\">\n",
       "  <thead>\n",
       "    <tr style=\"text-align: right;\">\n",
       "      <th></th>\n",
       "      <th>fips_code</th>\n",
       "      <th>county</th>\n",
       "      <th>total_2008</th>\n",
       "      <th>dem_2008</th>\n",
       "      <th>gop_2008</th>\n",
       "      <th>oth_2008</th>\n",
       "      <th>total_2012</th>\n",
       "      <th>dem_2012</th>\n",
       "      <th>gop_2012</th>\n",
       "      <th>oth_2012</th>\n",
       "      <th>...</th>\n",
       "      <th>Family Income 35-40K</th>\n",
       "      <th>Family Income 40-45K</th>\n",
       "      <th>Family Income 45-50K</th>\n",
       "      <th>Family Income 50-60K</th>\n",
       "      <th>Family Income 60-75K</th>\n",
       "      <th>Family Income 75-100K</th>\n",
       "      <th>Family Income 100-125K</th>\n",
       "      <th>Family Income 125-150K</th>\n",
       "      <th>Family Income 150-200K</th>\n",
       "      <th>Family Income &gt; 200K</th>\n",
       "    </tr>\n",
       "  </thead>\n",
       "  <tbody>\n",
       "    <tr>\n",
       "      <th>1814</th>\n",
       "      <td>49035</td>\n",
       "      <td>Salt Lake County</td>\n",
       "      <td>363749.0</td>\n",
       "      <td>176988.0</td>\n",
       "      <td>176692.0</td>\n",
       "      <td>10069.0</td>\n",
       "      <td>341664.0</td>\n",
       "      <td>132686.0</td>\n",
       "      <td>198739.0</td>\n",
       "      <td>10239.0</td>\n",
       "      <td>...</td>\n",
       "      <td>9318.0</td>\n",
       "      <td>9409.0</td>\n",
       "      <td>10137.0</td>\n",
       "      <td>21271.0</td>\n",
       "      <td>31200.0</td>\n",
       "      <td>41557.0</td>\n",
       "      <td>27347.0</td>\n",
       "      <td>16905.0</td>\n",
       "      <td>15157.0</td>\n",
       "      <td>14884.0</td>\n",
       "    </tr>\n",
       "  </tbody>\n",
       "</table>\n",
       "<p>1 rows × 134 columns</p>\n",
       "</div>"
      ],
      "text/plain": [
       "      fips_code            county  total_2008  dem_2008  gop_2008  oth_2008  \\\n",
       "1814      49035  Salt Lake County    363749.0  176988.0  176692.0   10069.0   \n",
       "\n",
       "      total_2012  dem_2012  gop_2012  oth_2012          ...           \\\n",
       "1814    341664.0  132686.0  198739.0   10239.0          ...            \n",
       "\n",
       "      Family Income 35-40K  Family Income 40-45K  Family Income 45-50K  \\\n",
       "1814                9318.0                9409.0               10137.0   \n",
       "\n",
       "      Family Income 50-60K  Family Income 60-75K  Family Income 75-100K  \\\n",
       "1814               21271.0               31200.0                41557.0   \n",
       "\n",
       "      Family Income 100-125K  Family Income 125-150K  Family Income 150-200K  \\\n",
       "1814                 27347.0                 16905.0                 15157.0   \n",
       "\n",
       "      Family Income > 200K  \n",
       "1814               14884.0  \n",
       "\n",
       "[1 rows x 134 columns]"
      ]
     },
     "execution_count": 65,
     "metadata": {},
     "output_type": "execute_result"
    }
   ],
   "source": [
    "data[voting_ratio_change == voting_ratio_change.max()]"
   ]
  },
  {
   "cell_type": "code",
   "execution_count": 68,
   "metadata": {
    "collapsed": false
   },
   "outputs": [
    {
     "name": "stdout",
     "output_type": "stream",
     "text": [
      "Salt Lake County 18.06\n",
      "Cache County 15.51\n",
      "Davis County 14.39\n",
      "Arlington County 11.79\n",
      "Falls Church City 11.41\n"
     ]
    },
    {
     "name": "stderr",
     "output_type": "stream",
     "text": [
      "/opt/conda/lib/python3.5/site-packages/ipykernel/__main__.py:1: FutureWarning: sort is deprecated, use sort_values(inplace=True) for INPLACE sorting\n",
      "  if __name__ == '__main__':\n"
     ]
    }
   ],
   "source": [
    "for i in list(zip(data.iloc[voting_ratio_change.sort(inplace=False, ascending=False).head().index][\"county\"], voting_ratio_change.sort(inplace=False, ascending=False).head())):\n",
    "    print(\"{} {:.2f}\".format(i[0], i[1]))"
   ]
  },
  {
   "cell_type": "code",
   "execution_count": 67,
   "metadata": {
    "collapsed": false
   },
   "outputs": [
    {
     "data": {
      "image/png": "[encoded data removed]",
      "text/plain": [
       "<matplotlib.figure.Figure at 0x7f9a60e82780>"
      ]
     },
     "metadata": {},
     "output_type": "display_data"
    }
   ],
   "source": [
    "plt.boxplot(voting_ratio_change, 0, 'x', 0)\n",
    "plt.xlabel(\"Change in Democratic Voting (%)\")\n",
    "plt.title(\"2628 U.S. Counties\")\n",
    "plt.show()"
   ]
  },
  {
   "cell_type": "code",
   "execution_count": 29,
   "metadata": {
    "collapsed": true
   },
   "outputs": [],
   "source": [
    "bools = (voting_ratio_change < low_end) | (voting_ratio_change > high_end)\n",
    "\n",
    "X_extreme = X[bools]\n",
    "ratio_change_results = voting_ratio_change.apply(lambda x: \"High\" if x > high_end else \"Low\")[bools]"
   ]
  },
  {
   "cell_type": "code",
   "execution_count": null,
   "metadata": {
    "collapsed": true
   },
   "outputs": [],
   "source": []
  },
  {
   "cell_type": "code",
   "execution_count": 30,
   "metadata": {
    "collapsed": true
   },
   "outputs": [],
   "source": [
    "rfc = RandomForestClassifier()"
   ]
  },
  {
   "cell_type": "code",
   "execution_count": 31,
   "metadata": {
    "collapsed": false
   },
   "outputs": [
    {
     "data": {
      "text/plain": [
       "RandomForestClassifier(bootstrap=True, class_weight=None, criterion='gini',\n",
       "            max_depth=None, max_features='auto', max_leaf_nodes=None,\n",
       "            min_impurity_split=1e-07, min_samples_leaf=1,\n",
       "            min_samples_split=2, min_weight_fraction_leaf=0.0,\n",
       "            n_estimators=10, n_jobs=1, oob_score=False, random_state=None,\n",
       "            verbose=0, warm_start=False)"
      ]
     },
     "execution_count": 31,
     "metadata": {},
     "output_type": "execute_result"
    }
   ],
   "source": [
    "rfc.fit(X_extreme, ratio_change_results)"
   ]
  },
  {
   "cell_type": "code",
   "execution_count": 32,
   "metadata": {
    "collapsed": false
   },
   "outputs": [
    {
     "name": "stdout",
     "output_type": "stream",
     "text": [
      "0.936834094368\n"
     ]
    }
   ],
   "source": [
    "from sklearn.model_selection import KFold\n",
    "rfc_test = RandomForestClassifier()\n",
    "total = 0\n",
    "splits = 10\n",
    "\n",
    "kf = KFold(n_splits=splits)\n",
    "for train, test in kf.split(X_extreme):\n",
    "    X_train = X_extreme.iloc[train]\n",
    "    X_test = X_extreme.iloc[test]\n",
    "    y_train = ratio_change_results.iloc[train]\n",
    "    y_test = ratio_change_results.iloc[test]\n",
    "    \n",
    "    rfc_test.fit(X_train, y_train)\n",
    "\n",
    "    total += (rfc_test.predict(X_test) == y_test).sum()\n",
    "\n",
    "        \n",
    "print(total / X_extreme.shape[0])"
   ]
  },
  {
   "cell_type": "code",
   "execution_count": 33,
   "metadata": {
    "collapsed": false
   },
   "outputs": [
    {
     "data": {
      "text/plain": [
       "0.0084033613445378148"
      ]
     },
     "execution_count": 33,
     "metadata": {},
     "output_type": "execute_result"
    }
   ],
   "source": [
    "rfc.feature_importances_.mean()"
   ]
  },
  {
   "cell_type": "code",
   "execution_count": 34,
   "metadata": {
    "collapsed": false
   },
   "outputs": [
    {
     "name": "stdout",
     "output_type": "stream",
     "text": [
      "('# White Not Hispanis Male', 0.11225627719138587)\n",
      "('Foreign Born below 100% poverty', 0.088470120146734416)\n",
      "('Foreign Born at/above 1.5X poverty line', 0.079390362826263799)\n",
      "('# White Not Hispanis Female', 0.05452698181227008)\n",
      "('Citizen by Naturalization', 0.052634194128806468)\n",
      "('HS or equal', 0.049030043873150672)\n",
      "('Total Born In State education', 0.046146354232077323)\n",
      "('Total Moving White', 0.04097764780709779)\n",
      "('# Hispanic Female', 0.039264269666375404)\n",
      "('Graduate', 0.026396418183094218)\n",
      "('# of Housing Units', 0.026036918809936999)\n",
      "('# Black Female', 0.020071231513221533)\n"
     ]
    }
   ],
   "source": [
    "cutoff = pd.Series(rfc.feature_importances_).quantile(0.90)\n",
    "\n",
    "significant_demographics = []\n",
    "\n",
    "for i in sorted(zip(X_extreme.columns, rfc.feature_importances_), reverse=True, key=lambda x: x[1]):\n",
    "    if i[1] > cutoff:\n",
    "        print(i)\n",
    "        significant_demographics.append(i[0])"
   ]
  },
  {
   "cell_type": "code",
   "execution_count": 35,
   "metadata": {
    "collapsed": false
   },
   "outputs": [
    {
     "name": "stderr",
     "output_type": "stream",
     "text": [
      "/opt/conda/lib/python3.5/site-packages/ipykernel/__main__.py:1: UserWarning: Boolean Series key will be reindexed to match DataFrame index.\n",
      "  if __name__ == '__main__':\n",
      "/opt/conda/lib/python3.5/site-packages/ipykernel/__main__.py:2: UserWarning: Boolean Series key will be reindexed to match DataFrame index.\n",
      "  from ipykernel import kernelapp as app\n"
     ]
    }
   ],
   "source": [
    "low_means = X_extreme[voting_ratio_change < low_end].mean()\n",
    "high_means = X_extreme[voting_ratio_change > high_end].mean()"
   ]
  },
  {
   "cell_type": "code",
   "execution_count": 36,
   "metadata": {
    "collapsed": false
   },
   "outputs": [
    {
     "name": "stdout",
     "output_type": "stream",
     "text": [
      "demographic, voted more gop, voted more dem\n",
      "# White Not Hispanis Male, 45.33, 32.55\n",
      "Foreign Born below 100% poverty, 0.40, 1.90\n",
      "Foreign Born at/above 1.5X poverty line, 1.20, 6.23\n",
      "# White Not Hispanis Female, 45.62, 33.38\n",
      "Citizen by Naturalization, 0.82, 3.88\n",
      "HS or equal, 27.76, 17.68\n",
      "Total Born In State education, 49.82, 32.99\n",
      "Total Moving White, 92.24, 76.19\n",
      "# Hispanic Female, 1.52, 7.59\n",
      "Graduate, 3.57, 7.23\n",
      "# of Housing Units, 8.36, 3.62\n",
      "# Black Female, 0.68, 6.50\n"
     ]
    }
   ],
   "source": [
    "print(\"demographic, voted more gop, voted more dem\")\n",
    "for sig in significant_demographics:\n",
    "    print(\"{}, {:.2f}, {:.2f}\".format(sig, low_means[sig], high_means[sig]))"
   ]
  },
  {
   "cell_type": "code",
   "execution_count": null,
   "metadata": {
    "collapsed": true
   },
   "outputs": [],
   "source": []
  },
  {
   "cell_type": "code",
   "execution_count": null,
   "metadata": {
    "collapsed": true
   },
   "outputs": [],
   "source": []
  },
  {
   "cell_type": "code",
   "execution_count": null,
   "metadata": {
    "collapsed": true
   },
   "outputs": [],
   "source": []
  },
  {
   "cell_type": "code",
   "execution_count": null,
   "metadata": {
    "collapsed": true
   },
   "outputs": [],
   "source": []
  },
  {
   "cell_type": "code",
   "execution_count": null,
   "metadata": {
    "collapsed": true
   },
   "outputs": [],
   "source": []
  },
  {
   "cell_type": "code",
   "execution_count": 37,
   "metadata": {
    "collapsed": true
   },
   "outputs": [],
   "source": [
    "# see if there is overlap between the groups"
   ]
  },
  {
   "cell_type": "code",
   "execution_count": null,
   "metadata": {
    "collapsed": true
   },
   "outputs": [],
   "source": []
  },
  {
   "cell_type": "code",
   "execution_count": null,
   "metadata": {
    "collapsed": true
   },
   "outputs": [],
   "source": []
  },
  {
   "cell_type": "code",
   "execution_count": null,
   "metadata": {
    "collapsed": true
   },
   "outputs": [],
   "source": []
  },
  {
   "cell_type": "code",
   "execution_count": null,
   "metadata": {
    "collapsed": true
   },
   "outputs": [],
   "source": []
  },
  {
   "cell_type": "code",
   "execution_count": null,
   "metadata": {
    "collapsed": true
   },
   "outputs": [],
   "source": []
  },
  {
   "cell_type": "code",
   "execution_count": null,
   "metadata": {
    "collapsed": true
   },
   "outputs": [],
   "source": []
  },
  {
   "cell_type": "code",
   "execution_count": null,
   "metadata": {
    "collapsed": true
   },
   "outputs": [],
   "source": []
  }
 ],
 "metadata": {
  "kernelspec": {
   "display_name": "Python 3",
   "language": "python",
   "name": "python3"
  },
  "language_info": {
   "codemirror_mode": {
    "name": "ipython",
    "version": 3
   },
   "file_extension": ".py",
   "mimetype": "text/x-python",
   "name": "python",
   "nbconvert_exporter": "python",
   "pygments_lexer": "ipython3",
   "version": "3.5.2"
  }
 },
 "nbformat": 4,
 "nbformat_minor": 1
}
