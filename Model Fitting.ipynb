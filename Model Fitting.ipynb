{
 "cells": [
  {
   "cell_type": "code",
   "execution_count": 1,
   "metadata": {
    "collapsed": false
   },
   "outputs": [],
   "source": [
    "import pandas as pd\n",
    "import numpy as np\n",
    "import pickle"
   ]
  },
  {
   "cell_type": "code",
   "execution_count": 2,
   "metadata": {
    "collapsed": false
   },
   "outputs": [],
   "source": [
    "f = open(\"./final_data.p\", \"rb\")\n",
    "data = pickle.load(f)"
   ]
  },
  {
   "cell_type": "code",
   "execution_count": 3,
   "metadata": {
    "collapsed": false
   },
   "outputs": [
    {
     "data": {
      "text/html": [
       "<div>\n",
       "<table border=\"1\" class=\"dataframe\">\n",
       "  <thead>\n",
       "    <tr style=\"text-align: right;\">\n",
       "      <th></th>\n",
       "      <th>fips_code</th>\n",
       "      <th>county</th>\n",
       "      <th>total_2008</th>\n",
       "      <th>dem_2008</th>\n",
       "      <th>gop_2008</th>\n",
       "      <th>oth_2008</th>\n",
       "      <th>total_2012</th>\n",
       "      <th>dem_2012</th>\n",
       "      <th>gop_2012</th>\n",
       "      <th>oth_2012</th>\n",
       "      <th>...</th>\n",
       "      <th>Family Income 35-40K</th>\n",
       "      <th>Family Income 40-45K</th>\n",
       "      <th>Family Income 45-50K</th>\n",
       "      <th>Family Income 50-60K</th>\n",
       "      <th>Family Income 60-75K</th>\n",
       "      <th>Family Income 75-100K</th>\n",
       "      <th>Family Income 100-125K</th>\n",
       "      <th>Family Income 125-150K</th>\n",
       "      <th>Family Income 150-200K</th>\n",
       "      <th>Family Income &gt; 200K</th>\n",
       "    </tr>\n",
       "  </thead>\n",
       "  <tbody>\n",
       "    <tr>\n",
       "      <th>0</th>\n",
       "      <td>26041</td>\n",
       "      <td>Delta County</td>\n",
       "      <td>19064.0</td>\n",
       "      <td>9974.0</td>\n",
       "      <td>8763.0</td>\n",
       "      <td>327.0</td>\n",
       "      <td>18043.0</td>\n",
       "      <td>8330.0</td>\n",
       "      <td>9533.0</td>\n",
       "      <td>180.0</td>\n",
       "      <td>...</td>\n",
       "      <td>453.0</td>\n",
       "      <td>572.0</td>\n",
       "      <td>528.0</td>\n",
       "      <td>1217.0</td>\n",
       "      <td>1261.0</td>\n",
       "      <td>1697.0</td>\n",
       "      <td>623.0</td>\n",
       "      <td>401.0</td>\n",
       "      <td>234.0</td>\n",
       "      <td>96.0</td>\n",
       "    </tr>\n",
       "    <tr>\n",
       "      <th>1</th>\n",
       "      <td>48295</td>\n",
       "      <td>Lipscomb County</td>\n",
       "      <td>1256.0</td>\n",
       "      <td>155.0</td>\n",
       "      <td>1093.0</td>\n",
       "      <td>8.0</td>\n",
       "      <td>1168.0</td>\n",
       "      <td>119.0</td>\n",
       "      <td>1044.0</td>\n",
       "      <td>5.0</td>\n",
       "      <td>...</td>\n",
       "      <td>20.0</td>\n",
       "      <td>29.0</td>\n",
       "      <td>33.0</td>\n",
       "      <td>79.0</td>\n",
       "      <td>123.0</td>\n",
       "      <td>116.0</td>\n",
       "      <td>91.0</td>\n",
       "      <td>54.0</td>\n",
       "      <td>56.0</td>\n",
       "      <td>46.0</td>\n",
       "    </tr>\n",
       "    <tr>\n",
       "      <th>2</th>\n",
       "      <td>1127</td>\n",
       "      <td>Walker County</td>\n",
       "      <td>28652.0</td>\n",
       "      <td>7420.0</td>\n",
       "      <td>20722.0</td>\n",
       "      <td>510.0</td>\n",
       "      <td>28497.0</td>\n",
       "      <td>6551.0</td>\n",
       "      <td>21633.0</td>\n",
       "      <td>313.0</td>\n",
       "      <td>...</td>\n",
       "      <td>1041.0</td>\n",
       "      <td>919.0</td>\n",
       "      <td>987.0</td>\n",
       "      <td>1570.0</td>\n",
       "      <td>2209.0</td>\n",
       "      <td>1819.0</td>\n",
       "      <td>1210.0</td>\n",
       "      <td>745.0</td>\n",
       "      <td>437.0</td>\n",
       "      <td>339.0</td>\n",
       "    </tr>\n",
       "    <tr>\n",
       "      <th>3</th>\n",
       "      <td>48389</td>\n",
       "      <td>Reeves County</td>\n",
       "      <td>3077.0</td>\n",
       "      <td>1606.0</td>\n",
       "      <td>1445.0</td>\n",
       "      <td>26.0</td>\n",
       "      <td>2867.0</td>\n",
       "      <td>1649.0</td>\n",
       "      <td>1185.0</td>\n",
       "      <td>33.0</td>\n",
       "      <td>...</td>\n",
       "      <td>96.0</td>\n",
       "      <td>119.0</td>\n",
       "      <td>75.0</td>\n",
       "      <td>213.0</td>\n",
       "      <td>320.0</td>\n",
       "      <td>350.0</td>\n",
       "      <td>188.0</td>\n",
       "      <td>69.0</td>\n",
       "      <td>64.0</td>\n",
       "      <td>79.0</td>\n",
       "    </tr>\n",
       "    <tr>\n",
       "      <th>4</th>\n",
       "      <td>56017</td>\n",
       "      <td>Hot Springs County</td>\n",
       "      <td>2546.0</td>\n",
       "      <td>619.0</td>\n",
       "      <td>1834.0</td>\n",
       "      <td>93.0</td>\n",
       "      <td>2495.0</td>\n",
       "      <td>523.0</td>\n",
       "      <td>1894.0</td>\n",
       "      <td>78.0</td>\n",
       "      <td>...</td>\n",
       "      <td>50.0</td>\n",
       "      <td>69.0</td>\n",
       "      <td>84.0</td>\n",
       "      <td>122.0</td>\n",
       "      <td>234.0</td>\n",
       "      <td>112.0</td>\n",
       "      <td>148.0</td>\n",
       "      <td>89.0</td>\n",
       "      <td>36.0</td>\n",
       "      <td>58.0</td>\n",
       "    </tr>\n",
       "  </tbody>\n",
       "</table>\n",
       "<p>5 rows × 134 columns</p>\n",
       "</div>"
      ],
      "text/plain": [
       "   fips_code              county  total_2008  dem_2008  gop_2008  oth_2008  \\\n",
       "0      26041        Delta County     19064.0    9974.0    8763.0     327.0   \n",
       "1      48295     Lipscomb County      1256.0     155.0    1093.0       8.0   \n",
       "2       1127       Walker County     28652.0    7420.0   20722.0     510.0   \n",
       "3      48389       Reeves County      3077.0    1606.0    1445.0      26.0   \n",
       "4      56017  Hot Springs County      2546.0     619.0    1834.0      93.0   \n",
       "\n",
       "   total_2012  dem_2012  gop_2012  oth_2012          ...           \\\n",
       "0     18043.0    8330.0    9533.0     180.0          ...            \n",
       "1      1168.0     119.0    1044.0       5.0          ...            \n",
       "2     28497.0    6551.0   21633.0     313.0          ...            \n",
       "3      2867.0    1649.0    1185.0      33.0          ...            \n",
       "4      2495.0     523.0    1894.0      78.0          ...            \n",
       "\n",
       "   Family Income 35-40K  Family Income 40-45K  Family Income 45-50K  \\\n",
       "0                 453.0                 572.0                 528.0   \n",
       "1                  20.0                  29.0                  33.0   \n",
       "2                1041.0                 919.0                 987.0   \n",
       "3                  96.0                 119.0                  75.0   \n",
       "4                  50.0                  69.0                  84.0   \n",
       "\n",
       "   Family Income 50-60K  Family Income 60-75K  Family Income 75-100K  \\\n",
       "0                1217.0                1261.0                 1697.0   \n",
       "1                  79.0                 123.0                  116.0   \n",
       "2                1570.0                2209.0                 1819.0   \n",
       "3                 213.0                 320.0                  350.0   \n",
       "4                 122.0                 234.0                  112.0   \n",
       "\n",
       "   Family Income 100-125K  Family Income 125-150K  Family Income 150-200K  \\\n",
       "0                   623.0                   401.0                   234.0   \n",
       "1                    91.0                    54.0                    56.0   \n",
       "2                  1210.0                   745.0                   437.0   \n",
       "3                   188.0                    69.0                    64.0   \n",
       "4                   148.0                    89.0                    36.0   \n",
       "\n",
       "   Family Income > 200K  \n",
       "0                  96.0  \n",
       "1                  46.0  \n",
       "2                 339.0  \n",
       "3                  79.0  \n",
       "4                  58.0  \n",
       "\n",
       "[5 rows x 134 columns]"
      ]
     },
     "execution_count": 3,
     "metadata": {},
     "output_type": "execute_result"
    }
   ],
   "source": [
    "data.head()"
   ]
  },
  {
   "cell_type": "code",
   "execution_count": 4,
   "metadata": {
    "collapsed": true
   },
   "outputs": [],
   "source": [
    "X = data.ix[:, 14:]"
   ]
  },
  {
   "cell_type": "code",
   "execution_count": 5,
   "metadata": {
    "collapsed": false
   },
   "outputs": [
    {
     "data": {
      "text/html": [
       "<div>\n",
       "<table border=\"1\" class=\"dataframe\">\n",
       "  <thead>\n",
       "    <tr style=\"text-align: right;\">\n",
       "      <th></th>\n",
       "      <th># of Housing Units</th>\n",
       "      <th># White</th>\n",
       "      <th># White Male</th>\n",
       "      <th># White Female</th>\n",
       "      <th># Black</th>\n",
       "      <th># Black Male</th>\n",
       "      <th># Black Female</th>\n",
       "      <th># White Not Hispanic</th>\n",
       "      <th># White Not Hispanis Male</th>\n",
       "      <th># White Not Hispanis Female</th>\n",
       "      <th>...</th>\n",
       "      <th>Family Income 35-40K</th>\n",
       "      <th>Family Income 40-45K</th>\n",
       "      <th>Family Income 45-50K</th>\n",
       "      <th>Family Income 50-60K</th>\n",
       "      <th>Family Income 60-75K</th>\n",
       "      <th>Family Income 75-100K</th>\n",
       "      <th>Family Income 100-125K</th>\n",
       "      <th>Family Income 125-150K</th>\n",
       "      <th>Family Income 150-200K</th>\n",
       "      <th>Family Income &gt; 200K</th>\n",
       "    </tr>\n",
       "  </thead>\n",
       "  <tbody>\n",
       "    <tr>\n",
       "      <th>0</th>\n",
       "      <td>3040.0</td>\n",
       "      <td>34754.0</td>\n",
       "      <td>17231.0</td>\n",
       "      <td>17523.0</td>\n",
       "      <td>121.0</td>\n",
       "      <td>60.0</td>\n",
       "      <td>61.0</td>\n",
       "      <td>34581.0</td>\n",
       "      <td>17137.0</td>\n",
       "      <td>17444.0</td>\n",
       "      <td>...</td>\n",
       "      <td>453.0</td>\n",
       "      <td>572.0</td>\n",
       "      <td>528.0</td>\n",
       "      <td>1217.0</td>\n",
       "      <td>1261.0</td>\n",
       "      <td>1697.0</td>\n",
       "      <td>623.0</td>\n",
       "      <td>401.0</td>\n",
       "      <td>234.0</td>\n",
       "      <td>96.0</td>\n",
       "    </tr>\n",
       "    <tr>\n",
       "      <th>1</th>\n",
       "      <td>478.0</td>\n",
       "      <td>2980.0</td>\n",
       "      <td>1577.0</td>\n",
       "      <td>1403.0</td>\n",
       "      <td>17.0</td>\n",
       "      <td>8.0</td>\n",
       "      <td>9.0</td>\n",
       "      <td>2361.0</td>\n",
       "      <td>1194.0</td>\n",
       "      <td>1167.0</td>\n",
       "      <td>...</td>\n",
       "      <td>20.0</td>\n",
       "      <td>29.0</td>\n",
       "      <td>33.0</td>\n",
       "      <td>79.0</td>\n",
       "      <td>123.0</td>\n",
       "      <td>116.0</td>\n",
       "      <td>91.0</td>\n",
       "      <td>54.0</td>\n",
       "      <td>56.0</td>\n",
       "      <td>46.0</td>\n",
       "    </tr>\n",
       "    <tr>\n",
       "      <th>2</th>\n",
       "      <td>2700.0</td>\n",
       "      <td>60224.0</td>\n",
       "      <td>29335.0</td>\n",
       "      <td>30889.0</td>\n",
       "      <td>3764.0</td>\n",
       "      <td>1781.0</td>\n",
       "      <td>1983.0</td>\n",
       "      <td>59498.0</td>\n",
       "      <td>28884.0</td>\n",
       "      <td>30614.0</td>\n",
       "      <td>...</td>\n",
       "      <td>1041.0</td>\n",
       "      <td>919.0</td>\n",
       "      <td>987.0</td>\n",
       "      <td>1570.0</td>\n",
       "      <td>2209.0</td>\n",
       "      <td>1819.0</td>\n",
       "      <td>1210.0</td>\n",
       "      <td>745.0</td>\n",
       "      <td>437.0</td>\n",
       "      <td>339.0</td>\n",
       "    </tr>\n",
       "    <tr>\n",
       "      <th>3</th>\n",
       "      <td>556.0</td>\n",
       "      <td>11899.0</td>\n",
       "      <td>6966.0</td>\n",
       "      <td>4933.0</td>\n",
       "      <td>750.0</td>\n",
       "      <td>578.0</td>\n",
       "      <td>172.0</td>\n",
       "      <td>2677.0</td>\n",
       "      <td>1795.0</td>\n",
       "      <td>882.0</td>\n",
       "      <td>...</td>\n",
       "      <td>96.0</td>\n",
       "      <td>119.0</td>\n",
       "      <td>75.0</td>\n",
       "      <td>213.0</td>\n",
       "      <td>320.0</td>\n",
       "      <td>350.0</td>\n",
       "      <td>188.0</td>\n",
       "      <td>69.0</td>\n",
       "      <td>64.0</td>\n",
       "      <td>79.0</td>\n",
       "    </tr>\n",
       "    <tr>\n",
       "      <th>4</th>\n",
       "      <td>326.0</td>\n",
       "      <td>4661.0</td>\n",
       "      <td>2298.0</td>\n",
       "      <td>2363.0</td>\n",
       "      <td>12.0</td>\n",
       "      <td>1.0</td>\n",
       "      <td>11.0</td>\n",
       "      <td>4535.0</td>\n",
       "      <td>2247.0</td>\n",
       "      <td>2288.0</td>\n",
       "      <td>...</td>\n",
       "      <td>50.0</td>\n",
       "      <td>69.0</td>\n",
       "      <td>84.0</td>\n",
       "      <td>122.0</td>\n",
       "      <td>234.0</td>\n",
       "      <td>112.0</td>\n",
       "      <td>148.0</td>\n",
       "      <td>89.0</td>\n",
       "      <td>36.0</td>\n",
       "      <td>58.0</td>\n",
       "    </tr>\n",
       "  </tbody>\n",
       "</table>\n",
       "<p>5 rows × 120 columns</p>\n",
       "</div>"
      ],
      "text/plain": [
       "   # of Housing Units  # White  # White Male  # White Female  # Black  \\\n",
       "0              3040.0  34754.0       17231.0         17523.0    121.0   \n",
       "1               478.0   2980.0        1577.0          1403.0     17.0   \n",
       "2              2700.0  60224.0       29335.0         30889.0   3764.0   \n",
       "3               556.0  11899.0        6966.0          4933.0    750.0   \n",
       "4               326.0   4661.0        2298.0          2363.0     12.0   \n",
       "\n",
       "   # Black Male  # Black Female  # White Not Hispanic  \\\n",
       "0          60.0            61.0               34581.0   \n",
       "1           8.0             9.0                2361.0   \n",
       "2        1781.0          1983.0               59498.0   \n",
       "3         578.0           172.0                2677.0   \n",
       "4           1.0            11.0                4535.0   \n",
       "\n",
       "   # White Not Hispanis Male  # White Not Hispanis Female  \\\n",
       "0                    17137.0                      17444.0   \n",
       "1                     1194.0                       1167.0   \n",
       "2                    28884.0                      30614.0   \n",
       "3                     1795.0                        882.0   \n",
       "4                     2247.0                       2288.0   \n",
       "\n",
       "           ...           Family Income 35-40K  Family Income 40-45K  \\\n",
       "0          ...                          453.0                 572.0   \n",
       "1          ...                           20.0                  29.0   \n",
       "2          ...                         1041.0                 919.0   \n",
       "3          ...                           96.0                 119.0   \n",
       "4          ...                           50.0                  69.0   \n",
       "\n",
       "   Family Income 45-50K  Family Income 50-60K  Family Income 60-75K  \\\n",
       "0                 528.0                1217.0                1261.0   \n",
       "1                  33.0                  79.0                 123.0   \n",
       "2                 987.0                1570.0                2209.0   \n",
       "3                  75.0                 213.0                 320.0   \n",
       "4                  84.0                 122.0                 234.0   \n",
       "\n",
       "   Family Income 75-100K  Family Income 100-125K  Family Income 125-150K  \\\n",
       "0                 1697.0                   623.0                   401.0   \n",
       "1                  116.0                    91.0                    54.0   \n",
       "2                 1819.0                  1210.0                   745.0   \n",
       "3                  350.0                   188.0                    69.0   \n",
       "4                  112.0                   148.0                    89.0   \n",
       "\n",
       "   Family Income 150-200K  Family Income > 200K  \n",
       "0                   234.0                  96.0  \n",
       "1                    56.0                  46.0  \n",
       "2                   437.0                 339.0  \n",
       "3                    64.0                  79.0  \n",
       "4                    36.0                  58.0  \n",
       "\n",
       "[5 rows x 120 columns]"
      ]
     },
     "execution_count": 5,
     "metadata": {},
     "output_type": "execute_result"
    }
   ],
   "source": [
    "X.head()"
   ]
  },
  {
   "cell_type": "code",
   "execution_count": 6,
   "metadata": {
    "collapsed": false
   },
   "outputs": [],
   "source": [
    "del X[\"Population\"]"
   ]
  },
  {
   "cell_type": "code",
   "execution_count": 7,
   "metadata": {
    "collapsed": false
   },
   "outputs": [],
   "source": [
    "X = X.apply(lambda x: x / data[\"Population\"])"
   ]
  },
  {
   "cell_type": "code",
   "execution_count": 8,
   "metadata": {
    "collapsed": false
   },
   "outputs": [
    {
     "data": {
      "text/html": [
       "<div>\n",
       "<table border=\"1\" class=\"dataframe\">\n",
       "  <thead>\n",
       "    <tr style=\"text-align: right;\">\n",
       "      <th></th>\n",
       "      <th># of Housing Units</th>\n",
       "      <th># White</th>\n",
       "      <th># White Male</th>\n",
       "      <th># White Female</th>\n",
       "      <th># Black</th>\n",
       "      <th># Black Male</th>\n",
       "      <th># Black Female</th>\n",
       "      <th># White Not Hispanic</th>\n",
       "      <th># White Not Hispanis Male</th>\n",
       "      <th># White Not Hispanis Female</th>\n",
       "      <th>...</th>\n",
       "      <th>Family Income 35-40K</th>\n",
       "      <th>Family Income 40-45K</th>\n",
       "      <th>Family Income 45-50K</th>\n",
       "      <th>Family Income 50-60K</th>\n",
       "      <th>Family Income 60-75K</th>\n",
       "      <th>Family Income 75-100K</th>\n",
       "      <th>Family Income 100-125K</th>\n",
       "      <th>Family Income 125-150K</th>\n",
       "      <th>Family Income 150-200K</th>\n",
       "      <th>Family Income &gt; 200K</th>\n",
       "    </tr>\n",
       "  </thead>\n",
       "  <tbody>\n",
       "    <tr>\n",
       "      <th>0</th>\n",
       "      <td>0.082517</td>\n",
       "      <td>0.943351</td>\n",
       "      <td>0.467713</td>\n",
       "      <td>0.475639</td>\n",
       "      <td>0.003284</td>\n",
       "      <td>0.001629</td>\n",
       "      <td>0.001656</td>\n",
       "      <td>0.938655</td>\n",
       "      <td>0.465161</td>\n",
       "      <td>0.473494</td>\n",
       "      <td>...</td>\n",
       "      <td>0.012296</td>\n",
       "      <td>0.015526</td>\n",
       "      <td>0.014332</td>\n",
       "      <td>0.033034</td>\n",
       "      <td>0.034228</td>\n",
       "      <td>0.046063</td>\n",
       "      <td>0.016911</td>\n",
       "      <td>0.010885</td>\n",
       "      <td>0.006352</td>\n",
       "      <td>0.002606</td>\n",
       "    </tr>\n",
       "    <tr>\n",
       "      <th>1</th>\n",
       "      <td>0.139848</td>\n",
       "      <td>0.871855</td>\n",
       "      <td>0.461381</td>\n",
       "      <td>0.410474</td>\n",
       "      <td>0.004974</td>\n",
       "      <td>0.002341</td>\n",
       "      <td>0.002633</td>\n",
       "      <td>0.690755</td>\n",
       "      <td>0.349327</td>\n",
       "      <td>0.341428</td>\n",
       "      <td>...</td>\n",
       "      <td>0.005851</td>\n",
       "      <td>0.008484</td>\n",
       "      <td>0.009655</td>\n",
       "      <td>0.023113</td>\n",
       "      <td>0.035986</td>\n",
       "      <td>0.033938</td>\n",
       "      <td>0.026624</td>\n",
       "      <td>0.015799</td>\n",
       "      <td>0.016384</td>\n",
       "      <td>0.013458</td>\n",
       "    </tr>\n",
       "    <tr>\n",
       "      <th>2</th>\n",
       "      <td>0.040779</td>\n",
       "      <td>0.909577</td>\n",
       "      <td>0.443053</td>\n",
       "      <td>0.466524</td>\n",
       "      <td>0.056849</td>\n",
       "      <td>0.026899</td>\n",
       "      <td>0.029950</td>\n",
       "      <td>0.898612</td>\n",
       "      <td>0.436242</td>\n",
       "      <td>0.462370</td>\n",
       "      <td>...</td>\n",
       "      <td>0.015722</td>\n",
       "      <td>0.013880</td>\n",
       "      <td>0.014907</td>\n",
       "      <td>0.023712</td>\n",
       "      <td>0.033363</td>\n",
       "      <td>0.027473</td>\n",
       "      <td>0.018275</td>\n",
       "      <td>0.011252</td>\n",
       "      <td>0.006600</td>\n",
       "      <td>0.005120</td>\n",
       "    </tr>\n",
       "    <tr>\n",
       "      <th>3</th>\n",
       "      <td>0.039777</td>\n",
       "      <td>0.851266</td>\n",
       "      <td>0.498355</td>\n",
       "      <td>0.352912</td>\n",
       "      <td>0.053656</td>\n",
       "      <td>0.041351</td>\n",
       "      <td>0.012305</td>\n",
       "      <td>0.191515</td>\n",
       "      <td>0.128416</td>\n",
       "      <td>0.063099</td>\n",
       "      <td>...</td>\n",
       "      <td>0.006868</td>\n",
       "      <td>0.008513</td>\n",
       "      <td>0.005366</td>\n",
       "      <td>0.015238</td>\n",
       "      <td>0.022893</td>\n",
       "      <td>0.025039</td>\n",
       "      <td>0.013450</td>\n",
       "      <td>0.004936</td>\n",
       "      <td>0.004579</td>\n",
       "      <td>0.005652</td>\n",
       "    </tr>\n",
       "    <tr>\n",
       "      <th>4</th>\n",
       "      <td>0.067551</td>\n",
       "      <td>0.965810</td>\n",
       "      <td>0.476171</td>\n",
       "      <td>0.489639</td>\n",
       "      <td>0.002487</td>\n",
       "      <td>0.000207</td>\n",
       "      <td>0.002279</td>\n",
       "      <td>0.939702</td>\n",
       "      <td>0.465603</td>\n",
       "      <td>0.474099</td>\n",
       "      <td>...</td>\n",
       "      <td>0.010361</td>\n",
       "      <td>0.014298</td>\n",
       "      <td>0.017406</td>\n",
       "      <td>0.025280</td>\n",
       "      <td>0.048487</td>\n",
       "      <td>0.023208</td>\n",
       "      <td>0.030667</td>\n",
       "      <td>0.018442</td>\n",
       "      <td>0.007460</td>\n",
       "      <td>0.012018</td>\n",
       "    </tr>\n",
       "  </tbody>\n",
       "</table>\n",
       "<p>5 rows × 119 columns</p>\n",
       "</div>"
      ],
      "text/plain": [
       "   # of Housing Units   # White  # White Male  # White Female   # Black  \\\n",
       "0            0.082517  0.943351      0.467713        0.475639  0.003284   \n",
       "1            0.139848  0.871855      0.461381        0.410474  0.004974   \n",
       "2            0.040779  0.909577      0.443053        0.466524  0.056849   \n",
       "3            0.039777  0.851266      0.498355        0.352912  0.053656   \n",
       "4            0.067551  0.965810      0.476171        0.489639  0.002487   \n",
       "\n",
       "   # Black Male  # Black Female  # White Not Hispanic  \\\n",
       "0      0.001629        0.001656              0.938655   \n",
       "1      0.002341        0.002633              0.690755   \n",
       "2      0.026899        0.029950              0.898612   \n",
       "3      0.041351        0.012305              0.191515   \n",
       "4      0.000207        0.002279              0.939702   \n",
       "\n",
       "   # White Not Hispanis Male  # White Not Hispanis Female  \\\n",
       "0                   0.465161                     0.473494   \n",
       "1                   0.349327                     0.341428   \n",
       "2                   0.436242                     0.462370   \n",
       "3                   0.128416                     0.063099   \n",
       "4                   0.465603                     0.474099   \n",
       "\n",
       "           ...           Family Income 35-40K  Family Income 40-45K  \\\n",
       "0          ...                       0.012296              0.015526   \n",
       "1          ...                       0.005851              0.008484   \n",
       "2          ...                       0.015722              0.013880   \n",
       "3          ...                       0.006868              0.008513   \n",
       "4          ...                       0.010361              0.014298   \n",
       "\n",
       "   Family Income 45-50K  Family Income 50-60K  Family Income 60-75K  \\\n",
       "0              0.014332              0.033034              0.034228   \n",
       "1              0.009655              0.023113              0.035986   \n",
       "2              0.014907              0.023712              0.033363   \n",
       "3              0.005366              0.015238              0.022893   \n",
       "4              0.017406              0.025280              0.048487   \n",
       "\n",
       "   Family Income 75-100K  Family Income 100-125K  Family Income 125-150K  \\\n",
       "0               0.046063                0.016911                0.010885   \n",
       "1               0.033938                0.026624                0.015799   \n",
       "2               0.027473                0.018275                0.011252   \n",
       "3               0.025039                0.013450                0.004936   \n",
       "4               0.023208                0.030667                0.018442   \n",
       "\n",
       "   Family Income 150-200K  Family Income > 200K  \n",
       "0                0.006352              0.002606  \n",
       "1                0.016384              0.013458  \n",
       "2                0.006600              0.005120  \n",
       "3                0.004579              0.005652  \n",
       "4                0.007460              0.012018  \n",
       "\n",
       "[5 rows x 119 columns]"
      ]
     },
     "execution_count": 8,
     "metadata": {},
     "output_type": "execute_result"
    }
   ],
   "source": [
    "X.head()"
   ]
  },
  {
   "cell_type": "code",
   "execution_count": 9,
   "metadata": {
    "collapsed": false
   },
   "outputs": [
    {
     "data": {
      "text/plain": [
       "count    2628.000000\n",
       "mean        0.500386\n",
       "std         0.022183\n",
       "min         0.302915\n",
       "25%         0.496416\n",
       "50%         0.504755\n",
       "75%         0.511384\n",
       "max         0.571966\n",
       "Name: # Female, dtype: float64"
      ]
     },
     "execution_count": 9,
     "metadata": {},
     "output_type": "execute_result"
    }
   ],
   "source": [
    "X[\"# Female\"].describe()"
   ]
  },
  {
   "cell_type": "code",
   "execution_count": 10,
   "metadata": {
    "collapsed": false
   },
   "outputs": [],
   "source": [
    "voter_turn_out = data[\"total_2016\"] - data[\"total_2012\"]"
   ]
  },
  {
   "cell_type": "code",
   "execution_count": 11,
   "metadata": {
    "collapsed": false
   },
   "outputs": [],
   "source": [
    "from sklearn.linear_model import LinearRegression"
   ]
  },
  {
   "cell_type": "code",
   "execution_count": 12,
   "metadata": {
    "collapsed": false
   },
   "outputs": [],
   "source": [
    "X = X * 100"
   ]
  },
  {
   "cell_type": "code",
   "execution_count": 13,
   "metadata": {
    "collapsed": false
   },
   "outputs": [
    {
     "data": {
      "text/plain": [
       "(2628, 119)"
      ]
     },
     "execution_count": 13,
     "metadata": {},
     "output_type": "execute_result"
    }
   ],
   "source": [
    "X.shape"
   ]
  },
  {
   "cell_type": "code",
   "execution_count": 14,
   "metadata": {
    "collapsed": false
   },
   "outputs": [],
   "source": [
    "linear = LinearRegression()"
   ]
  },
  {
   "cell_type": "code",
   "execution_count": 15,
   "metadata": {
    "collapsed": false
   },
   "outputs": [
    {
     "data": {
      "text/plain": [
       "LinearRegression(copy_X=True, fit_intercept=True, n_jobs=1, normalize=False)"
      ]
     },
     "execution_count": 15,
     "metadata": {},
     "output_type": "execute_result"
    }
   ],
   "source": [
    "linear.fit(X, voter_turn_out)"
   ]
  },
  {
   "cell_type": "code",
   "execution_count": 16,
   "metadata": {
    "collapsed": false,
    "scrolled": true
   },
   "outputs": [
    {
     "name": "stdout",
     "output_type": "stream",
     "text": [
      "('Median Age Male', 35273.860299653905)\n",
      "('Median Age Female', 14903.935966891951)\n",
      "('Rail Road', 8814.3766146147937)\n",
      "('Family Income > 200K', 3049.9008713594717)\n",
      "('Moved From Abroad White', 2675.020037522846)\n",
      "('HS or equal', 2658.6651162152498)\n",
      "('Total Moving White', 2585.6870454585942)\n",
      "('Other State-Bachelor', 2495.9051199867345)\n",
      "('Graduate', 2457.4716516865096)\n",
      "('Family Income 125-150K', 2284.1992306021039)\n",
      "('Family Income 150-200K', 2250.1983121520148)\n",
      "('No Vehicle Owned', 2229.9841806845379)\n",
      "('In State-Less than HS', 2134.8441168842924)\n",
      "('Family Income 100-125K', 2093.645998593141)\n",
      "('Other State-Less than HS', 1725.9416588164067)\n",
      "('In State-Bachelor', 1636.9291933644913)\n",
      "('Family Income 75-100K', 1366.1599178436029)\n",
      "('Public Transportation', 1046.0014325030434)\n",
      "('Income < 10K', 920.03628001649167)\n",
      "('Family Income 60-75K', 844.4556938609162)\n",
      "('Other State-Some College', 818.02963755389555)\n",
      "('In State-Some College', 812.11617145943251)\n",
      "('# Male', 709.39649665300635)\n",
      "('Total Reporing 0 Income', 629.77643641179566)\n",
      "('2 vehicles', 586.9010396928843)\n",
      "('1 vehicle', 563.13203408831396)\n",
      "('Total In Poverty Pool', 561.36953273427207)\n",
      "('Moved From Different State', 558.50787972124635)\n",
      "('# Black Female', 547.08182004680816)\n",
      "('# White Female', 436.58013545717677)\n",
      "('Income 15-25K', 432.23065083228198)\n",
      "('Total Reporting Income', 388.7282878394808)\n",
      "('Moved Within County White', 386.64564327518065)\n",
      "('Family Income 40-45K', 368.90498005010113)\n",
      "('Work at Home', 368.49565431971951)\n",
      "('100% below povery line', 364.57865027966363)\n",
      "('Moved Within Same State White', 331.28669010944168)\n",
      "('Income 25-35K', 301.66719216707452)\n",
      "('Education Count', 276.07410222444048)\n",
      "('3 vehicles', 273.59680615824072)\n",
      "('# White Not Hispanis Male', 236.11204910395523)\n",
      "('Income 10-15K', 230.62074355530967)\n",
      "('Income 35-50K', 207.34788253534589)\n",
      "('Same house 1 year ago', 199.49663069199596)\n",
      "('Family Income 50-60K', 140.65731406431883)\n",
      "('Drive Alone', 138.79413395110396)\n",
      "('5 or more vehicles', 128.34069515506235)\n",
      "('1-1.5X of poverty line', 116.0125675508516)\n",
      "('# of Housing Units', 106.84617546802372)\n",
      "('At above 150% poverty line', 80.778314908122411)\n",
      "('Family Income 25-30K', 80.328369792539661)\n",
      "('4 vehicles', 65.865528825892397)\n",
      "('Family Income 10-15K', 58.048551049152934)\n",
      "('Work in State', 51.876552739928229)\n",
      "('Foreign Born below 100% poverty', 44.830110897216855)\n",
      "('# Hispanic Female', 43.160421646635427)\n",
      "('Work in County', 36.211192577431575)\n",
      "('# Black', 30.693229531949271)\n",
      "('Work outside County', 15.665360165986385)\n",
      "('Median Income', 8.3390387975414342)\n",
      "('Median Income Foreign Born', 2.0700625518543347)\n",
      "('Median Income Born In State', 1.5491640627515153)\n",
      "('Median Income Born Outside US: Native', 0.20597368170615482)\n",
      "('Family Income < 10K', -11.22136962743798)\n",
      "('Family Income 20-25K', -12.265453780952839)\n",
      "('Median Income Born Other State', -12.349574718029544)\n",
      "('Family Income 30-35K', -13.957365155101911)\n",
      "('Family Income 45-50K', -50.563895339129772)\n",
      "('# Hispanic', -168.07973783259158)\n",
      "('Same house 1 year ago White', -192.10082276524099)\n",
      "('Total Means of Transportation Work', -197.21934778548848)\n",
      "('Born Other State at/above 1.5X poverty line', -206.12363556059881)\n",
      "('# Hispanic Male', -211.24015947349426)\n",
      "('Moved Within County', -216.26536424444748)\n",
      "('Foreign Born 1-1.5X of poverty line', -233.97322444208885)\n",
      "('Work by car: truck: van', -238.20997928393626)\n",
      "('Total Reporting with Income', -241.04814857017118)\n",
      "('Work outside State', -249.09590053373995)\n",
      "('# White Not Hispanic', -267.94025490797776)\n",
      "('Separated', -275.14373212026896)\n",
      "('Income 50-65K', -289.75317503435645)\n",
      "('Moved Within Same State', -334.65184411950804)\n",
      "('Foreign Born at/above 1.5X poverty line', -368.89024940499075)\n",
      "('Divorced', -372.9979285416328)\n",
      "('Total Born In State education', -375.46446842501155)\n",
      "('Car pooled', -377.00411323559274)\n",
      "('Citizen: born in US', -421.98504336276898)\n",
      "('# White Not Hispanis Female', -504.0523040272376)\n",
      "('Family Income 35-40K', -511.69154464911378)\n",
      "('# Black Male', -516.38859051073302)\n",
      "('Born Other State 1-1.5X of poverty line', -540.56415349389044)\n",
      "('Born In State at/above 1.5X poverty line', -565.80736702627019)\n",
      "('Currently Married', -571.28798013998255)\n",
      "('Moved From Different State White', -615.16450268048538)\n",
      "('Born In State 1-1.5X of poverty line', -622.34301427855644)\n",
      "('Born in Other State Education', -670.23218866503521)\n",
      "('Citizen by Naturalization', -682.94658002202095)\n",
      "('Foreign born naturalized', -682.94658003023528)\n",
      "('# Female', -709.39649665190575)\n",
      "('Never Married', -733.8507367709874)\n",
      "('Some College-AA', -815.66285069844696)\n",
      "('Walked', -846.12598506448012)\n",
      "('Income 65-75K', -850.82441188192024)\n",
      "('Born In State below 100% poverty', -969.48066401191409)\n",
      "('Born Other State below 100% poverty', -997.72293683711791)\n",
      "('Income > 75K', -1192.3733107479693)\n",
      "('# White', -1304.2629150561509)\n",
      "('# White Male', -1740.8430506610632)\n",
      "('Bachelor', -1883.2364846496039)\n",
      "('Total Moving', -1901.2540137793344)\n",
      "('Moved From Abroad', -2108.3413158242238)\n",
      "('Less Than HS', -2141.1633303235349)\n",
      "('In State-Graduate', -2296.0206548412352)\n",
      "('Other State-HS or equal', -2394.881095817077)\n",
      "('In State-HS or equal', -2663.3332952993997)\n",
      "('Bicycle', -2736.5557626573623)\n",
      "('Ferry Boat', -3072.2693080449571)\n",
      "('Other State-Graduate', -3315.2275091954816)\n",
      "('Median Age', -50111.438619583787)\n"
     ]
    }
   ],
   "source": [
    "for name, val in sorted(zip(X.columns, linear.coef_), key=lambda x: x[1], reverse=True):\n",
    "    print((name, val))"
   ]
  },
  {
   "cell_type": "code",
   "execution_count": null,
   "metadata": {
    "collapsed": true
   },
   "outputs": [],
   "source": []
  },
  {
   "cell_type": "code",
   "execution_count": 17,
   "metadata": {
    "collapsed": true
   },
   "outputs": [],
   "source": [
    "from sklearn.linear_model import LassoCV"
   ]
  },
  {
   "cell_type": "code",
   "execution_count": 18,
   "metadata": {
    "collapsed": true
   },
   "outputs": [],
   "source": [
    "lasso = LassoCV()"
   ]
  },
  {
   "cell_type": "code",
   "execution_count": 19,
   "metadata": {
    "collapsed": false
   },
   "outputs": [
    {
     "name": "stderr",
     "output_type": "stream",
     "text": [
      "/opt/conda/lib/python3.5/site-packages/sklearn/linear_model/coordinate_descent.py:479: ConvergenceWarning: Objective did not converge. You might want to increase the number of iterations. Fitting data with very small alpha may cause precision problems.\n",
      "  ConvergenceWarning)\n"
     ]
    },
    {
     "data": {
      "text/plain": [
       "LassoCV(alphas=None, copy_X=True, cv=None, eps=0.001, fit_intercept=True,\n",
       "    max_iter=1000, n_alphas=100, n_jobs=1, normalize=False, positive=False,\n",
       "    precompute='auto', random_state=None, selection='cyclic', tol=0.0001,\n",
       "    verbose=False)"
      ]
     },
     "execution_count": 19,
     "metadata": {},
     "output_type": "execute_result"
    }
   ],
   "source": [
    "lasso.fit(X, voter_turn_out)"
   ]
  },
  {
   "cell_type": "code",
   "execution_count": 20,
   "metadata": {
    "collapsed": true
   },
   "outputs": [],
   "source": [
    "keep_vars = []\n",
    "\n",
    "for name, val in zip(X.columns, lasso.coef_):    \n",
    "    if val != 0:\n",
    "        keep_vars.append(name)"
   ]
  },
  {
   "cell_type": "code",
   "execution_count": 21,
   "metadata": {
    "collapsed": true
   },
   "outputs": [],
   "source": [
    "linear = LinearRegression()"
   ]
  },
  {
   "cell_type": "code",
   "execution_count": 23,
   "metadata": {
    "collapsed": false
   },
   "outputs": [
    {
     "data": {
      "text/plain": [
       "LinearRegression(copy_X=True, fit_intercept=True, n_jobs=1, normalize=False)"
      ]
     },
     "execution_count": 23,
     "metadata": {},
     "output_type": "execute_result"
    }
   ],
   "source": [
    "linear.fit(X[keep_vars], voter_turn_out)"
   ]
  },
  {
   "cell_type": "code",
   "execution_count": 24,
   "metadata": {
    "collapsed": false
   },
   "outputs": [
    {
     "name": "stdout",
     "output_type": "stream",
     "text": [
      "('In State-Some College', 9872.7561185049144)\n",
      "('Other State-Less than HS', 2058.9858569503672)\n",
      "('# Hispanic Male', 1288.4624821200146)\n",
      "('In State-HS or equal', 845.68878360072529)\n",
      "('Median Age Male', 496.55432424656192)\n",
      "('HS or equal', 401.19128869224431)\n",
      "('# White', 363.68263718331627)\n",
      "('# Female', 359.28511922859684)\n",
      "('Other State-Some College', 352.17363970568852)\n",
      "('# White Female', 293.88876481382579)\n",
      "('Other State-HS or equal', 274.16132283847315)\n",
      "('Graduate', 246.65760644245992)\n",
      "('Bachelor', 198.10990608368564)\n",
      "('Some College-AA', 189.65179171791351)\n",
      "('# White Not Hispanis Female', 146.54675332255715)\n",
      "('# of Housing Units', 112.42024521513521)\n",
      "('Less Than HS', 91.94225346885284)\n",
      "('Total Born In State education', 89.712109861520091)\n",
      "('Other State-Bachelor', 79.907528031328454)\n",
      "('Education Count', 35.320520899747613)\n",
      "('Citizen: born in US', 17.899793709838555)\n",
      "('Separated', 15.14643544401876)\n",
      "('In State-Graduate', 1.8623403333036568)\n",
      "('Never Married', 0.37454060582691456)\n",
      "('Currently Married', 0.28836681033440692)\n",
      "('Total Reporting Income', -4.2217307379840276)\n",
      "('Citizen by Naturalization', -4.2484527703507009)\n",
      "('Foreign born naturalized', -13.253934063202809)\n",
      "('# White Male', -49.197114098830227)\n",
      "('Median Age', -61.51565277672465)\n",
      "('Other State-Graduate', -127.47113072094477)\n",
      "('# Black Male', -178.21188013034276)\n",
      "('Divorced', -181.94648775334809)\n",
      "('# Hispanic Female', -235.59663360027244)\n",
      "('# Hispanic', -266.20894280011566)\n",
      "('# Black', -301.39174879909041)\n",
      "('Born in Other State Education', -326.20181607677222)\n",
      "('# White Not Hispanic', -365.54679791393056)\n",
      "('Median Age Female', -456.96294788179819)\n",
      "('In State-Less than HS', -571.87697176543895)\n",
      "('# Black Female', -678.06935393257868)\n",
      "('# Male', -861.11227682332185)\n",
      "('In State-Bachelor', -920.88773165014595)\n",
      "('# White Not Hispanis Male', -1367.3106203798766)\n"
     ]
    }
   ],
   "source": [
    "for name, val in sorted(zip(X.columns, linear.coef_), key=lambda x: x[1], reverse=True):\n",
    "    if val != 0:\n",
    "        print((name, val))"
   ]
  },
  {
   "cell_type": "markdown",
   "metadata": {},
   "source": [
    "How some of these can be interpretted.\n",
    "\n",
    "('# Female', 359.28511922859684)\n",
    "\n",
    "After adjusting for other predictors, each 1% increase in the number of females in a county is associated with an increase in the mean voter turn out from 2012 to 2016 by 359 voters."
   ]
  },
  {
   "cell_type": "markdown",
   "metadata": {},
   "source": []
  },
  {
   "cell_type": "code",
   "execution_count": null,
   "metadata": {
    "collapsed": true
   },
   "outputs": [],
   "source": []
  },
  {
   "cell_type": "code",
   "execution_count": null,
   "metadata": {
    "collapsed": true
   },
   "outputs": [],
   "source": []
  },
  {
   "cell_type": "code",
   "execution_count": null,
   "metadata": {
    "collapsed": true
   },
   "outputs": [],
   "source": []
  },
  {
   "cell_type": "code",
   "execution_count": null,
   "metadata": {
    "collapsed": false
   },
   "outputs": [],
   "source": [
    "diff_voting_2012 = data[\"dem_2012\"] - data[\"gop_2012\"]\n",
    "diff_voting_2016 = data[\"dem_2016\"] - data[\"gop_2016\"]\n",
    "\n",
    "y = diff_voting_2016 - diff_voting_2012"
   ]
  },
  {
   "cell_type": "code",
   "execution_count": null,
   "metadata": {
    "collapsed": true
   },
   "outputs": [],
   "source": [
    "ratio_2012 = data[\"dem_2012\"] / data[\"total_2012\"] - 0.5\n",
    "ratio_2016 = data[\"dem_2016\"] / data[\"total_2016\"] - 0.5\n",
    "\n",
    "ratio_change = diff_voting_2016 - diff_voting_2012"
   ]
  }
 ],
 "metadata": {
  "kernelspec": {
   "display_name": "Python 3",
   "language": "python",
   "name": "python3"
  },
  "language_info": {
   "codemirror_mode": {
    "name": "ipython",
    "version": 3
   },
   "file_extension": ".py",
   "mimetype": "text/x-python",
   "name": "python",
   "nbconvert_exporter": "python",
   "pygments_lexer": "ipython3",
   "version": "3.5.2"
  }
 },
 "nbformat": 4,
 "nbformat_minor": 1
}
