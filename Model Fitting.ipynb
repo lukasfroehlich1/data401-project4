{
 "cells": [
  {
   "cell_type": "code",
   "execution_count": 121,
   "metadata": {
    "collapsed": false
   },
   "outputs": [],
   "source": [
    "import pandas as pd\n",
    "import numpy as np\n",
    "import pickle"
   ]
  },
  {
   "cell_type": "code",
   "execution_count": 122,
   "metadata": {
    "collapsed": false
   },
   "outputs": [],
   "source": [
    "f = open(\"./final_data.p\", \"rb\")\n",
    "data = pickle.load(f)"
   ]
  },
  {
   "cell_type": "code",
   "execution_count": 123,
   "metadata": {
    "collapsed": false
   },
   "outputs": [
    {
     "data": {
      "text/html": [
       "<div>\n",
       "<table border=\"1\" class=\"dataframe\">\n",
       "  <thead>\n",
       "    <tr style=\"text-align: right;\">\n",
       "      <th></th>\n",
       "      <th>fips_code</th>\n",
       "      <th>county</th>\n",
       "      <th>total_2008</th>\n",
       "      <th>dem_2008</th>\n",
       "      <th>gop_2008</th>\n",
       "      <th>oth_2008</th>\n",
       "      <th>total_2012</th>\n",
       "      <th>dem_2012</th>\n",
       "      <th>gop_2012</th>\n",
       "      <th>oth_2012</th>\n",
       "      <th>...</th>\n",
       "      <th>Family Income 35-40K</th>\n",
       "      <th>Family Income 40-45K</th>\n",
       "      <th>Family Income 45-50K</th>\n",
       "      <th>Family Income 50-60K</th>\n",
       "      <th>Family Income 60-75K</th>\n",
       "      <th>Family Income 75-100K</th>\n",
       "      <th>Family Income 100-125K</th>\n",
       "      <th>Family Income 125-150K</th>\n",
       "      <th>Family Income 150-200K</th>\n",
       "      <th>Family Income &gt; 200K</th>\n",
       "    </tr>\n",
       "  </thead>\n",
       "  <tbody>\n",
       "    <tr>\n",
       "      <th>0</th>\n",
       "      <td>26041</td>\n",
       "      <td>Delta County</td>\n",
       "      <td>19064.0</td>\n",
       "      <td>9974.0</td>\n",
       "      <td>8763.0</td>\n",
       "      <td>327.0</td>\n",
       "      <td>18043.0</td>\n",
       "      <td>8330.0</td>\n",
       "      <td>9533.0</td>\n",
       "      <td>180.0</td>\n",
       "      <td>...</td>\n",
       "      <td>453.0</td>\n",
       "      <td>572.0</td>\n",
       "      <td>528.0</td>\n",
       "      <td>1217.0</td>\n",
       "      <td>1261.0</td>\n",
       "      <td>1697.0</td>\n",
       "      <td>623.0</td>\n",
       "      <td>401.0</td>\n",
       "      <td>234.0</td>\n",
       "      <td>96.0</td>\n",
       "    </tr>\n",
       "    <tr>\n",
       "      <th>1</th>\n",
       "      <td>48295</td>\n",
       "      <td>Lipscomb County</td>\n",
       "      <td>1256.0</td>\n",
       "      <td>155.0</td>\n",
       "      <td>1093.0</td>\n",
       "      <td>8.0</td>\n",
       "      <td>1168.0</td>\n",
       "      <td>119.0</td>\n",
       "      <td>1044.0</td>\n",
       "      <td>5.0</td>\n",
       "      <td>...</td>\n",
       "      <td>20.0</td>\n",
       "      <td>29.0</td>\n",
       "      <td>33.0</td>\n",
       "      <td>79.0</td>\n",
       "      <td>123.0</td>\n",
       "      <td>116.0</td>\n",
       "      <td>91.0</td>\n",
       "      <td>54.0</td>\n",
       "      <td>56.0</td>\n",
       "      <td>46.0</td>\n",
       "    </tr>\n",
       "    <tr>\n",
       "      <th>2</th>\n",
       "      <td>1127</td>\n",
       "      <td>Walker County</td>\n",
       "      <td>28652.0</td>\n",
       "      <td>7420.0</td>\n",
       "      <td>20722.0</td>\n",
       "      <td>510.0</td>\n",
       "      <td>28497.0</td>\n",
       "      <td>6551.0</td>\n",
       "      <td>21633.0</td>\n",
       "      <td>313.0</td>\n",
       "      <td>...</td>\n",
       "      <td>1041.0</td>\n",
       "      <td>919.0</td>\n",
       "      <td>987.0</td>\n",
       "      <td>1570.0</td>\n",
       "      <td>2209.0</td>\n",
       "      <td>1819.0</td>\n",
       "      <td>1210.0</td>\n",
       "      <td>745.0</td>\n",
       "      <td>437.0</td>\n",
       "      <td>339.0</td>\n",
       "    </tr>\n",
       "    <tr>\n",
       "      <th>3</th>\n",
       "      <td>48389</td>\n",
       "      <td>Reeves County</td>\n",
       "      <td>3077.0</td>\n",
       "      <td>1606.0</td>\n",
       "      <td>1445.0</td>\n",
       "      <td>26.0</td>\n",
       "      <td>2867.0</td>\n",
       "      <td>1649.0</td>\n",
       "      <td>1185.0</td>\n",
       "      <td>33.0</td>\n",
       "      <td>...</td>\n",
       "      <td>96.0</td>\n",
       "      <td>119.0</td>\n",
       "      <td>75.0</td>\n",
       "      <td>213.0</td>\n",
       "      <td>320.0</td>\n",
       "      <td>350.0</td>\n",
       "      <td>188.0</td>\n",
       "      <td>69.0</td>\n",
       "      <td>64.0</td>\n",
       "      <td>79.0</td>\n",
       "    </tr>\n",
       "    <tr>\n",
       "      <th>4</th>\n",
       "      <td>56017</td>\n",
       "      <td>Hot Springs County</td>\n",
       "      <td>2546.0</td>\n",
       "      <td>619.0</td>\n",
       "      <td>1834.0</td>\n",
       "      <td>93.0</td>\n",
       "      <td>2495.0</td>\n",
       "      <td>523.0</td>\n",
       "      <td>1894.0</td>\n",
       "      <td>78.0</td>\n",
       "      <td>...</td>\n",
       "      <td>50.0</td>\n",
       "      <td>69.0</td>\n",
       "      <td>84.0</td>\n",
       "      <td>122.0</td>\n",
       "      <td>234.0</td>\n",
       "      <td>112.0</td>\n",
       "      <td>148.0</td>\n",
       "      <td>89.0</td>\n",
       "      <td>36.0</td>\n",
       "      <td>58.0</td>\n",
       "    </tr>\n",
       "  </tbody>\n",
       "</table>\n",
       "<p>5 rows × 134 columns</p>\n",
       "</div>"
      ],
      "text/plain": [
       "   fips_code              county  total_2008  dem_2008  gop_2008  oth_2008  \\\n",
       "0      26041        Delta County     19064.0    9974.0    8763.0     327.0   \n",
       "1      48295     Lipscomb County      1256.0     155.0    1093.0       8.0   \n",
       "2       1127       Walker County     28652.0    7420.0   20722.0     510.0   \n",
       "3      48389       Reeves County      3077.0    1606.0    1445.0      26.0   \n",
       "4      56017  Hot Springs County      2546.0     619.0    1834.0      93.0   \n",
       "\n",
       "   total_2012  dem_2012  gop_2012  oth_2012          ...           \\\n",
       "0     18043.0    8330.0    9533.0     180.0          ...            \n",
       "1      1168.0     119.0    1044.0       5.0          ...            \n",
       "2     28497.0    6551.0   21633.0     313.0          ...            \n",
       "3      2867.0    1649.0    1185.0      33.0          ...            \n",
       "4      2495.0     523.0    1894.0      78.0          ...            \n",
       "\n",
       "   Family Income 35-40K  Family Income 40-45K  Family Income 45-50K  \\\n",
       "0                 453.0                 572.0                 528.0   \n",
       "1                  20.0                  29.0                  33.0   \n",
       "2                1041.0                 919.0                 987.0   \n",
       "3                  96.0                 119.0                  75.0   \n",
       "4                  50.0                  69.0                  84.0   \n",
       "\n",
       "   Family Income 50-60K  Family Income 60-75K  Family Income 75-100K  \\\n",
       "0                1217.0                1261.0                 1697.0   \n",
       "1                  79.0                 123.0                  116.0   \n",
       "2                1570.0                2209.0                 1819.0   \n",
       "3                 213.0                 320.0                  350.0   \n",
       "4                 122.0                 234.0                  112.0   \n",
       "\n",
       "   Family Income 100-125K  Family Income 125-150K  Family Income 150-200K  \\\n",
       "0                   623.0                   401.0                   234.0   \n",
       "1                    91.0                    54.0                    56.0   \n",
       "2                  1210.0                   745.0                   437.0   \n",
       "3                   188.0                    69.0                    64.0   \n",
       "4                   148.0                    89.0                    36.0   \n",
       "\n",
       "   Family Income > 200K  \n",
       "0                  96.0  \n",
       "1                  46.0  \n",
       "2                 339.0  \n",
       "3                  79.0  \n",
       "4                  58.0  \n",
       "\n",
       "[5 rows x 134 columns]"
      ]
     },
     "execution_count": 123,
     "metadata": {},
     "output_type": "execute_result"
    }
   ],
   "source": [
    "data.head()"
   ]
  },
  {
   "cell_type": "code",
   "execution_count": 126,
   "metadata": {
    "collapsed": true
   },
   "outputs": [],
   "source": [
    "X = data.ix[:, 14:]"
   ]
  },
  {
   "cell_type": "code",
   "execution_count": 130,
   "metadata": {
    "collapsed": false
   },
   "outputs": [
    {
     "data": {
      "text/html": [
       "<div>\n",
       "<table border=\"1\" class=\"dataframe\">\n",
       "  <thead>\n",
       "    <tr style=\"text-align: right;\">\n",
       "      <th></th>\n",
       "      <th># of Housing Units</th>\n",
       "      <th># White</th>\n",
       "      <th># White Male</th>\n",
       "      <th># White Female</th>\n",
       "      <th># Black</th>\n",
       "      <th># Black Male</th>\n",
       "      <th># Black Female</th>\n",
       "      <th># White Not Hispanic</th>\n",
       "      <th># White Not Hispanis Male</th>\n",
       "      <th># White Not Hispanis Female</th>\n",
       "      <th>...</th>\n",
       "      <th>Family Income 35-40K</th>\n",
       "      <th>Family Income 40-45K</th>\n",
       "      <th>Family Income 45-50K</th>\n",
       "      <th>Family Income 50-60K</th>\n",
       "      <th>Family Income 60-75K</th>\n",
       "      <th>Family Income 75-100K</th>\n",
       "      <th>Family Income 100-125K</th>\n",
       "      <th>Family Income 125-150K</th>\n",
       "      <th>Family Income 150-200K</th>\n",
       "      <th>Family Income &gt; 200K</th>\n",
       "    </tr>\n",
       "  </thead>\n",
       "  <tbody>\n",
       "    <tr>\n",
       "      <th>0</th>\n",
       "      <td>3040.0</td>\n",
       "      <td>34754.0</td>\n",
       "      <td>17231.0</td>\n",
       "      <td>17523.0</td>\n",
       "      <td>121.0</td>\n",
       "      <td>60.0</td>\n",
       "      <td>61.0</td>\n",
       "      <td>34581.0</td>\n",
       "      <td>17137.0</td>\n",
       "      <td>17444.0</td>\n",
       "      <td>...</td>\n",
       "      <td>453.0</td>\n",
       "      <td>572.0</td>\n",
       "      <td>528.0</td>\n",
       "      <td>1217.0</td>\n",
       "      <td>1261.0</td>\n",
       "      <td>1697.0</td>\n",
       "      <td>623.0</td>\n",
       "      <td>401.0</td>\n",
       "      <td>234.0</td>\n",
       "      <td>96.0</td>\n",
       "    </tr>\n",
       "    <tr>\n",
       "      <th>1</th>\n",
       "      <td>478.0</td>\n",
       "      <td>2980.0</td>\n",
       "      <td>1577.0</td>\n",
       "      <td>1403.0</td>\n",
       "      <td>17.0</td>\n",
       "      <td>8.0</td>\n",
       "      <td>9.0</td>\n",
       "      <td>2361.0</td>\n",
       "      <td>1194.0</td>\n",
       "      <td>1167.0</td>\n",
       "      <td>...</td>\n",
       "      <td>20.0</td>\n",
       "      <td>29.0</td>\n",
       "      <td>33.0</td>\n",
       "      <td>79.0</td>\n",
       "      <td>123.0</td>\n",
       "      <td>116.0</td>\n",
       "      <td>91.0</td>\n",
       "      <td>54.0</td>\n",
       "      <td>56.0</td>\n",
       "      <td>46.0</td>\n",
       "    </tr>\n",
       "    <tr>\n",
       "      <th>2</th>\n",
       "      <td>2700.0</td>\n",
       "      <td>60224.0</td>\n",
       "      <td>29335.0</td>\n",
       "      <td>30889.0</td>\n",
       "      <td>3764.0</td>\n",
       "      <td>1781.0</td>\n",
       "      <td>1983.0</td>\n",
       "      <td>59498.0</td>\n",
       "      <td>28884.0</td>\n",
       "      <td>30614.0</td>\n",
       "      <td>...</td>\n",
       "      <td>1041.0</td>\n",
       "      <td>919.0</td>\n",
       "      <td>987.0</td>\n",
       "      <td>1570.0</td>\n",
       "      <td>2209.0</td>\n",
       "      <td>1819.0</td>\n",
       "      <td>1210.0</td>\n",
       "      <td>745.0</td>\n",
       "      <td>437.0</td>\n",
       "      <td>339.0</td>\n",
       "    </tr>\n",
       "    <tr>\n",
       "      <th>3</th>\n",
       "      <td>556.0</td>\n",
       "      <td>11899.0</td>\n",
       "      <td>6966.0</td>\n",
       "      <td>4933.0</td>\n",
       "      <td>750.0</td>\n",
       "      <td>578.0</td>\n",
       "      <td>172.0</td>\n",
       "      <td>2677.0</td>\n",
       "      <td>1795.0</td>\n",
       "      <td>882.0</td>\n",
       "      <td>...</td>\n",
       "      <td>96.0</td>\n",
       "      <td>119.0</td>\n",
       "      <td>75.0</td>\n",
       "      <td>213.0</td>\n",
       "      <td>320.0</td>\n",
       "      <td>350.0</td>\n",
       "      <td>188.0</td>\n",
       "      <td>69.0</td>\n",
       "      <td>64.0</td>\n",
       "      <td>79.0</td>\n",
       "    </tr>\n",
       "    <tr>\n",
       "      <th>4</th>\n",
       "      <td>326.0</td>\n",
       "      <td>4661.0</td>\n",
       "      <td>2298.0</td>\n",
       "      <td>2363.0</td>\n",
       "      <td>12.0</td>\n",
       "      <td>1.0</td>\n",
       "      <td>11.0</td>\n",
       "      <td>4535.0</td>\n",
       "      <td>2247.0</td>\n",
       "      <td>2288.0</td>\n",
       "      <td>...</td>\n",
       "      <td>50.0</td>\n",
       "      <td>69.0</td>\n",
       "      <td>84.0</td>\n",
       "      <td>122.0</td>\n",
       "      <td>234.0</td>\n",
       "      <td>112.0</td>\n",
       "      <td>148.0</td>\n",
       "      <td>89.0</td>\n",
       "      <td>36.0</td>\n",
       "      <td>58.0</td>\n",
       "    </tr>\n",
       "  </tbody>\n",
       "</table>\n",
       "<p>5 rows × 120 columns</p>\n",
       "</div>"
      ],
      "text/plain": [
       "   # of Housing Units  # White  # White Male  # White Female  # Black  \\\n",
       "0              3040.0  34754.0       17231.0         17523.0    121.0   \n",
       "1               478.0   2980.0        1577.0          1403.0     17.0   \n",
       "2              2700.0  60224.0       29335.0         30889.0   3764.0   \n",
       "3               556.0  11899.0        6966.0          4933.0    750.0   \n",
       "4               326.0   4661.0        2298.0          2363.0     12.0   \n",
       "\n",
       "   # Black Male  # Black Female  # White Not Hispanic  \\\n",
       "0          60.0            61.0               34581.0   \n",
       "1           8.0             9.0                2361.0   \n",
       "2        1781.0          1983.0               59498.0   \n",
       "3         578.0           172.0                2677.0   \n",
       "4           1.0            11.0                4535.0   \n",
       "\n",
       "   # White Not Hispanis Male  # White Not Hispanis Female  \\\n",
       "0                    17137.0                      17444.0   \n",
       "1                     1194.0                       1167.0   \n",
       "2                    28884.0                      30614.0   \n",
       "3                     1795.0                        882.0   \n",
       "4                     2247.0                       2288.0   \n",
       "\n",
       "           ...           Family Income 35-40K  Family Income 40-45K  \\\n",
       "0          ...                          453.0                 572.0   \n",
       "1          ...                           20.0                  29.0   \n",
       "2          ...                         1041.0                 919.0   \n",
       "3          ...                           96.0                 119.0   \n",
       "4          ...                           50.0                  69.0   \n",
       "\n",
       "   Family Income 45-50K  Family Income 50-60K  Family Income 60-75K  \\\n",
       "0                 528.0                1217.0                1261.0   \n",
       "1                  33.0                  79.0                 123.0   \n",
       "2                 987.0                1570.0                2209.0   \n",
       "3                  75.0                 213.0                 320.0   \n",
       "4                  84.0                 122.0                 234.0   \n",
       "\n",
       "   Family Income 75-100K  Family Income 100-125K  Family Income 125-150K  \\\n",
       "0                 1697.0                   623.0                   401.0   \n",
       "1                  116.0                    91.0                    54.0   \n",
       "2                 1819.0                  1210.0                   745.0   \n",
       "3                  350.0                   188.0                    69.0   \n",
       "4                  112.0                   148.0                    89.0   \n",
       "\n",
       "   Family Income 150-200K  Family Income > 200K  \n",
       "0                   234.0                  96.0  \n",
       "1                    56.0                  46.0  \n",
       "2                   437.0                 339.0  \n",
       "3                    64.0                  79.0  \n",
       "4                    36.0                  58.0  \n",
       "\n",
       "[5 rows x 120 columns]"
      ]
     },
     "execution_count": 130,
     "metadata": {},
     "output_type": "execute_result"
    }
   ],
   "source": [
    "X.head()"
   ]
  },
  {
   "cell_type": "code",
   "execution_count": 135,
   "metadata": {
    "collapsed": false
   },
   "outputs": [],
   "source": [
    "del X[\"Population\"]"
   ]
  },
  {
   "cell_type": "code",
   "execution_count": 147,
   "metadata": {
    "collapsed": false
   },
   "outputs": [],
   "source": [
    "X = X.apply(lambda x: x / data[\"Population\"])"
   ]
  },
  {
   "cell_type": "code",
   "execution_count": 148,
   "metadata": {
    "collapsed": false
   },
   "outputs": [],
   "source": [
    "voter_turn_out = data[\"total_2016\"] - data[\"total_2012\"]"
   ]
  },
  {
   "cell_type": "code",
   "execution_count": 149,
   "metadata": {
    "collapsed": false
   },
   "outputs": [],
   "source": [
    "from sklearn.linear_model import LinearRegression"
   ]
  },
  {
   "cell_type": "code",
   "execution_count": 105,
   "metadata": {
    "collapsed": true
   },
   "outputs": [],
   "source": []
  },
  {
   "cell_type": "code",
   "execution_count": 150,
   "metadata": {
    "collapsed": false
   },
   "outputs": [
    {
     "data": {
      "text/plain": [
       "(2628, 119)"
      ]
     },
     "execution_count": 150,
     "metadata": {},
     "output_type": "execute_result"
    }
   ],
   "source": [
    "X.shape"
   ]
  },
  {
   "cell_type": "code",
   "execution_count": 158,
   "metadata": {
    "collapsed": false
   },
   "outputs": [],
   "source": [
    "linear = LinearRegression()"
   ]
  },
  {
   "cell_type": "code",
   "execution_count": 159,
   "metadata": {
    "collapsed": false
   },
   "outputs": [
    {
     "data": {
      "text/plain": [
       "LinearRegression(copy_X=True, fit_intercept=True, n_jobs=1, normalize=False)"
      ]
     },
     "execution_count": 159,
     "metadata": {},
     "output_type": "execute_result"
    }
   ],
   "source": [
    "linear.fit(X, voter_turn_out)"
   ]
  },
  {
   "cell_type": "code",
   "execution_count": 160,
   "metadata": {
    "collapsed": false,
    "scrolled": true
   },
   "outputs": [
    {
     "name": "stdout",
     "output_type": "stream",
     "text": [
      "('Median Age Male', 3527386.0299658948)\n",
      "('Median Age Female', 1490393.5966894927)\n",
      "('Rail Road', 881437.66146147694)\n",
      "('Family Income > 200K', 304990.08713594591)\n",
      "('Moved From Abroad White', 267502.00375204743)\n",
      "('HS or equal', 265866.51162106113)\n",
      "('Total Moving White', 258568.70454609708)\n",
      "('Other State-Bachelor', 249590.51199860801)\n",
      "('Graduate', 245747.16516818199)\n",
      "('Family Income 125-150K', 228419.92306020926)\n",
      "('Family Income 150-200K', 225019.83121520071)\n",
      "('No Vehicle Owned', 222998.41806845431)\n",
      "('In State-Less than HS', 213484.41168846484)\n",
      "('Family Income 100-125K', 209364.59985931509)\n",
      "('Other State-Less than HS', 172594.16588157462)\n",
      "('In State-Bachelor', 163692.91933648489)\n",
      "('Family Income 75-100K', 136615.99178435892)\n",
      "('Public Transportation', 104600.14325030538)\n",
      "('Income < 10K', 92003.62800139327)\n",
      "('Family Income 60-75K', 84445.569386091054)\n",
      "('Other State-Some College', 81802.963755326578)\n",
      "('In State-Some College', 81211.617145977856)\n",
      "('# Male', 70939.649665328761)\n",
      "('Total Reporing 0 Income', 62977.643640808295)\n",
      "('2 vehicles', 58690.10396928736)\n",
      "('1 vehicle', 56313.203408832196)\n",
      "('Total In Poverty Pool', 56136.953273280291)\n",
      "('Moved From Different State', 55850.787972176651)\n",
      "('# Black Female', 54708.182004928152)\n",
      "('# White Female', 43658.013546311049)\n",
      "('Income 15-25K', 43223.065082972724)\n",
      "('Total Reporting Income', 38872.828784319689)\n",
      "('Moved Within County White', 38664.564327281027)\n",
      "('Family Income 40-45K', 36890.498005008674)\n",
      "('Work at Home', 36849.565431972733)\n",
      "('100% below povery line', 36457.865028111031)\n",
      "('Moved Within Same State White', 33128.669010704616)\n",
      "('Income 25-35K', 30166.719216452446)\n",
      "('Education Count', 27607.410222909974)\n",
      "('3 vehicles', 27359.680615825579)\n",
      "('# White Not Hispanis Male', 23611.204910852332)\n",
      "('Income 10-15K', 23062.074355275603)\n",
      "('Income 35-50K', 20734.788253280858)\n",
      "('Same house 1 year ago', 19949.663069255417)\n",
      "('Family Income 50-60K', 14065.731406431121)\n",
      "('Drive Alone', 13879.413394815347)\n",
      "('5 or more vehicles', 12834.069515507086)\n",
      "('1-1.5X of poverty line', 11601.256755220704)\n",
      "('# of Housing Units', 10684.61754679974)\n",
      "('At above 150% poverty line', 8077.8314909676556)\n",
      "('Family Income 25-30K', 8032.8369792546)\n",
      "('4 vehicles', 6586.5528825917281)\n",
      "('Family Income 10-15K', 5804.8551049151429)\n",
      "('Work in State', 5187.6552739000181)\n",
      "('Foreign Born below 100% poverty', 4483.0110897222185)\n",
      "('# Hispanic Female', 4316.04216420171)\n",
      "('Work in County', 3621.1192578535411)\n",
      "('# Black', 3069.3229529590581)\n",
      "('Work outside County', 1566.536016710219)\n",
      "('Median Income', 833.90387975529302)\n",
      "('Median Income Foreign Born', 207.00625518523157)\n",
      "('Median Income Born In State', 154.91640627523884)\n",
      "('Median Income Born Outside US: Native', 20.597368171031121)\n",
      "('Family Income < 10K', -1122.1369627434469)\n",
      "('Family Income 20-25K', -1226.5453780963289)\n",
      "('Median Income Born Other State', -1234.9574718028307)\n",
      "('Family Income 30-35K', -1395.7365155121661)\n",
      "('Family Income 45-50K', -5056.3895339143492)\n",
      "('# Hispanic', -16807.973782786117)\n",
      "('Same house 1 year ago White', -19210.082276761794)\n",
      "('Total Means of Transportation Work', -19721.934778566152)\n",
      "('Born Other State at/above 1.5X poverty line', -20612.36355607002)\n",
      "('# Hispanic Male', -21124.015947832355)\n",
      "('Moved Within County', -21626.536424387945)\n",
      "('Foreign Born 1-1.5X of poverty line', -23397.322444192483)\n",
      "('Work by car: truck: van', -23820.997928099823)\n",
      "('Total Reporting with Income', -24104.814857132966)\n",
      "('Work outside State', -24909.590053356951)\n",
      "('# White Not Hispanic', -26794.025491268912)\n",
      "('Separated', -27514.373212030572)\n",
      "('Income 50-65K', -28975.317503691243)\n",
      "('Moved Within Same State', -33465.184411893133)\n",
      "('Foreign Born at/above 1.5X poverty line', -36889.024940506788)\n",
      "('Divorced', -37299.792854170875)\n",
      "('Total Born In State education', -37546.446842534082)\n",
      "('Car pooled', -37700.411323854118)\n",
      "('Citizen: born in US', -42198.504336275975)\n",
      "('# White Not Hispanis Female', -50405.23040224037)\n",
      "('Family Income 35-40K', -51169.15446491116)\n",
      "('# Black Male', -51638.859050843246)\n",
      "('Born Other State 1-1.5X of poverty line', -54056.415349377639)\n",
      "('Born In State at/above 1.5X poverty line', -56580.736702636001)\n",
      "('Currently Married', -57128.798014002052)\n",
      "('Moved From Different State White', -61516.450268284651)\n",
      "('Born In State 1-1.5X of poverty line', -62234.30142784302)\n",
      "('Born in Other State Education', -67023.218866435811)\n",
      "('Citizen by Naturalization', -68294.658002564291)\n",
      "('Foreign born naturalized', -68294.658002662036)\n",
      "('# Female', -70939.649665181423)\n",
      "('Never Married', -73385.07367710078)\n",
      "('Some College-AA', -81566.285070310827)\n",
      "('Walked', -84612.598506448208)\n",
      "('Income 65-75K', -85082.441188446479)\n",
      "('Born In State below 100% poverty', -96948.066401189426)\n",
      "('Born Other State below 100% poverty', -99772.293683711207)\n",
      "('Income > 75K', -119237.33107505157)\n",
      "('# White', -130426.29150621012)\n",
      "('# White Male', -174084.30506550585)\n",
      "('Bachelor', -188323.64846542684)\n",
      "('Total Moving', -190125.40137798502)\n",
      "('Moved From Abroad', -210834.13158236735)\n",
      "('Less Than HS', -214116.33303281659)\n",
      "('In State-Graduate', -229602.065484083)\n",
      "('Other State-HS or equal', -239488.10958177471)\n",
      "('In State-HS or equal', -266333.32952990767)\n",
      "('Bicycle', -273655.57626573544)\n",
      "('Ferry Boat', -307226.93080449919)\n",
      "('Other State-Graduate', -331522.7509196091)\n",
      "('Median Age', -5011143.8619590644)\n"
     ]
    }
   ],
   "source": [
    "for name, val in sorted(zip(X.columns, linear.coef_), key=lambda x: x[1], reverse=True):\n",
    "    print((name, val))"
   ]
  },
  {
   "cell_type": "code",
   "execution_count": null,
   "metadata": {
    "collapsed": true
   },
   "outputs": [],
   "source": []
  },
  {
   "cell_type": "code",
   "execution_count": 161,
   "metadata": {
    "collapsed": true
   },
   "outputs": [],
   "source": [
    "from sklearn.linear_model import LassoCV"
   ]
  },
  {
   "cell_type": "code",
   "execution_count": 162,
   "metadata": {
    "collapsed": true
   },
   "outputs": [],
   "source": [
    "lasso = LassoCV()"
   ]
  },
  {
   "cell_type": "code",
   "execution_count": 164,
   "metadata": {
    "collapsed": false
   },
   "outputs": [
    {
     "name": "stderr",
     "output_type": "stream",
     "text": [
      "/opt/conda/lib/python3.5/site-packages/sklearn/linear_model/coordinate_descent.py:479: ConvergenceWarning: Objective did not converge. You might want to increase the number of iterations. Fitting data with very small alpha may cause precision problems.\n",
      "  ConvergenceWarning)\n"
     ]
    },
    {
     "data": {
      "text/plain": [
       "LassoCV(alphas=None, copy_X=True, cv=None, eps=0.001, fit_intercept=True,\n",
       "    max_iter=1000, n_alphas=100, n_jobs=1, normalize=False, positive=False,\n",
       "    precompute='auto', random_state=None, selection='cyclic', tol=0.0001,\n",
       "    verbose=False)"
      ]
     },
     "execution_count": 164,
     "metadata": {},
     "output_type": "execute_result"
    }
   ],
   "source": [
    "lasso.fit(X, voter_turn_out)"
   ]
  },
  {
   "cell_type": "code",
   "execution_count": 169,
   "metadata": {
    "collapsed": true
   },
   "outputs": [],
   "source": [
    "keep_vars = []\n",
    "\n",
    "for name, val in zip(X.columns, lasso.coef_):    \n",
    "    if val != 0:\n",
    "        keep_vars.append(name)"
   ]
  },
  {
   "cell_type": "code",
   "execution_count": null,
   "metadata": {
    "collapsed": true
   },
   "outputs": [],
   "source": []
  },
  {
   "cell_type": "code",
   "execution_count": 170,
   "metadata": {
    "collapsed": true
   },
   "outputs": [],
   "source": [
    "linear = LinearRegression()"
   ]
  },
  {
   "cell_type": "code",
   "execution_count": 171,
   "metadata": {
    "collapsed": false
   },
   "outputs": [
    {
     "data": {
      "text/plain": [
       "LinearRegression(copy_X=True, fit_intercept=True, n_jobs=1, normalize=False)"
      ]
     },
     "execution_count": 171,
     "metadata": {},
     "output_type": "execute_result"
    }
   ],
   "source": [
    "linear.fit(X[keep_vars], y)"
   ]
  },
  {
   "cell_type": "code",
   "execution_count": 172,
   "metadata": {
    "collapsed": false
   },
   "outputs": [
    {
     "name": "stdout",
     "output_type": "stream",
     "text": [
      "('Other State-Less than HS', 153835.48684836502)\n",
      "('# Hispanic Male', 104398.6050783024)\n",
      "('Total Reporting Income', 97516.669941037922)\n",
      "('Other State-Bachelor', 78723.800301144423)\n",
      "('# Female', 76520.067351112346)\n",
      "('In State-Some College', 74757.104745037039)\n",
      "('Other State-Graduate', 67699.326989439491)\n",
      "('Other State-Some College', 57047.995538552721)\n",
      "('# Hispanic Female', 48568.23806044356)\n",
      "('Median Age Male', 43713.529341899753)\n",
      "('Other State-HS or equal', 42556.725064011342)\n",
      "('In State-HS or equal', 34664.628344767858)\n",
      "('Divorced', 34210.787776993282)\n",
      "('# of Housing Units', 32481.828833846601)\n",
      "('Graduate', 27934.96635801471)\n",
      "('Median Age Female', 14719.334554924908)\n",
      "('# White Male', 12019.596271139255)\n",
      "('In State-Graduate', 8485.3685540876395)\n",
      "('Median Age', 7247.5357488882382)\n",
      "('# Black', 5560.9469048359624)\n",
      "('# Black Male', 4548.8297617578401)\n",
      "('Some College-AA', 3451.4785371167895)\n",
      "('Bachelor', 1396.1108441553417)\n",
      "('Citizen by Naturalization', 414.53045064552731)\n",
      "('Never Married', 46.910726509620964)\n",
      "('Currently Married', 33.860701001947525)\n",
      "('Citizen: born in US', -17.324386043263846)\n",
      "('Foreign born naturalized', -421.68509249390979)\n",
      "('Born in Other State Education', -1624.6758759818833)\n",
      "('# Male', -3260.4574348199767)\n",
      "('# White Female', -13296.711918547271)\n",
      "('Separated', -19576.018044213808)\n",
      "('# White', -23504.739459924207)\n",
      "('# Hispanic', -35772.197299720385)\n",
      "('Total Born In State education', -37900.758789068692)\n",
      "('# Black Female', -38463.827845670843)\n",
      "('HS or equal', -45573.36695198065)\n",
      "('In State-Less than HS', -51647.116215721886)\n",
      "('Less Than HS', -56621.490293575669)\n",
      "('Education Count', -60718.090703985799)\n",
      "('# White Not Hispanic', -65890.386770922851)\n",
      "('# White Not Hispanis Female', -73330.525098966551)\n",
      "('In State-Bachelor', -105562.19170057398)\n",
      "('# White Not Hispanis Male', -105931.74888735462)\n"
     ]
    }
   ],
   "source": [
    "for name, val in sorted(zip(X.columns, linear.coef_), key=lambda x: x[1], reverse=True):\n",
    "    if val != 0:\n",
    "        print((name, val))"
   ]
  },
  {
   "cell_type": "markdown",
   "metadata": {},
   "source": [
    "How some of these can be interpretted.\n",
    "\n",
    "('# Female', 76520.067351112346)\n",
    "\n",
    "After adjusting for other predictors, each 1% increase in the number of females in a county is associated with an increase in the mean voter turn out from 2012 to 2016 by 76520 voters."
   ]
  },
  {
   "cell_type": "code",
   "execution_count": null,
   "metadata": {
    "collapsed": true
   },
   "outputs": [],
   "source": []
  },
  {
   "cell_type": "code",
   "execution_count": null,
   "metadata": {
    "collapsed": true
   },
   "outputs": [],
   "source": []
  },
  {
   "cell_type": "code",
   "execution_count": null,
   "metadata": {
    "collapsed": true
   },
   "outputs": [],
   "source": []
  },
  {
   "cell_type": "code",
   "execution_count": null,
   "metadata": {
    "collapsed": true
   },
   "outputs": [],
   "source": []
  },
  {
   "cell_type": "code",
   "execution_count": 91,
   "metadata": {
    "collapsed": false
   },
   "outputs": [],
   "source": [
    "diff_voting_2012 = data[\"dem_2012\"] - data[\"gop_2012\"]\n",
    "diff_voting_2016 = data[\"dem_2016\"] - data[\"gop_2016\"]\n",
    "\n",
    "y = diff_voting_2016 - diff_voting_2012"
   ]
  },
  {
   "cell_type": "code",
   "execution_count": 99,
   "metadata": {
    "collapsed": true
   },
   "outputs": [],
   "source": [
    "ratio_2012 = data[\"dem_2012\"] / data[\"total_2012\"] - 0.5\n",
    "ratio_2016 = data[\"dem_2016\"] / data[\"total_2016\"] - 0.5\n",
    "\n",
    "ratio_change = diff_voting_2016 - diff_voting_2012"
   ]
  }
 ],
 "metadata": {
  "kernelspec": {
   "display_name": "Python 3",
   "language": "python",
   "name": "python3"
  },
  "language_info": {
   "codemirror_mode": {
    "name": "ipython",
    "version": 3
   },
   "file_extension": ".py",
   "mimetype": "text/x-python",
   "name": "python",
   "nbconvert_exporter": "python",
   "pygments_lexer": "ipython3",
   "version": "3.5.2"
  }
 },
 "nbformat": 4,
 "nbformat_minor": 1
}
