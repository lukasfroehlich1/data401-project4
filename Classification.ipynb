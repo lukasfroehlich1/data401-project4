{
 "cells": [
  {
   "cell_type": "code",
   "execution_count": 1,
   "metadata": {
    "collapsed": true
   },
   "outputs": [],
   "source": [
    "import pandas as pd\n",
    "import numpy as np\n",
    "import pickle"
   ]
  },
  {
   "cell_type": "code",
   "execution_count": 3,
   "metadata": {
    "collapsed": true
   },
   "outputs": [],
   "source": [
    "f = open(\"./final_data.p\", \"rb\")\n",
    "data = pickle.load(f)"
   ]
  },
  {
   "cell_type": "code",
   "execution_count": null,
   "metadata": {
    "collapsed": true
   },
   "outputs": [],
   "source": []
  },
  {
   "cell_type": "code",
   "execution_count": 5,
   "metadata": {
    "collapsed": false
   },
   "outputs": [
    {
     "data": {
      "text/html": [
       "<div>\n",
       "<table border=\"1\" class=\"dataframe\">\n",
       "  <thead>\n",
       "    <tr style=\"text-align: right;\">\n",
       "      <th></th>\n",
       "      <th>fips_code</th>\n",
       "      <th>county</th>\n",
       "      <th>total_2008</th>\n",
       "      <th>dem_2008</th>\n",
       "      <th>gop_2008</th>\n",
       "      <th>oth_2008</th>\n",
       "      <th>total_2012</th>\n",
       "      <th>dem_2012</th>\n",
       "      <th>gop_2012</th>\n",
       "      <th>oth_2012</th>\n",
       "      <th>...</th>\n",
       "      <th>Family Income 35-40K</th>\n",
       "      <th>Family Income 40-45K</th>\n",
       "      <th>Family Income 45-50K</th>\n",
       "      <th>Family Income 50-60K</th>\n",
       "      <th>Family Income 60-75K</th>\n",
       "      <th>Family Income 75-100K</th>\n",
       "      <th>Family Income 100-125K</th>\n",
       "      <th>Family Income 125-150K</th>\n",
       "      <th>Family Income 150-200K</th>\n",
       "      <th>Family Income &gt; 200K</th>\n",
       "    </tr>\n",
       "  </thead>\n",
       "  <tbody>\n",
       "    <tr>\n",
       "      <th>0</th>\n",
       "      <td>26041</td>\n",
       "      <td>Delta County</td>\n",
       "      <td>19064.0</td>\n",
       "      <td>9974.0</td>\n",
       "      <td>8763.0</td>\n",
       "      <td>327.0</td>\n",
       "      <td>18043.0</td>\n",
       "      <td>8330.0</td>\n",
       "      <td>9533.0</td>\n",
       "      <td>180.0</td>\n",
       "      <td>...</td>\n",
       "      <td>453.0</td>\n",
       "      <td>572.0</td>\n",
       "      <td>528.0</td>\n",
       "      <td>1217.0</td>\n",
       "      <td>1261.0</td>\n",
       "      <td>1697.0</td>\n",
       "      <td>623.0</td>\n",
       "      <td>401.0</td>\n",
       "      <td>234.0</td>\n",
       "      <td>96.0</td>\n",
       "    </tr>\n",
       "    <tr>\n",
       "      <th>1</th>\n",
       "      <td>48295</td>\n",
       "      <td>Lipscomb County</td>\n",
       "      <td>1256.0</td>\n",
       "      <td>155.0</td>\n",
       "      <td>1093.0</td>\n",
       "      <td>8.0</td>\n",
       "      <td>1168.0</td>\n",
       "      <td>119.0</td>\n",
       "      <td>1044.0</td>\n",
       "      <td>5.0</td>\n",
       "      <td>...</td>\n",
       "      <td>20.0</td>\n",
       "      <td>29.0</td>\n",
       "      <td>33.0</td>\n",
       "      <td>79.0</td>\n",
       "      <td>123.0</td>\n",
       "      <td>116.0</td>\n",
       "      <td>91.0</td>\n",
       "      <td>54.0</td>\n",
       "      <td>56.0</td>\n",
       "      <td>46.0</td>\n",
       "    </tr>\n",
       "    <tr>\n",
       "      <th>2</th>\n",
       "      <td>1127</td>\n",
       "      <td>Walker County</td>\n",
       "      <td>28652.0</td>\n",
       "      <td>7420.0</td>\n",
       "      <td>20722.0</td>\n",
       "      <td>510.0</td>\n",
       "      <td>28497.0</td>\n",
       "      <td>6551.0</td>\n",
       "      <td>21633.0</td>\n",
       "      <td>313.0</td>\n",
       "      <td>...</td>\n",
       "      <td>1041.0</td>\n",
       "      <td>919.0</td>\n",
       "      <td>987.0</td>\n",
       "      <td>1570.0</td>\n",
       "      <td>2209.0</td>\n",
       "      <td>1819.0</td>\n",
       "      <td>1210.0</td>\n",
       "      <td>745.0</td>\n",
       "      <td>437.0</td>\n",
       "      <td>339.0</td>\n",
       "    </tr>\n",
       "    <tr>\n",
       "      <th>3</th>\n",
       "      <td>48389</td>\n",
       "      <td>Reeves County</td>\n",
       "      <td>3077.0</td>\n",
       "      <td>1606.0</td>\n",
       "      <td>1445.0</td>\n",
       "      <td>26.0</td>\n",
       "      <td>2867.0</td>\n",
       "      <td>1649.0</td>\n",
       "      <td>1185.0</td>\n",
       "      <td>33.0</td>\n",
       "      <td>...</td>\n",
       "      <td>96.0</td>\n",
       "      <td>119.0</td>\n",
       "      <td>75.0</td>\n",
       "      <td>213.0</td>\n",
       "      <td>320.0</td>\n",
       "      <td>350.0</td>\n",
       "      <td>188.0</td>\n",
       "      <td>69.0</td>\n",
       "      <td>64.0</td>\n",
       "      <td>79.0</td>\n",
       "    </tr>\n",
       "    <tr>\n",
       "      <th>4</th>\n",
       "      <td>56017</td>\n",
       "      <td>Hot Springs County</td>\n",
       "      <td>2546.0</td>\n",
       "      <td>619.0</td>\n",
       "      <td>1834.0</td>\n",
       "      <td>93.0</td>\n",
       "      <td>2495.0</td>\n",
       "      <td>523.0</td>\n",
       "      <td>1894.0</td>\n",
       "      <td>78.0</td>\n",
       "      <td>...</td>\n",
       "      <td>50.0</td>\n",
       "      <td>69.0</td>\n",
       "      <td>84.0</td>\n",
       "      <td>122.0</td>\n",
       "      <td>234.0</td>\n",
       "      <td>112.0</td>\n",
       "      <td>148.0</td>\n",
       "      <td>89.0</td>\n",
       "      <td>36.0</td>\n",
       "      <td>58.0</td>\n",
       "    </tr>\n",
       "  </tbody>\n",
       "</table>\n",
       "<p>5 rows × 134 columns</p>\n",
       "</div>"
      ],
      "text/plain": [
       "   fips_code              county  total_2008  dem_2008  gop_2008  oth_2008  \\\n",
       "0      26041        Delta County     19064.0    9974.0    8763.0     327.0   \n",
       "1      48295     Lipscomb County      1256.0     155.0    1093.0       8.0   \n",
       "2       1127       Walker County     28652.0    7420.0   20722.0     510.0   \n",
       "3      48389       Reeves County      3077.0    1606.0    1445.0      26.0   \n",
       "4      56017  Hot Springs County      2546.0     619.0    1834.0      93.0   \n",
       "\n",
       "   total_2012  dem_2012  gop_2012  oth_2012          ...           \\\n",
       "0     18043.0    8330.0    9533.0     180.0          ...            \n",
       "1      1168.0     119.0    1044.0       5.0          ...            \n",
       "2     28497.0    6551.0   21633.0     313.0          ...            \n",
       "3      2867.0    1649.0    1185.0      33.0          ...            \n",
       "4      2495.0     523.0    1894.0      78.0          ...            \n",
       "\n",
       "   Family Income 35-40K  Family Income 40-45K  Family Income 45-50K  \\\n",
       "0                 453.0                 572.0                 528.0   \n",
       "1                  20.0                  29.0                  33.0   \n",
       "2                1041.0                 919.0                 987.0   \n",
       "3                  96.0                 119.0                  75.0   \n",
       "4                  50.0                  69.0                  84.0   \n",
       "\n",
       "   Family Income 50-60K  Family Income 60-75K  Family Income 75-100K  \\\n",
       "0                1217.0                1261.0                 1697.0   \n",
       "1                  79.0                 123.0                  116.0   \n",
       "2                1570.0                2209.0                 1819.0   \n",
       "3                 213.0                 320.0                  350.0   \n",
       "4                 122.0                 234.0                  112.0   \n",
       "\n",
       "   Family Income 100-125K  Family Income 125-150K  Family Income 150-200K  \\\n",
       "0                   623.0                   401.0                   234.0   \n",
       "1                    91.0                    54.0                    56.0   \n",
       "2                  1210.0                   745.0                   437.0   \n",
       "3                   188.0                    69.0                    64.0   \n",
       "4                   148.0                    89.0                    36.0   \n",
       "\n",
       "   Family Income > 200K  \n",
       "0                  96.0  \n",
       "1                  46.0  \n",
       "2                 339.0  \n",
       "3                  79.0  \n",
       "4                  58.0  \n",
       "\n",
       "[5 rows x 134 columns]"
      ]
     },
     "execution_count": 5,
     "metadata": {},
     "output_type": "execute_result"
    }
   ],
   "source": [
    "data.head()"
   ]
  },
  {
   "cell_type": "code",
   "execution_count": null,
   "metadata": {
    "collapsed": true
   },
   "outputs": [],
   "source": []
  },
  {
   "cell_type": "code",
   "execution_count": null,
   "metadata": {
    "collapsed": true
   },
   "outputs": [],
   "source": [
    "X = data.ix[:, 14:]"
   ]
  },
  {
   "cell_type": "code",
   "execution_count": null,
   "metadata": {
    "collapsed": true
   },
   "outputs": [],
   "source": [
    "del X[\"Population\"]"
   ]
  },
  {
   "cell_type": "code",
   "execution_count": null,
   "metadata": {
    "collapsed": true
   },
   "outputs": [],
   "source": [
    "X = X.apply(lambda x: x / data[\"Population\"] * 100)"
   ]
  },
  {
   "cell_type": "code",
   "execution_count": 6,
   "metadata": {
    "collapsed": true
   },
   "outputs": [],
   "source": [
    "y = data[\"dem_2016\"] > data[\"gop_2016\"]"
   ]
  },
  {
   "cell_type": "code",
   "execution_count": 8,
   "metadata": {
    "collapsed": false
   },
   "outputs": [
    {
     "data": {
      "text/plain": [
       "436"
      ]
     },
     "execution_count": 8,
     "metadata": {},
     "output_type": "execute_result"
    }
   ],
   "source": [
    "y.sum()"
   ]
  }
 ],
 "metadata": {
  "kernelspec": {
   "display_name": "Python 3",
   "language": "python",
   "name": "python3"
  },
  "language_info": {
   "codemirror_mode": {
    "name": "ipython",
    "version": 3
   },
   "file_extension": ".py",
   "mimetype": "text/x-python",
   "name": "python",
   "nbconvert_exporter": "python",
   "pygments_lexer": "ipython3",
   "version": "3.5.2"
  }
 },
 "nbformat": 4,
 "nbformat_minor": 1
}
